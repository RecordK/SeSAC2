{
  "cells": [
    {
      "cell_type": "markdown",
      "metadata": {
        "id": "ijZig4LngbKl"
      },
      "source": [
        "# 머신 러닝 소개"
      ],
      "id": "ijZig4LngbKl"
    },
    {
      "cell_type": "markdown",
      "metadata": {
        "id": "bOrir1_MgbKo"
      },
      "source": [
        "# 1. 문제설정  \n",
        "\n",
        "학습 문제는 n개의 데이터 샘플 집합을 고려한 다음 알려지지 않은 데이터의 속성을 예측하려고 시도하는 것.  \n",
        "학습 문제는 몇 가지 범주로 나뉜다.\n",
        "\n",
        "1) 지도 학습   \n",
        "예측하려는 추가 속성과 함께 데이터가 제공된다. 지도학습은 다음 2가지로 또 나뉜다.  \n",
        "\n",
        "    * 분류 : 샘플은 둘 이상의 클래스에 속하며 이미 레이블이 지정된 데이터에서 레이블이 지정되지 않은 데이터의 클래스를 예측하는 학습방법. 분류 문제의 예로는 필기 숫자 인식이 있으며, 여기서 목표는 각 입력 벡터를 유한한 수의 이산 범주 중 하나에 할당하는 것. 분류를 생각하는 또 다른 방법은 제한된 수의 범주가 있고 제공된 n개의 샘플 각각에 대해 올바른 범주 또는 클래스로 레이블을 지정하는 지도 학습의 이산(연속적인 것과 반대되는) 형태.  \n",
        "  \n",
        "    *회귀 : 회귀는 입력 데이터를 통해 하나의 값을 수렴하는 문제. 회귀 문제의 예는 연어의 나이와 무게의 함수로 연어의 길이를 예측하는 것. \n",
        "  \n",
        "2) 비지도 학습( unsupervised learning )   \n",
        "훈련 데이터가 대응하는 목표 값 없이 입력 벡터 x 세트로 구성된다.  \n",
        "이러한 문제의 목표는 클러스터링(군집) 이라고 하는 데이터 내에서 유사한 예의 그룹을 발견 하거나 밀도 추정 으로 알려진 입력 공간 내의 데이터 분포를 결정 하거나 고차원에서 데이터를 투영하는 것일 수 있다.  \n",
        "  \n",
        "# 2. 훈련 데이터 준비  \n",
        "=> 훈련 세트 및 테스트 세트  \n",
        "  \n",
        "머신 러닝은 데이터 세트의 일부 속성을 학습한 다음 다른 데이터 세트에 대해 해당 속성을 테스트하는 것이다.  \n",
        "머신 러닝의 일반적인 관행은 데이터 세트를 둘로 분할하여 알고리즘을 평가한다. 이러한 세트 중 하나를 training set 이라고 부르고, 학습된 속성을 테스트 하는 다른 세트를 test set 이라고 한다.  "
      ],
      "id": "bOrir1_MgbKo"
    },
    {
      "cell_type": "markdown",
      "metadata": {
        "id": "HxdtMO-ogbKp"
      },
      "source": [
        "설치  \n",
        "pip install scikit-learn  "
      ],
      "id": "HxdtMO-ogbKp"
    },
    {
      "cell_type": "code",
      "source": [
        "!pip install scikit-learn"
      ],
      "metadata": {
        "colab": {
          "base_uri": "https://localhost:8080/"
        },
        "id": "QCzTdeyCorkW",
        "outputId": "4a0ad35c-9b76-4443-e248-3b3a70e2e22f"
      },
      "id": "QCzTdeyCorkW",
      "execution_count": 3,
      "outputs": [
        {
          "output_type": "stream",
          "name": "stdout",
          "text": [
            "Requirement already satisfied: scikit-learn in /usr/local/lib/python3.7/dist-packages (1.0.2)\n",
            "Requirement already satisfied: scipy>=1.1.0 in /usr/local/lib/python3.7/dist-packages (from scikit-learn) (1.4.1)\n",
            "Requirement already satisfied: threadpoolctl>=2.0.0 in /usr/local/lib/python3.7/dist-packages (from scikit-learn) (3.1.0)\n",
            "Requirement already satisfied: joblib>=0.11 in /usr/local/lib/python3.7/dist-packages (from scikit-learn) (1.1.0)\n",
            "Requirement already satisfied: numpy>=1.14.6 in /usr/local/lib/python3.7/dist-packages (from scikit-learn) (1.21.5)\n"
          ]
        }
      ]
    },
    {
      "cell_type": "code",
      "execution_count": 4,
      "metadata": {
        "id": "7-G7TAc2gbKp"
      },
      "outputs": [],
      "source": [
        "# 붓꽃 데이터 로드 예\n",
        "\n",
        "from sklearn import datasets\n",
        "iris = datasets.load_iris() # 아이리스 학습 데이터 로드 붓꽃 품종 분류 학습 데이터. feature(컬럼)\n",
        "\n"
      ],
      "id": "7-G7TAc2gbKp"
    },
    {
      "cell_type": "markdown",
      "metadata": {
        "id": "wtqfdWWDgbKq"
      },
      "source": [
        "- 학습할 샘플들을 사이킷런에서는 data 속성으로 접근한다. "
      ],
      "id": "wtqfdWWDgbKq"
    },
    {
      "cell_type": "code",
      "source": [
        "iris #feature 4개임"
      ],
      "metadata": {
        "colab": {
          "base_uri": "https://localhost:8080/"
        },
        "id": "QYvYryDaqKtL",
        "outputId": "88c18870-0774-4760-f28b-35793af85064"
      },
      "id": "QYvYryDaqKtL",
      "execution_count": 6,
      "outputs": [
        {
          "output_type": "execute_result",
          "data": {
            "text/plain": [
              "{'DESCR': '.. _iris_dataset:\\n\\nIris plants dataset\\n--------------------\\n\\n**Data Set Characteristics:**\\n\\n    :Number of Instances: 150 (50 in each of three classes)\\n    :Number of Attributes: 4 numeric, predictive attributes and the class\\n    :Attribute Information:\\n        - sepal length in cm\\n        - sepal width in cm\\n        - petal length in cm\\n        - petal width in cm\\n        - class:\\n                - Iris-Setosa\\n                - Iris-Versicolour\\n                - Iris-Virginica\\n                \\n    :Summary Statistics:\\n\\n    ============== ==== ==== ======= ===== ====================\\n                    Min  Max   Mean    SD   Class Correlation\\n    ============== ==== ==== ======= ===== ====================\\n    sepal length:   4.3  7.9   5.84   0.83    0.7826\\n    sepal width:    2.0  4.4   3.05   0.43   -0.4194\\n    petal length:   1.0  6.9   3.76   1.76    0.9490  (high!)\\n    petal width:    0.1  2.5   1.20   0.76    0.9565  (high!)\\n    ============== ==== ==== ======= ===== ====================\\n\\n    :Missing Attribute Values: None\\n    :Class Distribution: 33.3% for each of 3 classes.\\n    :Creator: R.A. Fisher\\n    :Donor: Michael Marshall (MARSHALL%PLU@io.arc.nasa.gov)\\n    :Date: July, 1988\\n\\nThe famous Iris database, first used by Sir R.A. Fisher. The dataset is taken\\nfrom Fisher\\'s paper. Note that it\\'s the same as in R, but not as in the UCI\\nMachine Learning Repository, which has two wrong data points.\\n\\nThis is perhaps the best known database to be found in the\\npattern recognition literature.  Fisher\\'s paper is a classic in the field and\\nis referenced frequently to this day.  (See Duda & Hart, for example.)  The\\ndata set contains 3 classes of 50 instances each, where each class refers to a\\ntype of iris plant.  One class is linearly separable from the other 2; the\\nlatter are NOT linearly separable from each other.\\n\\n.. topic:: References\\n\\n   - Fisher, R.A. \"The use of multiple measurements in taxonomic problems\"\\n     Annual Eugenics, 7, Part II, 179-188 (1936); also in \"Contributions to\\n     Mathematical Statistics\" (John Wiley, NY, 1950).\\n   - Duda, R.O., & Hart, P.E. (1973) Pattern Classification and Scene Analysis.\\n     (Q327.D83) John Wiley & Sons.  ISBN 0-471-22361-1.  See page 218.\\n   - Dasarathy, B.V. (1980) \"Nosing Around the Neighborhood: A New System\\n     Structure and Classification Rule for Recognition in Partially Exposed\\n     Environments\".  IEEE Transactions on Pattern Analysis and Machine\\n     Intelligence, Vol. PAMI-2, No. 1, 67-71.\\n   - Gates, G.W. (1972) \"The Reduced Nearest Neighbor Rule\".  IEEE Transactions\\n     on Information Theory, May 1972, 431-433.\\n   - See also: 1988 MLC Proceedings, 54-64.  Cheeseman et al\"s AUTOCLASS II\\n     conceptual clustering system finds 3 classes in the data.\\n   - Many, many more ...',\n",
              " 'data': array([[5.1, 3.5, 1.4, 0.2],\n",
              "        [4.9, 3. , 1.4, 0.2],\n",
              "        [4.7, 3.2, 1.3, 0.2],\n",
              "        [4.6, 3.1, 1.5, 0.2],\n",
              "        [5. , 3.6, 1.4, 0.2],\n",
              "        [5.4, 3.9, 1.7, 0.4],\n",
              "        [4.6, 3.4, 1.4, 0.3],\n",
              "        [5. , 3.4, 1.5, 0.2],\n",
              "        [4.4, 2.9, 1.4, 0.2],\n",
              "        [4.9, 3.1, 1.5, 0.1],\n",
              "        [5.4, 3.7, 1.5, 0.2],\n",
              "        [4.8, 3.4, 1.6, 0.2],\n",
              "        [4.8, 3. , 1.4, 0.1],\n",
              "        [4.3, 3. , 1.1, 0.1],\n",
              "        [5.8, 4. , 1.2, 0.2],\n",
              "        [5.7, 4.4, 1.5, 0.4],\n",
              "        [5.4, 3.9, 1.3, 0.4],\n",
              "        [5.1, 3.5, 1.4, 0.3],\n",
              "        [5.7, 3.8, 1.7, 0.3],\n",
              "        [5.1, 3.8, 1.5, 0.3],\n",
              "        [5.4, 3.4, 1.7, 0.2],\n",
              "        [5.1, 3.7, 1.5, 0.4],\n",
              "        [4.6, 3.6, 1. , 0.2],\n",
              "        [5.1, 3.3, 1.7, 0.5],\n",
              "        [4.8, 3.4, 1.9, 0.2],\n",
              "        [5. , 3. , 1.6, 0.2],\n",
              "        [5. , 3.4, 1.6, 0.4],\n",
              "        [5.2, 3.5, 1.5, 0.2],\n",
              "        [5.2, 3.4, 1.4, 0.2],\n",
              "        [4.7, 3.2, 1.6, 0.2],\n",
              "        [4.8, 3.1, 1.6, 0.2],\n",
              "        [5.4, 3.4, 1.5, 0.4],\n",
              "        [5.2, 4.1, 1.5, 0.1],\n",
              "        [5.5, 4.2, 1.4, 0.2],\n",
              "        [4.9, 3.1, 1.5, 0.2],\n",
              "        [5. , 3.2, 1.2, 0.2],\n",
              "        [5.5, 3.5, 1.3, 0.2],\n",
              "        [4.9, 3.6, 1.4, 0.1],\n",
              "        [4.4, 3. , 1.3, 0.2],\n",
              "        [5.1, 3.4, 1.5, 0.2],\n",
              "        [5. , 3.5, 1.3, 0.3],\n",
              "        [4.5, 2.3, 1.3, 0.3],\n",
              "        [4.4, 3.2, 1.3, 0.2],\n",
              "        [5. , 3.5, 1.6, 0.6],\n",
              "        [5.1, 3.8, 1.9, 0.4],\n",
              "        [4.8, 3. , 1.4, 0.3],\n",
              "        [5.1, 3.8, 1.6, 0.2],\n",
              "        [4.6, 3.2, 1.4, 0.2],\n",
              "        [5.3, 3.7, 1.5, 0.2],\n",
              "        [5. , 3.3, 1.4, 0.2],\n",
              "        [7. , 3.2, 4.7, 1.4],\n",
              "        [6.4, 3.2, 4.5, 1.5],\n",
              "        [6.9, 3.1, 4.9, 1.5],\n",
              "        [5.5, 2.3, 4. , 1.3],\n",
              "        [6.5, 2.8, 4.6, 1.5],\n",
              "        [5.7, 2.8, 4.5, 1.3],\n",
              "        [6.3, 3.3, 4.7, 1.6],\n",
              "        [4.9, 2.4, 3.3, 1. ],\n",
              "        [6.6, 2.9, 4.6, 1.3],\n",
              "        [5.2, 2.7, 3.9, 1.4],\n",
              "        [5. , 2. , 3.5, 1. ],\n",
              "        [5.9, 3. , 4.2, 1.5],\n",
              "        [6. , 2.2, 4. , 1. ],\n",
              "        [6.1, 2.9, 4.7, 1.4],\n",
              "        [5.6, 2.9, 3.6, 1.3],\n",
              "        [6.7, 3.1, 4.4, 1.4],\n",
              "        [5.6, 3. , 4.5, 1.5],\n",
              "        [5.8, 2.7, 4.1, 1. ],\n",
              "        [6.2, 2.2, 4.5, 1.5],\n",
              "        [5.6, 2.5, 3.9, 1.1],\n",
              "        [5.9, 3.2, 4.8, 1.8],\n",
              "        [6.1, 2.8, 4. , 1.3],\n",
              "        [6.3, 2.5, 4.9, 1.5],\n",
              "        [6.1, 2.8, 4.7, 1.2],\n",
              "        [6.4, 2.9, 4.3, 1.3],\n",
              "        [6.6, 3. , 4.4, 1.4],\n",
              "        [6.8, 2.8, 4.8, 1.4],\n",
              "        [6.7, 3. , 5. , 1.7],\n",
              "        [6. , 2.9, 4.5, 1.5],\n",
              "        [5.7, 2.6, 3.5, 1. ],\n",
              "        [5.5, 2.4, 3.8, 1.1],\n",
              "        [5.5, 2.4, 3.7, 1. ],\n",
              "        [5.8, 2.7, 3.9, 1.2],\n",
              "        [6. , 2.7, 5.1, 1.6],\n",
              "        [5.4, 3. , 4.5, 1.5],\n",
              "        [6. , 3.4, 4.5, 1.6],\n",
              "        [6.7, 3.1, 4.7, 1.5],\n",
              "        [6.3, 2.3, 4.4, 1.3],\n",
              "        [5.6, 3. , 4.1, 1.3],\n",
              "        [5.5, 2.5, 4. , 1.3],\n",
              "        [5.5, 2.6, 4.4, 1.2],\n",
              "        [6.1, 3. , 4.6, 1.4],\n",
              "        [5.8, 2.6, 4. , 1.2],\n",
              "        [5. , 2.3, 3.3, 1. ],\n",
              "        [5.6, 2.7, 4.2, 1.3],\n",
              "        [5.7, 3. , 4.2, 1.2],\n",
              "        [5.7, 2.9, 4.2, 1.3],\n",
              "        [6.2, 2.9, 4.3, 1.3],\n",
              "        [5.1, 2.5, 3. , 1.1],\n",
              "        [5.7, 2.8, 4.1, 1.3],\n",
              "        [6.3, 3.3, 6. , 2.5],\n",
              "        [5.8, 2.7, 5.1, 1.9],\n",
              "        [7.1, 3. , 5.9, 2.1],\n",
              "        [6.3, 2.9, 5.6, 1.8],\n",
              "        [6.5, 3. , 5.8, 2.2],\n",
              "        [7.6, 3. , 6.6, 2.1],\n",
              "        [4.9, 2.5, 4.5, 1.7],\n",
              "        [7.3, 2.9, 6.3, 1.8],\n",
              "        [6.7, 2.5, 5.8, 1.8],\n",
              "        [7.2, 3.6, 6.1, 2.5],\n",
              "        [6.5, 3.2, 5.1, 2. ],\n",
              "        [6.4, 2.7, 5.3, 1.9],\n",
              "        [6.8, 3. , 5.5, 2.1],\n",
              "        [5.7, 2.5, 5. , 2. ],\n",
              "        [5.8, 2.8, 5.1, 2.4],\n",
              "        [6.4, 3.2, 5.3, 2.3],\n",
              "        [6.5, 3. , 5.5, 1.8],\n",
              "        [7.7, 3.8, 6.7, 2.2],\n",
              "        [7.7, 2.6, 6.9, 2.3],\n",
              "        [6. , 2.2, 5. , 1.5],\n",
              "        [6.9, 3.2, 5.7, 2.3],\n",
              "        [5.6, 2.8, 4.9, 2. ],\n",
              "        [7.7, 2.8, 6.7, 2. ],\n",
              "        [6.3, 2.7, 4.9, 1.8],\n",
              "        [6.7, 3.3, 5.7, 2.1],\n",
              "        [7.2, 3.2, 6. , 1.8],\n",
              "        [6.2, 2.8, 4.8, 1.8],\n",
              "        [6.1, 3. , 4.9, 1.8],\n",
              "        [6.4, 2.8, 5.6, 2.1],\n",
              "        [7.2, 3. , 5.8, 1.6],\n",
              "        [7.4, 2.8, 6.1, 1.9],\n",
              "        [7.9, 3.8, 6.4, 2. ],\n",
              "        [6.4, 2.8, 5.6, 2.2],\n",
              "        [6.3, 2.8, 5.1, 1.5],\n",
              "        [6.1, 2.6, 5.6, 1.4],\n",
              "        [7.7, 3. , 6.1, 2.3],\n",
              "        [6.3, 3.4, 5.6, 2.4],\n",
              "        [6.4, 3.1, 5.5, 1.8],\n",
              "        [6. , 3. , 4.8, 1.8],\n",
              "        [6.9, 3.1, 5.4, 2.1],\n",
              "        [6.7, 3.1, 5.6, 2.4],\n",
              "        [6.9, 3.1, 5.1, 2.3],\n",
              "        [5.8, 2.7, 5.1, 1.9],\n",
              "        [6.8, 3.2, 5.9, 2.3],\n",
              "        [6.7, 3.3, 5.7, 2.5],\n",
              "        [6.7, 3. , 5.2, 2.3],\n",
              "        [6.3, 2.5, 5. , 1.9],\n",
              "        [6.5, 3. , 5.2, 2. ],\n",
              "        [6.2, 3.4, 5.4, 2.3],\n",
              "        [5.9, 3. , 5.1, 1.8]]),\n",
              " 'data_module': 'sklearn.datasets.data',\n",
              " 'feature_names': ['sepal length (cm)',\n",
              "  'sepal width (cm)',\n",
              "  'petal length (cm)',\n",
              "  'petal width (cm)'],\n",
              " 'filename': 'iris.csv',\n",
              " 'frame': None,\n",
              " 'target': array([0, 0, 0, 0, 0, 0, 0, 0, 0, 0, 0, 0, 0, 0, 0, 0, 0, 0, 0, 0, 0, 0,\n",
              "        0, 0, 0, 0, 0, 0, 0, 0, 0, 0, 0, 0, 0, 0, 0, 0, 0, 0, 0, 0, 0, 0,\n",
              "        0, 0, 0, 0, 0, 0, 1, 1, 1, 1, 1, 1, 1, 1, 1, 1, 1, 1, 1, 1, 1, 1,\n",
              "        1, 1, 1, 1, 1, 1, 1, 1, 1, 1, 1, 1, 1, 1, 1, 1, 1, 1, 1, 1, 1, 1,\n",
              "        1, 1, 1, 1, 1, 1, 1, 1, 1, 1, 1, 1, 2, 2, 2, 2, 2, 2, 2, 2, 2, 2,\n",
              "        2, 2, 2, 2, 2, 2, 2, 2, 2, 2, 2, 2, 2, 2, 2, 2, 2, 2, 2, 2, 2, 2,\n",
              "        2, 2, 2, 2, 2, 2, 2, 2, 2, 2, 2, 2, 2, 2, 2, 2, 2, 2]),\n",
              " 'target_names': array(['setosa', 'versicolor', 'virginica'], dtype='<U10')}"
            ]
          },
          "metadata": {},
          "execution_count": 6
        }
      ]
    },
    {
      "cell_type": "code",
      "execution_count": 5,
      "metadata": {
        "colab": {
          "base_uri": "https://localhost:8080/"
        },
        "id": "I7PDkqTdgbKr",
        "outputId": "e5829aa3-0683-480d-ef35-795a92ca5d41"
      },
      "outputs": [
        {
          "output_type": "execute_result",
          "data": {
            "text/plain": [
              "array([[5.1, 3.5, 1.4, 0.2],\n",
              "       [4.9, 3. , 1.4, 0.2],\n",
              "       [4.7, 3.2, 1.3, 0.2],\n",
              "       [4.6, 3.1, 1.5, 0.2],\n",
              "       [5. , 3.6, 1.4, 0.2],\n",
              "       [5.4, 3.9, 1.7, 0.4],\n",
              "       [4.6, 3.4, 1.4, 0.3],\n",
              "       [5. , 3.4, 1.5, 0.2],\n",
              "       [4.4, 2.9, 1.4, 0.2],\n",
              "       [4.9, 3.1, 1.5, 0.1],\n",
              "       [5.4, 3.7, 1.5, 0.2],\n",
              "       [4.8, 3.4, 1.6, 0.2],\n",
              "       [4.8, 3. , 1.4, 0.1],\n",
              "       [4.3, 3. , 1.1, 0.1],\n",
              "       [5.8, 4. , 1.2, 0.2],\n",
              "       [5.7, 4.4, 1.5, 0.4],\n",
              "       [5.4, 3.9, 1.3, 0.4],\n",
              "       [5.1, 3.5, 1.4, 0.3],\n",
              "       [5.7, 3.8, 1.7, 0.3],\n",
              "       [5.1, 3.8, 1.5, 0.3],\n",
              "       [5.4, 3.4, 1.7, 0.2],\n",
              "       [5.1, 3.7, 1.5, 0.4],\n",
              "       [4.6, 3.6, 1. , 0.2],\n",
              "       [5.1, 3.3, 1.7, 0.5],\n",
              "       [4.8, 3.4, 1.9, 0.2],\n",
              "       [5. , 3. , 1.6, 0.2],\n",
              "       [5. , 3.4, 1.6, 0.4],\n",
              "       [5.2, 3.5, 1.5, 0.2],\n",
              "       [5.2, 3.4, 1.4, 0.2],\n",
              "       [4.7, 3.2, 1.6, 0.2],\n",
              "       [4.8, 3.1, 1.6, 0.2],\n",
              "       [5.4, 3.4, 1.5, 0.4],\n",
              "       [5.2, 4.1, 1.5, 0.1],\n",
              "       [5.5, 4.2, 1.4, 0.2],\n",
              "       [4.9, 3.1, 1.5, 0.2],\n",
              "       [5. , 3.2, 1.2, 0.2],\n",
              "       [5.5, 3.5, 1.3, 0.2],\n",
              "       [4.9, 3.6, 1.4, 0.1],\n",
              "       [4.4, 3. , 1.3, 0.2],\n",
              "       [5.1, 3.4, 1.5, 0.2],\n",
              "       [5. , 3.5, 1.3, 0.3],\n",
              "       [4.5, 2.3, 1.3, 0.3],\n",
              "       [4.4, 3.2, 1.3, 0.2],\n",
              "       [5. , 3.5, 1.6, 0.6],\n",
              "       [5.1, 3.8, 1.9, 0.4],\n",
              "       [4.8, 3. , 1.4, 0.3],\n",
              "       [5.1, 3.8, 1.6, 0.2],\n",
              "       [4.6, 3.2, 1.4, 0.2],\n",
              "       [5.3, 3.7, 1.5, 0.2],\n",
              "       [5. , 3.3, 1.4, 0.2],\n",
              "       [7. , 3.2, 4.7, 1.4],\n",
              "       [6.4, 3.2, 4.5, 1.5],\n",
              "       [6.9, 3.1, 4.9, 1.5],\n",
              "       [5.5, 2.3, 4. , 1.3],\n",
              "       [6.5, 2.8, 4.6, 1.5],\n",
              "       [5.7, 2.8, 4.5, 1.3],\n",
              "       [6.3, 3.3, 4.7, 1.6],\n",
              "       [4.9, 2.4, 3.3, 1. ],\n",
              "       [6.6, 2.9, 4.6, 1.3],\n",
              "       [5.2, 2.7, 3.9, 1.4],\n",
              "       [5. , 2. , 3.5, 1. ],\n",
              "       [5.9, 3. , 4.2, 1.5],\n",
              "       [6. , 2.2, 4. , 1. ],\n",
              "       [6.1, 2.9, 4.7, 1.4],\n",
              "       [5.6, 2.9, 3.6, 1.3],\n",
              "       [6.7, 3.1, 4.4, 1.4],\n",
              "       [5.6, 3. , 4.5, 1.5],\n",
              "       [5.8, 2.7, 4.1, 1. ],\n",
              "       [6.2, 2.2, 4.5, 1.5],\n",
              "       [5.6, 2.5, 3.9, 1.1],\n",
              "       [5.9, 3.2, 4.8, 1.8],\n",
              "       [6.1, 2.8, 4. , 1.3],\n",
              "       [6.3, 2.5, 4.9, 1.5],\n",
              "       [6.1, 2.8, 4.7, 1.2],\n",
              "       [6.4, 2.9, 4.3, 1.3],\n",
              "       [6.6, 3. , 4.4, 1.4],\n",
              "       [6.8, 2.8, 4.8, 1.4],\n",
              "       [6.7, 3. , 5. , 1.7],\n",
              "       [6. , 2.9, 4.5, 1.5],\n",
              "       [5.7, 2.6, 3.5, 1. ],\n",
              "       [5.5, 2.4, 3.8, 1.1],\n",
              "       [5.5, 2.4, 3.7, 1. ],\n",
              "       [5.8, 2.7, 3.9, 1.2],\n",
              "       [6. , 2.7, 5.1, 1.6],\n",
              "       [5.4, 3. , 4.5, 1.5],\n",
              "       [6. , 3.4, 4.5, 1.6],\n",
              "       [6.7, 3.1, 4.7, 1.5],\n",
              "       [6.3, 2.3, 4.4, 1.3],\n",
              "       [5.6, 3. , 4.1, 1.3],\n",
              "       [5.5, 2.5, 4. , 1.3],\n",
              "       [5.5, 2.6, 4.4, 1.2],\n",
              "       [6.1, 3. , 4.6, 1.4],\n",
              "       [5.8, 2.6, 4. , 1.2],\n",
              "       [5. , 2.3, 3.3, 1. ],\n",
              "       [5.6, 2.7, 4.2, 1.3],\n",
              "       [5.7, 3. , 4.2, 1.2],\n",
              "       [5.7, 2.9, 4.2, 1.3],\n",
              "       [6.2, 2.9, 4.3, 1.3],\n",
              "       [5.1, 2.5, 3. , 1.1],\n",
              "       [5.7, 2.8, 4.1, 1.3],\n",
              "       [6.3, 3.3, 6. , 2.5],\n",
              "       [5.8, 2.7, 5.1, 1.9],\n",
              "       [7.1, 3. , 5.9, 2.1],\n",
              "       [6.3, 2.9, 5.6, 1.8],\n",
              "       [6.5, 3. , 5.8, 2.2],\n",
              "       [7.6, 3. , 6.6, 2.1],\n",
              "       [4.9, 2.5, 4.5, 1.7],\n",
              "       [7.3, 2.9, 6.3, 1.8],\n",
              "       [6.7, 2.5, 5.8, 1.8],\n",
              "       [7.2, 3.6, 6.1, 2.5],\n",
              "       [6.5, 3.2, 5.1, 2. ],\n",
              "       [6.4, 2.7, 5.3, 1.9],\n",
              "       [6.8, 3. , 5.5, 2.1],\n",
              "       [5.7, 2.5, 5. , 2. ],\n",
              "       [5.8, 2.8, 5.1, 2.4],\n",
              "       [6.4, 3.2, 5.3, 2.3],\n",
              "       [6.5, 3. , 5.5, 1.8],\n",
              "       [7.7, 3.8, 6.7, 2.2],\n",
              "       [7.7, 2.6, 6.9, 2.3],\n",
              "       [6. , 2.2, 5. , 1.5],\n",
              "       [6.9, 3.2, 5.7, 2.3],\n",
              "       [5.6, 2.8, 4.9, 2. ],\n",
              "       [7.7, 2.8, 6.7, 2. ],\n",
              "       [6.3, 2.7, 4.9, 1.8],\n",
              "       [6.7, 3.3, 5.7, 2.1],\n",
              "       [7.2, 3.2, 6. , 1.8],\n",
              "       [6.2, 2.8, 4.8, 1.8],\n",
              "       [6.1, 3. , 4.9, 1.8],\n",
              "       [6.4, 2.8, 5.6, 2.1],\n",
              "       [7.2, 3. , 5.8, 1.6],\n",
              "       [7.4, 2.8, 6.1, 1.9],\n",
              "       [7.9, 3.8, 6.4, 2. ],\n",
              "       [6.4, 2.8, 5.6, 2.2],\n",
              "       [6.3, 2.8, 5.1, 1.5],\n",
              "       [6.1, 2.6, 5.6, 1.4],\n",
              "       [7.7, 3. , 6.1, 2.3],\n",
              "       [6.3, 3.4, 5.6, 2.4],\n",
              "       [6.4, 3.1, 5.5, 1.8],\n",
              "       [6. , 3. , 4.8, 1.8],\n",
              "       [6.9, 3.1, 5.4, 2.1],\n",
              "       [6.7, 3.1, 5.6, 2.4],\n",
              "       [6.9, 3.1, 5.1, 2.3],\n",
              "       [5.8, 2.7, 5.1, 1.9],\n",
              "       [6.8, 3.2, 5.9, 2.3],\n",
              "       [6.7, 3.3, 5.7, 2.5],\n",
              "       [6.7, 3. , 5.2, 2.3],\n",
              "       [6.3, 2.5, 5. , 1.9],\n",
              "       [6.5, 3. , 5.2, 2. ],\n",
              "       [6.2, 3.4, 5.4, 2.3],\n",
              "       [5.9, 3. , 5.1, 1.8]])"
            ]
          },
          "metadata": {},
          "execution_count": 5
        }
      ],
      "source": [
        "iris.data #훈련데이터"
      ],
      "id": "I7PDkqTdgbKr"
    },
    {
      "cell_type": "markdown",
      "metadata": {
        "id": "IHKal1w1gbKr"
      },
      "source": [
        "- 문제의 정답, 레이블을 사이킷런에서는 target 속성으로 사용한다"
      ],
      "id": "IHKal1w1gbKr"
    },
    {
      "cell_type": "code",
      "execution_count": null,
      "metadata": {
        "id": "6SmQDwYngbKs",
        "outputId": "616be16e-2aa5-42fb-fb62-06c0578647e5"
      },
      "outputs": [
        {
          "data": {
            "text/plain": [
              "array([0, 0, 0, 0, 0, 0, 0, 0, 0, 0, 0, 0, 0, 0, 0, 0, 0, 0, 0, 0, 0, 0,\n",
              "       0, 0, 0, 0, 0, 0, 0, 0, 0, 0, 0, 0, 0, 0, 0, 0, 0, 0, 0, 0, 0, 0,\n",
              "       0, 0, 0, 0, 0, 0, 1, 1, 1, 1, 1, 1, 1, 1, 1, 1, 1, 1, 1, 1, 1, 1,\n",
              "       1, 1, 1, 1, 1, 1, 1, 1, 1, 1, 1, 1, 1, 1, 1, 1, 1, 1, 1, 1, 1, 1,\n",
              "       1, 1, 1, 1, 1, 1, 1, 1, 1, 1, 1, 1, 2, 2, 2, 2, 2, 2, 2, 2, 2, 2,\n",
              "       2, 2, 2, 2, 2, 2, 2, 2, 2, 2, 2, 2, 2, 2, 2, 2, 2, 2, 2, 2, 2, 2,\n",
              "       2, 2, 2, 2, 2, 2, 2, 2, 2, 2, 2, 2, 2, 2, 2, 2, 2, 2])"
            ]
          },
          "execution_count": 11,
          "metadata": {},
          "output_type": "execute_result"
        }
      ],
      "source": [
        "iris.target #정답"
      ],
      "id": "6SmQDwYngbKs"
    },
    {
      "cell_type": "markdown",
      "metadata": {
        "id": "RmBSehxcgbKs"
      },
      "source": [
        "- 손글씨 숫자 머신러닝 데이터 다운로드"
      ],
      "id": "RmBSehxcgbKs"
    },
    {
      "cell_type": "code",
      "execution_count": 7,
      "metadata": {
        "id": "y7RgF2RugbKt"
      },
      "outputs": [],
      "source": [
        "digits = datasets.load_digits() # 손글씨 숫자 이미지 데이터"
      ],
      "id": "y7RgF2RugbKt"
    },
    {
      "cell_type": "code",
      "execution_count": 8,
      "metadata": {
        "colab": {
          "base_uri": "https://localhost:8080/"
        },
        "id": "QCxeodpXgbKt",
        "outputId": "6f417b9b-db54-4dcb-8f9a-a8236a1e947c"
      },
      "outputs": [
        {
          "output_type": "execute_result",
          "data": {
            "text/plain": [
              "array([[ 0.,  0.,  5., ...,  0.,  0.,  0.],\n",
              "       [ 0.,  0.,  0., ..., 10.,  0.,  0.],\n",
              "       [ 0.,  0.,  0., ..., 16.,  9.,  0.],\n",
              "       ...,\n",
              "       [ 0.,  0.,  1., ...,  6.,  0.,  0.],\n",
              "       [ 0.,  0.,  2., ..., 12.,  0.,  0.],\n",
              "       [ 0.,  0., 10., ..., 12.,  1.,  0.]])"
            ]
          },
          "metadata": {},
          "execution_count": 8
        }
      ],
      "source": [
        "digits.data # 값 흑백이미지 2차원이라서 (RGB) 255 흰색 0이 검정 한줄이 플래튼 한줄이 이미지 "
      ],
      "id": "QCxeodpXgbKt"
    },
    {
      "cell_type": "code",
      "execution_count": 9,
      "metadata": {
        "colab": {
          "base_uri": "https://localhost:8080/"
        },
        "id": "PhCRIIa6gbKu",
        "outputId": "d5d443ea-4993-43e5-8e99-f48a789f5e90"
      },
      "outputs": [
        {
          "output_type": "execute_result",
          "data": {
            "text/plain": [
              "array([0, 1, 2, ..., 8, 9, 8])"
            ]
          },
          "metadata": {},
          "execution_count": 9
        }
      ],
      "source": [
        "digits.target "
      ],
      "id": "PhCRIIa6gbKu"
    },
    {
      "cell_type": "markdown",
      "metadata": {
        "id": "zkFSbcO8gbKu"
      },
      "source": [
        "- 손글씨 숫자 이미지"
      ],
      "id": "zkFSbcO8gbKu"
    },
    {
      "cell_type": "code",
      "execution_count": 10,
      "metadata": {
        "colab": {
          "base_uri": "https://localhost:8080/"
        },
        "id": "EaqLlycFgbKu",
        "outputId": "a9b1f63c-297c-4b1b-f9b7-d9ac3bce1527"
      },
      "outputs": [
        {
          "output_type": "execute_result",
          "data": {
            "text/plain": [
              "array([[[ 0.,  0.,  5., ...,  1.,  0.,  0.],\n",
              "        [ 0.,  0., 13., ..., 15.,  5.,  0.],\n",
              "        [ 0.,  3., 15., ..., 11.,  8.,  0.],\n",
              "        ...,\n",
              "        [ 0.,  4., 11., ..., 12.,  7.,  0.],\n",
              "        [ 0.,  2., 14., ..., 12.,  0.,  0.],\n",
              "        [ 0.,  0.,  6., ...,  0.,  0.,  0.]],\n",
              "\n",
              "       [[ 0.,  0.,  0., ...,  5.,  0.,  0.],\n",
              "        [ 0.,  0.,  0., ...,  9.,  0.,  0.],\n",
              "        [ 0.,  0.,  3., ...,  6.,  0.,  0.],\n",
              "        ...,\n",
              "        [ 0.,  0.,  1., ...,  6.,  0.,  0.],\n",
              "        [ 0.,  0.,  1., ...,  6.,  0.,  0.],\n",
              "        [ 0.,  0.,  0., ..., 10.,  0.,  0.]],\n",
              "\n",
              "       [[ 0.,  0.,  0., ..., 12.,  0.,  0.],\n",
              "        [ 0.,  0.,  3., ..., 14.,  0.,  0.],\n",
              "        [ 0.,  0.,  8., ..., 16.,  0.,  0.],\n",
              "        ...,\n",
              "        [ 0.,  9., 16., ...,  0.,  0.,  0.],\n",
              "        [ 0.,  3., 13., ..., 11.,  5.,  0.],\n",
              "        [ 0.,  0.,  0., ..., 16.,  9.,  0.]],\n",
              "\n",
              "       ...,\n",
              "\n",
              "       [[ 0.,  0.,  1., ...,  1.,  0.,  0.],\n",
              "        [ 0.,  0., 13., ...,  2.,  1.,  0.],\n",
              "        [ 0.,  0., 16., ..., 16.,  5.,  0.],\n",
              "        ...,\n",
              "        [ 0.,  0., 16., ..., 15.,  0.,  0.],\n",
              "        [ 0.,  0., 15., ..., 16.,  0.,  0.],\n",
              "        [ 0.,  0.,  2., ...,  6.,  0.,  0.]],\n",
              "\n",
              "       [[ 0.,  0.,  2., ...,  0.,  0.,  0.],\n",
              "        [ 0.,  0., 14., ..., 15.,  1.,  0.],\n",
              "        [ 0.,  4., 16., ..., 16.,  7.,  0.],\n",
              "        ...,\n",
              "        [ 0.,  0.,  0., ..., 16.,  2.,  0.],\n",
              "        [ 0.,  0.,  4., ..., 16.,  2.,  0.],\n",
              "        [ 0.,  0.,  5., ..., 12.,  0.,  0.]],\n",
              "\n",
              "       [[ 0.,  0., 10., ...,  1.,  0.,  0.],\n",
              "        [ 0.,  2., 16., ...,  1.,  0.,  0.],\n",
              "        [ 0.,  0., 15., ..., 15.,  0.,  0.],\n",
              "        ...,\n",
              "        [ 0.,  4., 16., ..., 16.,  6.,  0.],\n",
              "        [ 0.,  8., 16., ..., 16.,  8.,  0.],\n",
              "        [ 0.,  1.,  8., ..., 12.,  1.,  0.]]])"
            ]
          },
          "metadata": {},
          "execution_count": 10
        }
      ],
      "source": [
        "digits.images # 2차원배열하나가 숫자하나씩(세줄씩)"
      ],
      "id": "EaqLlycFgbKu"
    },
    {
      "cell_type": "markdown",
      "metadata": {
        "id": "ZifjONVlgbKv"
      },
      "source": [
        "- 맷플랏을 사용해 숫자 이미지 출력"
      ],
      "id": "ZifjONVlgbKv"
    },
    {
      "cell_type": "code",
      "execution_count": 11,
      "metadata": {
        "colab": {
          "base_uri": "https://localhost:8080/",
          "height": 264
        },
        "id": "quV67QSogbKv",
        "outputId": "3368a2e0-1780-40b3-f14a-ef706e1d5cd9"
      },
      "outputs": [
        {
          "output_type": "display_data",
          "data": {
            "image/png": "[encoded data removed]",
            "text/plain": [
              "<Figure size 432x288 with 1 Axes>"
            ]
          },
          "metadata": {
            "needs_background": "light"
          }
        }
      ],
      "source": [
        "from matplotlib import pyplot as plt\n",
        "plt.imshow(digits.images[0], interpolation='nearest')\n",
        "plt.show()"
      ],
      "id": "quV67QSogbKv"
    },
    {
      "cell_type": "markdown",
      "metadata": {
        "id": "h4bipo_jgbKv"
      },
      "source": [
        "- 사이킷런 데이터셋에서 이미지 데이터 다운로드"
      ],
      "id": "h4bipo_jgbKv"
    },
    {
      "cell_type": "code",
      "execution_count": null,
      "metadata": {
        "id": "szT7gQlAgbKw",
        "outputId": "90d39241-5657-421e-c49f-d0832b2bcc99"
      },
      "outputs": [
        {
          "data": {
            "text/plain": [
              "array([[[ 2, 19, 13],\n",
              "        [ 3, 18, 13],\n",
              "        [ 7, 20, 13],\n",
              "        ...,\n",
              "        [ 1, 77, 64],\n",
              "        [ 0, 76, 64],\n",
              "        [ 0, 75, 63]],\n",
              "\n",
              "       [[ 1, 18, 12],\n",
              "        [ 3, 18, 13],\n",
              "        [ 7, 20, 13],\n",
              "        ...,\n",
              "        [ 0, 76, 64],\n",
              "        [ 1, 74, 65],\n",
              "        [ 1, 74, 65]],\n",
              "\n",
              "       [[ 2, 17, 12],\n",
              "        [ 6, 19, 12],\n",
              "        [ 7, 20, 13],\n",
              "        ...,\n",
              "        [ 1, 74, 65],\n",
              "        [ 1, 74, 67],\n",
              "        [ 1, 74, 67]],\n",
              "\n",
              "       ...,\n",
              "\n",
              "       [[ 0, 46, 40],\n",
              "        [ 1, 48, 40],\n",
              "        [ 1, 47, 37],\n",
              "        ...,\n",
              "        [ 5, 44, 26],\n",
              "        [ 6, 43, 26],\n",
              "        [ 7, 44, 27]],\n",
              "\n",
              "       [[ 0, 47, 41],\n",
              "        [ 1, 48, 40],\n",
              "        [ 1, 47, 37],\n",
              "        ...,\n",
              "        [ 6, 45, 27],\n",
              "        [ 7, 44, 27],\n",
              "        [ 7, 44, 27]],\n",
              "\n",
              "       [[ 0, 47, 41],\n",
              "        [ 1, 48, 40],\n",
              "        [ 0, 46, 36],\n",
              "        ...,\n",
              "        [ 7, 46, 28],\n",
              "        [ 8, 45, 28],\n",
              "        [ 9, 43, 27]]], dtype=uint8)"
            ]
          },
          "execution_count": 14,
          "metadata": {},
          "output_type": "execute_result"
        }
      ],
      "source": [
        "from sklearn.datasets import load_sample_image\n",
        "flower = load_sample_image('flower.jpg') \n",
        "flower"
      ],
      "id": "szT7gQlAgbKw"
    },
    {
      "cell_type": "markdown",
      "metadata": {
        "id": "CFIXKqsGgbKw"
      },
      "source": [
        "- 다운로드 받은 이미지 출력"
      ],
      "id": "CFIXKqsGgbKw"
    },
    {
      "cell_type": "code",
      "execution_count": null,
      "metadata": {
        "id": "bYsHZRbCgbKx",
        "outputId": "fa4f4ae0-3065-4ffe-a249-18762c575c17"
      },
      "outputs": [
        {
          "data": {
            "image/png": "[encoded data removed]",
            "text/plain": [
              "<Figure size 432x288 with 1 Axes>"
            ]
          },
          "metadata": {
            "needs_background": "light"
          },
          "output_type": "display_data"
        }
      ],
      "source": [
        "plt.imshow(flower, interpolation='nearest')\n",
        "plt.show()"
      ],
      "id": "bYsHZRbCgbKx"
    },
    {
      "cell_type": "markdown",
      "metadata": {
        "id": "MuYHq6MigbKx"
      },
      "source": [
        "# 3. 학습 및 예측  \n",
        "  \n",
        "데이터가 준비되면 머신 학습을 시작한다.  \n",
        "숫자 데이터세트의 경우 학습은 주어진 이미지가 나타내는 숫자를 예측하는 것이다.  \n",
        "0에서 9까지의 숫자 이미지로 구성된 데이터는 10개의 클래스로 분리되고,이 중에서 예측할 수 있도록 학습한다.  \n",
        "scikit-learn에서 분류를 위한 estimator는 fit(X, y)와 predict(T) 다.  \n",
        "\n",
        "sklearn.svm.SVC는 support vector classification 분류 알고리즘을 구현한 estimator 클래스이다. 추정기의 생성자는 모델의 매개변수를 인수로 취한다.  \n",
        "  \n",
        "- estimator(학습 알고리즘)객체 생성  \n",
        "from sklearn import svm<br/>\n",
        "clf = svm.SVC(gamma=0.001, C=100.)\n",
        "  \n",
        "  \n",
        "- 모델의 매개변수 선택\n",
        "  \n",
        "모델의 매개변수(gamma, C 등)는 학습효과에 영향을 주는 값으로 적당한 값을 직접 입력할 수 있다.  이러한 매개변수에 대한 좋은 값을 찾기 위해 그리드 검색 및 교차 검증 과 같은 도구를 사용할 수 있다.  \n",
        "  \n",
        "- 학습  \n",
        "학습할 데이터를 알고리즘 객체가 학습한다. 이 작업은 객체의 fit()함수로 수행한다.  \n",
        "훈련 세트의 경우 예측을 위해 예약할 마지막 이미지를 제외하고 데이터 세트의 모든 이미지를 사용한다.   \n",
        "  \n",
        " clf.fit(학습데이터, 정답)  \n",
        " ex> clf.fit(digits.data[:-1], digits.target[:-1])  \n",
        "  \n",
        "- 예측  \n",
        "학습하지 않은 새로운 데이터로 결과 예측. 이 작업은 predict()함수로 수행한다.  \n",
        "digits.data의 마지막 데이터를 주고 예측한 결과를 받는다.  \n",
        "받은 결과와 digits.target의 마지막 값과 비교하여 같으면 정답, 아니면 오답이 된다.  \n",
        "  \n",
        "  clf.predict(digits.data[-1:])  "
      ],
      "id": "MuYHq6MigbKx"
    },
    {
      "cell_type": "markdown",
      "metadata": {
        "id": "wRLJn4cQgbKx"
      },
      "source": [
        "- 손글씨 숫자 데이터를 SVC 머신으로 학습"
      ],
      "id": "wRLJn4cQgbKx"
    },
    {
      "cell_type": "code",
      "execution_count": null,
      "metadata": {
        "id": "arSb8Jb1gbKy",
        "outputId": "0fae106e-b0a4-4999-9101-812ea9f989eb"
      },
      "outputs": [
        {
          "data": {
            "text/plain": [
              "SVC(C=100.0, gamma=0.001)"
            ]
          },
          "execution_count": 18,
          "metadata": {},
          "output_type": "execute_result"
        }
      ],
      "source": [
        "from sklearn import svm\n",
        "clf = svm.SVC(gamma=0.001, C=100.)\n",
        "clf.fit(digits.data[:-1], digits.target[:-1])"
      ],
      "id": "arSb8Jb1gbKy"
    },
    {
      "cell_type": "markdown",
      "metadata": {
        "id": "9M9qEadugbKy"
      },
      "source": [
        "- 학습에 사용되지 않은 데이터로 예측"
      ],
      "id": "9M9qEadugbKy"
    },
    {
      "cell_type": "code",
      "execution_count": null,
      "metadata": {
        "id": "mDAksEMWgbKy",
        "outputId": "97e23093-014b-4a81-e2bb-6a74ad3e3d85"
      },
      "outputs": [
        {
          "data": {
            "text/plain": [
              "array([8])"
            ]
          },
          "execution_count": 19,
          "metadata": {},
          "output_type": "execute_result"
        }
      ],
      "source": [
        "clf.predict(digits.data[-1:])"
      ],
      "id": "mDAksEMWgbKy"
    },
    {
      "cell_type": "markdown",
      "metadata": {
        "id": "x5c3_JEsgbKz"
      },
      "source": [
        "- 정답 확인(평가)"
      ],
      "id": "x5c3_JEsgbKz"
    },
    {
      "cell_type": "code",
      "execution_count": null,
      "metadata": {
        "id": "zP8Q6GnpgbKz",
        "outputId": "afa8f3e7-03ba-4a16-c4a2-4d04a5289802"
      },
      "outputs": [
        {
          "data": {
            "image/png": "[encoded data removed]",
            "text/plain": [
              "<Figure size 432x288 with 1 Axes>"
            ]
          },
          "metadata": {
            "needs_background": "light"
          },
          "output_type": "display_data"
        }
      ],
      "source": [
        "plt.imshow(digits.images[-1], interpolation='nearest')\n",
        "plt.show()"
      ],
      "id": "zP8Q6GnpgbKz"
    },
    {
      "cell_type": "markdown",
      "metadata": {
        "id": "HayJephagbKz"
      },
      "source": [
        "# 4. 작업 규칙  \n",
        "  \n",
        "지정하지 않는 한 입력은 float64으로 캐스팅된다 ."
      ],
      "id": "HayJephagbKz"
    },
    {
      "cell_type": "code",
      "execution_count": null,
      "metadata": {
        "id": "_LQxv-2NgbK0",
        "outputId": "94762eac-9e48-4d32-d7e9-8c133c17ae09"
      },
      "outputs": [
        {
          "data": {
            "text/plain": [
              "(10, 2000)"
            ]
          },
          "execution_count": 28,
          "metadata": {},
          "output_type": "execute_result"
        }
      ],
      "source": [
        "import numpy as np\n",
        "from sklearn import random_projection\n",
        "\n",
        "rng = np.random.RandomState(0)\n",
        "X = rng.rand(10, 2000)\n",
        "X.shape"
      ],
      "id": "_LQxv-2NgbK0"
    },
    {
      "cell_type": "code",
      "execution_count": null,
      "metadata": {
        "id": "iIU1Rn_ogbK0",
        "outputId": "7ad46ed6-751e-4b44-f97b-05caaeebd5ec"
      },
      "outputs": [
        {
          "data": {
            "text/plain": [
              "array([[0.5488135 , 0.71518937, 0.60276338, ..., 0.48010781, 0.64386404,\n",
              "        0.50177313],\n",
              "       [0.81151847, 0.47608399, 0.52315599, ..., 0.83000295, 0.93280618,\n",
              "        0.30833843],\n",
              "       [0.29264205, 0.56651827, 0.13741443, ..., 0.69652287, 0.48369661,\n",
              "        0.33955073],\n",
              "       ...,\n",
              "       [0.32059506, 0.24986687, 0.03107279, ..., 0.38938909, 0.93272   ,\n",
              "        0.33276632],\n",
              "       [0.39553738, 0.84401749, 0.15044175, ..., 0.53561083, 0.35458205,\n",
              "        0.93578099],\n",
              "       [0.8140271 , 0.85133715, 0.43113659, ..., 0.44645576, 0.36012661,\n",
              "        0.62588665]])"
            ]
          },
          "execution_count": 29,
          "metadata": {},
          "output_type": "execute_result"
        }
      ],
      "source": [
        "X"
      ],
      "id": "iIU1Rn_ogbK0"
    },
    {
      "cell_type": "code",
      "execution_count": null,
      "metadata": {
        "id": "f2NJTk2bgbK0",
        "outputId": "21adb554-b618-4c72-c433-975cfdebb299"
      },
      "outputs": [
        {
          "data": {
            "text/plain": [
              "dtype('float64')"
            ]
          },
          "execution_count": 31,
          "metadata": {},
          "output_type": "execute_result"
        }
      ],
      "source": [
        "X.dtype"
      ],
      "id": "f2NJTk2bgbK0"
    },
    {
      "cell_type": "code",
      "execution_count": null,
      "metadata": {
        "id": "Ig48lOM9gbK1",
        "outputId": "964fc0ff-b07b-4bd0-c282-5fabbf8b006b"
      },
      "outputs": [
        {
          "data": {
            "text/plain": [
              "dtype('float32')"
            ]
          },
          "execution_count": 32,
          "metadata": {},
          "output_type": "execute_result"
        }
      ],
      "source": [
        "X = np.array(X, dtype='float32')\n",
        "X.dtype"
      ],
      "id": "Ig48lOM9gbK1"
    },
    {
      "cell_type": "code",
      "execution_count": null,
      "metadata": {
        "id": "9LL1UQb1gbK2",
        "outputId": "23604a87-b637-49a5-da85-96d1edfa3850"
      },
      "outputs": [
        {
          "data": {
            "text/plain": [
              "array([[ 0.57903804, -0.22927072, -0.49293235, ..., -0.38086561,\n",
              "        -0.44918435, -0.92544401],\n",
              "       [ 0.47825828, -0.68791634, -0.5723026 , ..., -0.29486459,\n",
              "        -0.63852072, -0.52444522],\n",
              "       [ 0.23357789,  0.01087243, -0.70096492, ..., -0.14426222,\n",
              "        -0.53992686, -0.59959099],\n",
              "       ...,\n",
              "       [ 0.83975215,  0.12526596, -0.85018763, ..., -0.2336901 ,\n",
              "        -0.13267489, -1.0231554 ],\n",
              "       [ 0.20384731, -0.09817031, -0.1698759 , ..., -0.14313129,\n",
              "        -1.17620617, -0.02285759],\n",
              "       [ 0.28235047, -0.20194661, -0.35198971, ...,  0.25974495,\n",
              "        -0.51862717, -0.88605444]])"
            ]
          },
          "execution_count": 34,
          "metadata": {},
          "output_type": "execute_result"
        }
      ],
      "source": [
        "transformer = random_projection.GaussianRandomProjection()\n",
        "X_new = transformer.fit_transform(X)\n",
        "X_new"
      ],
      "id": "9LL1UQb1gbK2"
    },
    {
      "cell_type": "code",
      "execution_count": null,
      "metadata": {
        "id": "v9YMWpLPgbK3",
        "outputId": "2a2ca13f-3690-43c3-ffbd-b8ce68231fa9"
      },
      "outputs": [
        {
          "data": {
            "text/plain": [
              "dtype('float64')"
            ]
          },
          "execution_count": 35,
          "metadata": {},
          "output_type": "execute_result"
        }
      ],
      "source": [
        "X_new.dtype"
      ],
      "id": "v9YMWpLPgbK3"
    },
    {
      "cell_type": "markdown",
      "metadata": {
        "id": "yGig2_tCgbK5"
      },
      "source": [
        "회귀 대상은 float64으로 캐스팅되지만 분류 대상은 원래 타입이 유지됨."
      ],
      "id": "yGig2_tCgbK5"
    },
    {
      "cell_type": "code",
      "execution_count": null,
      "metadata": {
        "id": "fgOX8mSdgbK5"
      },
      "outputs": [],
      "source": [
        "from sklearn import datasets\n",
        "from sklearn.svm import SVC\n",
        "\n",
        "# iris 데이터 로드\n",
        "iris = datasets.load_iris()\n",
        "\n",
        "# svc 알고리즘 객체 생성\n",
        "clf = SVC()"
      ],
      "id": "fgOX8mSdgbK5"
    },
    {
      "cell_type": "code",
      "execution_count": null,
      "metadata": {
        "id": "9ZBGc5WugbK6",
        "outputId": "11b17257-015f-4acc-c9d7-fa575a7e9078"
      },
      "outputs": [
        {
          "data": {
            "text/plain": [
              "array([0, 0, 0, 0, 0, 0, 0, 0, 0, 0, 0, 0, 0, 0, 0, 0, 0, 0, 0, 0, 0, 0,\n",
              "       0, 0, 0, 0, 0, 0, 0, 0, 0, 0, 0, 0, 0, 0, 0, 0, 0, 0, 0, 0, 0, 0,\n",
              "       0, 0, 0, 0, 0, 0, 1, 1, 1, 1, 1, 1, 1, 1, 1, 1, 1, 1, 1, 1, 1, 1,\n",
              "       1, 1, 1, 1, 1, 1, 1, 1, 1, 1, 1, 1, 1, 1, 1, 1, 1, 1, 1, 1, 1, 1,\n",
              "       1, 1, 1, 1, 1, 1, 1, 1, 1, 1, 1, 1, 2, 2, 2, 2, 2, 2, 2, 2, 2, 2,\n",
              "       2, 2, 2, 2, 2, 2, 2, 2, 2, 2, 2, 2, 2, 2, 2, 2, 2, 2, 2, 2, 2, 2,\n",
              "       2, 2, 2, 2, 2, 2, 2, 2, 2, 2, 2, 2, 2, 2, 2, 2, 2, 2])"
            ]
          },
          "execution_count": 46,
          "metadata": {},
          "output_type": "execute_result"
        }
      ],
      "source": [
        "# 숫자형 정답\n",
        "iris.target"
      ],
      "id": "9ZBGc5WugbK6"
    },
    {
      "cell_type": "code",
      "execution_count": null,
      "metadata": {
        "id": "rW4cnc3BgbK6",
        "outputId": "05516e34-0736-4a7b-e776-2effa1d33c9d"
      },
      "outputs": [
        {
          "data": {
            "text/plain": [
              "[0, 0, 0]"
            ]
          },
          "execution_count": 47,
          "metadata": {},
          "output_type": "execute_result"
        }
      ],
      "source": [
        "# 정수로 학습시키면 예측도 정수로 함\n",
        "\n",
        "# 생성한 예측기에 학습. 학습데이터와 이에 대응되는 정답을 인수로 전달\n",
        "clf.fit(iris.data, iris.target)\n",
        "\n",
        "# 학습한 걸 토대로 예측. 앞 데이터 3개에 대한 예측 수행. 품종 3가지를 0, 1, 2로 표현. 모두 0품종으로 예측\n",
        "list(clf.predict(iris.data[:3]))"
      ],
      "id": "rW4cnc3BgbK6"
    },
    {
      "cell_type": "code",
      "execution_count": null,
      "metadata": {
        "id": "bRE10lxjgbK7",
        "outputId": "9d416ccc-622e-48e0-a866-d00b0dd03f25"
      },
      "outputs": [
        {
          "data": {
            "text/plain": [
              "array(['setosa', 'versicolor', 'virginica'], dtype='<U10')"
            ]
          },
          "execution_count": 39,
          "metadata": {},
          "output_type": "execute_result"
        }
      ],
      "source": [
        "# 품종이름. 위의 0, 1, 2는 이 품종 이름의 인덱스 \n",
        "iris.target_names"
      ],
      "id": "bRE10lxjgbK7"
    },
    {
      "cell_type": "code",
      "execution_count": null,
      "metadata": {
        "id": "uid4KolXgbK7",
        "outputId": "b2376154-19b9-4518-93a0-01cb7e8ccdc8"
      },
      "outputs": [
        {
          "data": {
            "text/plain": [
              "['setosa', 'setosa', 'setosa']"
            ]
          },
          "execution_count": 48,
          "metadata": {},
          "output_type": "execute_result"
        }
      ],
      "source": [
        "# 문자열로 학습시키면 예측도 문자열로 함\n",
        "\n",
        "# 타깃 이름으로 학습\n",
        "clf.fit(iris.data, iris.target_names[iris.target])\n",
        "\n",
        "# 예측 결과도 문자열\n",
        "list(clf.predict(iris.data[:3]))\n"
      ],
      "id": "uid4KolXgbK7"
    },
    {
      "cell_type": "markdown",
      "metadata": {
        "id": "k5gRf8w2gbK8"
      },
      "source": [
        "# 5. 매개변수 재조정 및 업데이트  \n",
        "  \n",
        "추정기의 하이퍼 매개변수는 set_params() 메서드를 통해 구성된 후 업데이트할 수 있다.  \n",
        "두 번 이상 fit()을 호출하면 이전에 배운 내용을 덮어쓴다.   "
      ],
      "id": "k5gRf8w2gbK8"
    },
    {
      "cell_type": "code",
      "execution_count": null,
      "metadata": {
        "id": "n7pwBtSagbK8",
        "outputId": "9ded3ae9-2f62-4e56-8f25-907ab76a14df"
      },
      "outputs": [
        {
          "data": {
            "text/plain": [
              "array([0, 0, 0, 0, 0])"
            ]
          },
          "execution_count": 49,
          "metadata": {},
          "output_type": "execute_result"
        }
      ],
      "source": [
        "import numpy as np\n",
        "from sklearn.datasets import load_iris\n",
        "from sklearn.svm import SVC\n",
        "\n",
        "X, y = load_iris(return_X_y=True)\n",
        "\n",
        "clf = SVC()\n",
        "\n",
        "# 예측기의 커널을 리니어(선형)로 설정하여 학습\n",
        "clf.set_params(kernel='linear').fit(X, y)\n",
        "\n",
        "clf.predict(X[:5])\n"
      ],
      "id": "n7pwBtSagbK8"
    },
    {
      "cell_type": "code",
      "execution_count": null,
      "metadata": {
        "id": "g5jXT8NtgbK-",
        "outputId": "4c8710d4-ab25-4586-975e-2c99468c5ed3"
      },
      "outputs": [
        {
          "data": {
            "text/plain": [
              "array([0, 0, 0, 0, 0])"
            ]
          },
          "execution_count": 50,
          "metadata": {},
          "output_type": "execute_result"
        }
      ],
      "source": [
        "# 예측기의 커널을 rbf(곡선)로 변경하여 학습\n",
        "clf.set_params(kernel='rbf').fit(X, y)\n",
        "\n",
        "clf.predict(X[:5])"
      ],
      "id": "g5jXT8NtgbK-"
    },
    {
      "cell_type": "code",
      "execution_count": null,
      "metadata": {
        "id": "Zp8RKM9CgbK-"
      },
      "outputs": [],
      "source": [
        ""
      ],
      "id": "Zp8RKM9CgbK-"
    }
  ],
  "metadata": {
    "kernelspec": {
      "display_name": "Python 3",
      "language": "python",
      "name": "python3"
    },
    "language_info": {
      "codemirror_mode": {
        "name": "ipython",
        "version": 3
      },
      "file_extension": ".py",
      "mimetype": "text/x-python",
      "name": "python",
      "nbconvert_exporter": "python",
      "pygments_lexer": "ipython3",
      "version": "3.9.0"
    },
    "colab": {
      "name": "머신러닝.ipynb",
      "provenance": []
    }
  },
  "nbformat": 4,
  "nbformat_minor": 5
}