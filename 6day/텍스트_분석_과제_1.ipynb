{
  "nbformat": 4,
  "nbformat_minor": 0,
  "metadata": {
    "colab": {
      "name": "텍스트 분석 과제 1",
      "provenance": []
    },
    "kernelspec": {
      "name": "python3",
      "display_name": "Python 3"
    },
    "language_info": {
      "name": "python"
    }
  },
  "cells": [
    {
      "cell_type": "code",
      "source": [
        "import pandas as pd\n",
        "\n",
        "df = pd.read_csv('./DBPEDIA_train.csv')\n",
        "df"
      ],
      "metadata": {
        "colab": {
          "base_uri": "https://localhost:8080/",
          "height": 633
        },
        "id": "VB1OG7AJ4pLl",
        "outputId": "3e77b62d-c84f-4f5a-ac58-505d3d6a5e2a"
      },
      "execution_count": null,
      "outputs": [
        {
          "output_type": "execute_result",
          "data": {
            "text/plain": [
              "                                                     text            l1  \\\n",
              "0       William Alexander Massey (October 7, 1856 – Ma...         Agent   \n",
              "1       Lions is the sixth studio album by American ro...          Work   \n",
              "2       Pirqa (Aymara and Quechua for wall, hispaniciz...         Place   \n",
              "3       Cancer Prevention Research is a biweekly peer-...          Work   \n",
              "4       The Princeton University Chapel is located on ...         Place   \n",
              "...                                                   ...           ...   \n",
              "240937  Charlie Thompson is a prominent journalist in ...         Agent   \n",
              "240938  The Northerly Stakes is a Perth Racing Group 3...         Event   \n",
              "240939  HC Empor Rostock is a team handball club from ...         Agent   \n",
              "240940  University of Surabaya (UBAYA) is a university...         Agent   \n",
              "240941  The 1981 Seattle Seahawks season was the team'...  SportsSeason   \n",
              "\n",
              "                            l2                            l3  \n",
              "0                   Politician                       Senator  \n",
              "1                  MusicalWork                         Album  \n",
              "2                 NaturalPlace                      Mountain  \n",
              "3         PeriodicalLiterature               AcademicJournal  \n",
              "4                     Building              HistoricBuilding  \n",
              "...                        ...                           ...  \n",
              "240937                  Person                    Journalist  \n",
              "240938                    Race                     HorseRace  \n",
              "240939              SportsTeam                  HandballTeam  \n",
              "240940  EducationalInstitution                    University  \n",
              "240941    FootballLeagueSeason  NationalFootballLeagueSeason  \n",
              "\n",
              "[240942 rows x 4 columns]"
            ],
            "text/html": [
              "\n",
              "  <div id=\"df-538b4c3f-9ee4-4000-8518-010df668b5c8\">\n",
              "    <div class=\"colab-df-container\">\n",
              "      <div>\n",
              "<style scoped>\n",
              "    .dataframe tbody tr th:only-of-type {\n",
              "        vertical-align: middle;\n",
              "    }\n",
              "\n",
              "    .dataframe tbody tr th {\n",
              "        vertical-align: top;\n",
              "    }\n",
              "\n",
              "    .dataframe thead th {\n",
              "        text-align: right;\n",
              "    }\n",
              "</style>\n",
              "<table border=\"1\" class=\"dataframe\">\n",
              "  <thead>\n",
              "    <tr style=\"text-align: right;\">\n",
              "      <th></th>\n",
              "      <th>text</th>\n",
              "      <th>l1</th>\n",
              "      <th>l2</th>\n",
              "      <th>l3</th>\n",
              "    </tr>\n",
              "  </thead>\n",
              "  <tbody>\n",
              "    <tr>\n",
              "      <th>0</th>\n",
              "      <td>William Alexander Massey (October 7, 1856 – Ma...</td>\n",
              "      <td>Agent</td>\n",
              "      <td>Politician</td>\n",
              "      <td>Senator</td>\n",
              "    </tr>\n",
              "    <tr>\n",
              "      <th>1</th>\n",
              "      <td>Lions is the sixth studio album by American ro...</td>\n",
              "      <td>Work</td>\n",
              "      <td>MusicalWork</td>\n",
              "      <td>Album</td>\n",
              "    </tr>\n",
              "    <tr>\n",
              "      <th>2</th>\n",
              "      <td>Pirqa (Aymara and Quechua for wall, hispaniciz...</td>\n",
              "      <td>Place</td>\n",
              "      <td>NaturalPlace</td>\n",
              "      <td>Mountain</td>\n",
              "    </tr>\n",
              "    <tr>\n",
              "      <th>3</th>\n",
              "      <td>Cancer Prevention Research is a biweekly peer-...</td>\n",
              "      <td>Work</td>\n",
              "      <td>PeriodicalLiterature</td>\n",
              "      <td>AcademicJournal</td>\n",
              "    </tr>\n",
              "    <tr>\n",
              "      <th>4</th>\n",
              "      <td>The Princeton University Chapel is located on ...</td>\n",
              "      <td>Place</td>\n",
              "      <td>Building</td>\n",
              "      <td>HistoricBuilding</td>\n",
              "    </tr>\n",
              "    <tr>\n",
              "      <th>...</th>\n",
              "      <td>...</td>\n",
              "      <td>...</td>\n",
              "      <td>...</td>\n",
              "      <td>...</td>\n",
              "    </tr>\n",
              "    <tr>\n",
              "      <th>240937</th>\n",
              "      <td>Charlie Thompson is a prominent journalist in ...</td>\n",
              "      <td>Agent</td>\n",
              "      <td>Person</td>\n",
              "      <td>Journalist</td>\n",
              "    </tr>\n",
              "    <tr>\n",
              "      <th>240938</th>\n",
              "      <td>The Northerly Stakes is a Perth Racing Group 3...</td>\n",
              "      <td>Event</td>\n",
              "      <td>Race</td>\n",
              "      <td>HorseRace</td>\n",
              "    </tr>\n",
              "    <tr>\n",
              "      <th>240939</th>\n",
              "      <td>HC Empor Rostock is a team handball club from ...</td>\n",
              "      <td>Agent</td>\n",
              "      <td>SportsTeam</td>\n",
              "      <td>HandballTeam</td>\n",
              "    </tr>\n",
              "    <tr>\n",
              "      <th>240940</th>\n",
              "      <td>University of Surabaya (UBAYA) is a university...</td>\n",
              "      <td>Agent</td>\n",
              "      <td>EducationalInstitution</td>\n",
              "      <td>University</td>\n",
              "    </tr>\n",
              "    <tr>\n",
              "      <th>240941</th>\n",
              "      <td>The 1981 Seattle Seahawks season was the team'...</td>\n",
              "      <td>SportsSeason</td>\n",
              "      <td>FootballLeagueSeason</td>\n",
              "      <td>NationalFootballLeagueSeason</td>\n",
              "    </tr>\n",
              "  </tbody>\n",
              "</table>\n",
              "<p>240942 rows × 4 columns</p>\n",
              "</div>\n",
              "      <button class=\"colab-df-convert\" onclick=\"convertToInteractive('df-538b4c3f-9ee4-4000-8518-010df668b5c8')\"\n",
              "              title=\"Convert this dataframe to an interactive table.\"\n",
              "              style=\"display:none;\">\n",
              "        \n",
              "  <svg xmlns=\"http://www.w3.org/2000/svg\" height=\"24px\"viewBox=\"0 0 24 24\"\n",
              "       width=\"24px\">\n",
              "    <path d=\"M0 0h24v24H0V0z\" fill=\"none\"/>\n",
              "    <path d=\"M18.56 5.44l.94 2.06.94-2.06 2.06-.94-2.06-.94-.94-2.06-.94 2.06-2.06.94zm-11 1L8.5 8.5l.94-2.06 2.06-.94-2.06-.94L8.5 2.5l-.94 2.06-2.06.94zm10 10l.94 2.06.94-2.06 2.06-.94-2.06-.94-.94-2.06-.94 2.06-2.06.94z\"/><path d=\"M17.41 7.96l-1.37-1.37c-.4-.4-.92-.59-1.43-.59-.52 0-1.04.2-1.43.59L10.3 9.45l-7.72 7.72c-.78.78-.78 2.05 0 2.83L4 21.41c.39.39.9.59 1.41.59.51 0 1.02-.2 1.41-.59l7.78-7.78 2.81-2.81c.8-.78.8-2.07 0-2.86zM5.41 20L4 18.59l7.72-7.72 1.47 1.35L5.41 20z\"/>\n",
              "  </svg>\n",
              "      </button>\n",
              "      \n",
              "  <style>\n",
              "    .colab-df-container {\n",
              "      display:flex;\n",
              "      flex-wrap:wrap;\n",
              "      gap: 12px;\n",
              "    }\n",
              "\n",
              "    .colab-df-convert {\n",
              "      background-color: #E8F0FE;\n",
              "      border: none;\n",
              "      border-radius: 50%;\n",
              "      cursor: pointer;\n",
              "      display: none;\n",
              "      fill: #1967D2;\n",
              "      height: 32px;\n",
              "      padding: 0 0 0 0;\n",
              "      width: 32px;\n",
              "    }\n",
              "\n",
              "    .colab-df-convert:hover {\n",
              "      background-color: #E2EBFA;\n",
              "      box-shadow: 0px 1px 2px rgba(60, 64, 67, 0.3), 0px 1px 3px 1px rgba(60, 64, 67, 0.15);\n",
              "      fill: #174EA6;\n",
              "    }\n",
              "\n",
              "    [theme=dark] .colab-df-convert {\n",
              "      background-color: #3B4455;\n",
              "      fill: #D2E3FC;\n",
              "    }\n",
              "\n",
              "    [theme=dark] .colab-df-convert:hover {\n",
              "      background-color: #434B5C;\n",
              "      box-shadow: 0px 1px 3px 1px rgba(0, 0, 0, 0.15);\n",
              "      filter: drop-shadow(0px 1px 2px rgba(0, 0, 0, 0.3));\n",
              "      fill: #FFFFFF;\n",
              "    }\n",
              "  </style>\n",
              "\n",
              "      <script>\n",
              "        const buttonEl =\n",
              "          document.querySelector('#df-538b4c3f-9ee4-4000-8518-010df668b5c8 button.colab-df-convert');\n",
              "        buttonEl.style.display =\n",
              "          google.colab.kernel.accessAllowed ? 'block' : 'none';\n",
              "\n",
              "        async function convertToInteractive(key) {\n",
              "          const element = document.querySelector('#df-538b4c3f-9ee4-4000-8518-010df668b5c8');\n",
              "          const dataTable =\n",
              "            await google.colab.kernel.invokeFunction('convertToInteractive',\n",
              "                                                     [key], {});\n",
              "          if (!dataTable) return;\n",
              "\n",
              "          const docLinkHtml = 'Like what you see? Visit the ' +\n",
              "            '<a target=\"_blank\" href=https://colab.research.google.com/notebooks/data_table.ipynb>data table notebook</a>'\n",
              "            + ' to learn more about interactive tables.';\n",
              "          element.innerHTML = '';\n",
              "          dataTable['output_type'] = 'display_data';\n",
              "          await google.colab.output.renderOutput(dataTable, element);\n",
              "          const docLink = document.createElement('div');\n",
              "          docLink.innerHTML = docLinkHtml;\n",
              "          element.appendChild(docLink);\n",
              "        }\n",
              "      </script>\n",
              "    </div>\n",
              "  </div>\n",
              "  "
            ]
          },
          "metadata": {},
          "execution_count": 1
        }
      ]
    },
    {
      "cell_type": "code",
      "source": [
        "x_data = df['text']\n",
        "x_data"
      ],
      "metadata": {
        "colab": {
          "base_uri": "https://localhost:8080/"
        },
        "id": "jvO0n4xZ5S2o",
        "outputId": "43fb0f20-90eb-4f6e-98db-f10956139b1c"
      },
      "execution_count": null,
      "outputs": [
        {
          "output_type": "execute_result",
          "data": {
            "text/plain": [
              "0         William Alexander Massey (October 7, 1856 – Ma...\n",
              "1         Lions is the sixth studio album by American ro...\n",
              "2         Pirqa (Aymara and Quechua for wall, hispaniciz...\n",
              "3         Cancer Prevention Research is a biweekly peer-...\n",
              "4         The Princeton University Chapel is located on ...\n",
              "                                ...                        \n",
              "240937    Charlie Thompson is a prominent journalist in ...\n",
              "240938    The Northerly Stakes is a Perth Racing Group 3...\n",
              "240939    HC Empor Rostock is a team handball club from ...\n",
              "240940    University of Surabaya (UBAYA) is a university...\n",
              "240941    The 1981 Seattle Seahawks season was the team'...\n",
              "Name: text, Length: 240942, dtype: object"
            ]
          },
          "metadata": {},
          "execution_count": 2
        }
      ]
    },
    {
      "cell_type": "code",
      "source": [
        "y_data = df['l1']\n",
        "pd.unique(y_data)"
      ],
      "metadata": {
        "colab": {
          "base_uri": "https://localhost:8080/"
        },
        "id": "xl2kWInH7Sy7",
        "outputId": "57a34694-ad73-4e6c-e1f5-8294db21dbff"
      },
      "execution_count": null,
      "outputs": [
        {
          "output_type": "execute_result",
          "data": {
            "text/plain": [
              "array(['Agent', 'Work', 'Place', 'Species', 'UnitOfWork', 'Event',\n",
              "       'SportsSeason', 'Device', 'TopicalConcept'], dtype=object)"
            ]
          },
          "metadata": {},
          "execution_count": 3
        }
      ]
    },
    {
      "cell_type": "code",
      "source": [
        "import re\n",
        "\n",
        "x_data = x_data.apply( lambda x : re.sub(\"[^a-zA-Z]\", \" \", x) )\n",
        "x_data"
      ],
      "metadata": {
        "colab": {
          "base_uri": "https://localhost:8080/"
        },
        "id": "m2-Z9Zvl7VMG",
        "outputId": "55246df7-13ff-44d0-8f2a-74ea000ed926"
      },
      "execution_count": null,
      "outputs": [
        {
          "output_type": "execute_result",
          "data": {
            "text/plain": [
              "0         William Alexander Massey  October           Ma...\n",
              "1         Lions is the sixth studio album by American ro...\n",
              "2         Pirqa  Aymara and Quechua for wall  hispaniciz...\n",
              "3         Cancer Prevention Research is a biweekly peer ...\n",
              "4         The Princeton University Chapel is located on ...\n",
              "                                ...                        \n",
              "240937    Charlie Thompson is a prominent journalist in ...\n",
              "240938    The Northerly Stakes is a Perth Racing Group  ...\n",
              "240939    HC Empor Rostock is a team handball club from ...\n",
              "240940    University of Surabaya  UBAYA  is a university...\n",
              "240941    The      Seattle Seahawks season was the team ...\n",
              "Name: text, Length: 240942, dtype: object"
            ]
          },
          "metadata": {},
          "execution_count": 4
        }
      ]
    },
    {
      "cell_type": "code",
      "source": [
        "from sklearn.preprocessing import LabelEncoder\n",
        "\n",
        "encoder = LabelEncoder()\n",
        "encoder.fit(y_data)\n",
        "labels = encoder.transform(y_data)\n",
        "labels"
      ],
      "metadata": {
        "colab": {
          "base_uri": "https://localhost:8080/"
        },
        "id": "3aJA3sYj8iRp",
        "outputId": "26f710ca-cc4a-4872-c42d-39ec11ecff46"
      },
      "execution_count": null,
      "outputs": [
        {
          "output_type": "execute_result",
          "data": {
            "text/plain": [
              "array([0, 8, 3, ..., 0, 0, 5])"
            ]
          },
          "metadata": {},
          "execution_count": 5
        }
      ]
    },
    {
      "cell_type": "code",
      "source": [
        "encoder.classes_"
      ],
      "metadata": {
        "colab": {
          "base_uri": "https://localhost:8080/"
        },
        "id": "4Yrn4DyS89Y_",
        "outputId": "707228fc-af75-4b97-8e91-c6872a993417"
      },
      "execution_count": null,
      "outputs": [
        {
          "output_type": "execute_result",
          "data": {
            "text/plain": [
              "array(['Agent', 'Device', 'Event', 'Place', 'Species', 'SportsSeason',\n",
              "       'TopicalConcept', 'UnitOfWork', 'Work'], dtype=object)"
            ]
          },
          "metadata": {},
          "execution_count": 6
        }
      ]
    },
    {
      "cell_type": "code",
      "source": [
        "from sklearn.feature_extraction.text import CountVectorizer\n",
        "\n",
        "# Count Vectorization으로 text 변환 수행. \n",
        "cnt_vect = CountVectorizer()\n",
        "\n",
        "cnt_vect.fit(x_data)\n",
        "X_train_cnt_vect = cnt_vect.transform(x_data)\n"
      ],
      "metadata": {
        "id": "89gkxHml-MFy"
      },
      "execution_count": null,
      "outputs": []
    },
    {
      "cell_type": "code",
      "source": [
        "X_train_cnt_vect.toarray()"
      ],
      "metadata": {
        "id": "UHfOXBSBCMxu"
      },
      "execution_count": null,
      "outputs": []
    },
    {
      "cell_type": "code",
      "source": [
        "from sklearn.linear_model import LogisticRegression\n",
        "from sklearn.metrics import accuracy_score\n",
        "\n",
        "# LogisticRegression을 이용하여 학습/예측/평가 수행. \n",
        "lr_clf = LogisticRegression() # 클래스개수가 2이면 로지스틱, 3이상이면 소프트맥스 사용 \n",
        "lr_clf.fit(X_train_cnt_vect , labels)"
      ],
      "metadata": {
        "colab": {
          "base_uri": "https://localhost:8080/"
        },
        "id": "XQNY1peAEu6o",
        "outputId": "e424be59-d936-41c6-a379-ce6a5e864871"
      },
      "execution_count": null,
      "outputs": [
        {
          "output_type": "stream",
          "name": "stderr",
          "text": [
            "/usr/local/lib/python3.7/dist-packages/sklearn/linear_model/_logistic.py:818: ConvergenceWarning: lbfgs failed to converge (status=1):\n",
            "STOP: TOTAL NO. of ITERATIONS REACHED LIMIT.\n",
            "\n",
            "Increase the number of iterations (max_iter) or scale the data as shown in:\n",
            "    https://scikit-learn.org/stable/modules/preprocessing.html\n",
            "Please also refer to the documentation for alternative solver options:\n",
            "    https://scikit-learn.org/stable/modules/linear_model.html#logistic-regression\n",
            "  extra_warning_msg=_LOGISTIC_SOLVER_CONVERGENCE_MSG,\n"
          ]
        },
        {
          "output_type": "execute_result",
          "data": {
            "text/plain": [
              "LogisticRegression()"
            ]
          },
          "metadata": {},
          "execution_count": 9
        }
      ]
    },
    {
      "cell_type": "markdown",
      "source": [
        "  - 테스트 파일 로드\n",
        "  - text컬럼만 x_data로 저장하고 CountVectorizer()로 변환\n",
        "  - l1컬럼만 y_data로 저장하고 레이블 인코딩 수행\n",
        "  - 테스팅 x_data로 예측\n",
        "  - 예측한 결과와 y_data비교해서 정확도 측정"
      ],
      "metadata": {
        "id": "DQc_jK-ZGixm"
      }
    },
    {
      "cell_type": "code",
      "source": [
        "df_test = pd.read_csv('./DBPEDIA_test.csv')\n",
        "df_test"
      ],
      "metadata": {
        "colab": {
          "base_uri": "https://localhost:8080/",
          "height": 463
        },
        "id": "k0uAJEFWJVFh",
        "outputId": "30f08402-cc5f-4cbe-abef-c63a15c574ef"
      },
      "execution_count": null,
      "outputs": [
        {
          "output_type": "execute_result",
          "data": {
            "text/plain": [
              "                                                    text     l1  \\\n",
              "0      Liu Chao-shiuan (Chinese: 劉兆玄; pinyin: Liú Zhà...  Agent   \n",
              "1      Michelle Maylene (born January 20, 1987) is an...  Agent   \n",
              "2      Hirfanlı Dam is a dam in Turkey. The developme...  Place   \n",
              "3      Grote Prijs Stad Zottegem is a single-day road...  Event   \n",
              "4      Johannes Petrus \\\"Hans\\\" Nijman (September 23,...  Agent   \n",
              "...                                                  ...    ...   \n",
              "60789  Darwin Smith was CEO of Kimberly-Clark from 19...  Agent   \n",
              "60790  The HKRU Premiership is the main domestic comp...  Agent   \n",
              "60791  Leo Harvey Diegel (April 20, 1899 – May 5, 195...  Agent   \n",
              "60792  Clement Reginald \\\"Clem\\\" Splatt (17 September...  Agent   \n",
              "60793  Gyllebo Castle (Swedish: Gyllebo slott) is a c...  Place   \n",
              "\n",
              "                   l2                             l3  \n",
              "0          Politician                  PrimeMinister  \n",
              "1               Actor                     AdultActor  \n",
              "2      Infrastructure                            Dam  \n",
              "3                Race                    CyclingRace  \n",
              "4             Athlete                  MartialArtist  \n",
              "...               ...                            ...  \n",
              "60789          Person                 BusinessPerson  \n",
              "60790    SportsLeague                   SoccerLeague  \n",
              "60791         Athlete                     GolfPlayer  \n",
              "60792         Athlete  AustralianRulesFootballPlayer  \n",
              "60793        Building                         Castle  \n",
              "\n",
              "[60794 rows x 4 columns]"
            ],
            "text/html": [
              "\n",
              "  <div id=\"df-a4a90e83-7c56-4099-9def-55ac4f5f003c\">\n",
              "    <div class=\"colab-df-container\">\n",
              "      <div>\n",
              "<style scoped>\n",
              "    .dataframe tbody tr th:only-of-type {\n",
              "        vertical-align: middle;\n",
              "    }\n",
              "\n",
              "    .dataframe tbody tr th {\n",
              "        vertical-align: top;\n",
              "    }\n",
              "\n",
              "    .dataframe thead th {\n",
              "        text-align: right;\n",
              "    }\n",
              "</style>\n",
              "<table border=\"1\" class=\"dataframe\">\n",
              "  <thead>\n",
              "    <tr style=\"text-align: right;\">\n",
              "      <th></th>\n",
              "      <th>text</th>\n",
              "      <th>l1</th>\n",
              "      <th>l2</th>\n",
              "      <th>l3</th>\n",
              "    </tr>\n",
              "  </thead>\n",
              "  <tbody>\n",
              "    <tr>\n",
              "      <th>0</th>\n",
              "      <td>Liu Chao-shiuan (Chinese: 劉兆玄; pinyin: Liú Zhà...</td>\n",
              "      <td>Agent</td>\n",
              "      <td>Politician</td>\n",
              "      <td>PrimeMinister</td>\n",
              "    </tr>\n",
              "    <tr>\n",
              "      <th>1</th>\n",
              "      <td>Michelle Maylene (born January 20, 1987) is an...</td>\n",
              "      <td>Agent</td>\n",
              "      <td>Actor</td>\n",
              "      <td>AdultActor</td>\n",
              "    </tr>\n",
              "    <tr>\n",
              "      <th>2</th>\n",
              "      <td>Hirfanlı Dam is a dam in Turkey. The developme...</td>\n",
              "      <td>Place</td>\n",
              "      <td>Infrastructure</td>\n",
              "      <td>Dam</td>\n",
              "    </tr>\n",
              "    <tr>\n",
              "      <th>3</th>\n",
              "      <td>Grote Prijs Stad Zottegem is a single-day road...</td>\n",
              "      <td>Event</td>\n",
              "      <td>Race</td>\n",
              "      <td>CyclingRace</td>\n",
              "    </tr>\n",
              "    <tr>\n",
              "      <th>4</th>\n",
              "      <td>Johannes Petrus \\\"Hans\\\" Nijman (September 23,...</td>\n",
              "      <td>Agent</td>\n",
              "      <td>Athlete</td>\n",
              "      <td>MartialArtist</td>\n",
              "    </tr>\n",
              "    <tr>\n",
              "      <th>...</th>\n",
              "      <td>...</td>\n",
              "      <td>...</td>\n",
              "      <td>...</td>\n",
              "      <td>...</td>\n",
              "    </tr>\n",
              "    <tr>\n",
              "      <th>60789</th>\n",
              "      <td>Darwin Smith was CEO of Kimberly-Clark from 19...</td>\n",
              "      <td>Agent</td>\n",
              "      <td>Person</td>\n",
              "      <td>BusinessPerson</td>\n",
              "    </tr>\n",
              "    <tr>\n",
              "      <th>60790</th>\n",
              "      <td>The HKRU Premiership is the main domestic comp...</td>\n",
              "      <td>Agent</td>\n",
              "      <td>SportsLeague</td>\n",
              "      <td>SoccerLeague</td>\n",
              "    </tr>\n",
              "    <tr>\n",
              "      <th>60791</th>\n",
              "      <td>Leo Harvey Diegel (April 20, 1899 – May 5, 195...</td>\n",
              "      <td>Agent</td>\n",
              "      <td>Athlete</td>\n",
              "      <td>GolfPlayer</td>\n",
              "    </tr>\n",
              "    <tr>\n",
              "      <th>60792</th>\n",
              "      <td>Clement Reginald \\\"Clem\\\" Splatt (17 September...</td>\n",
              "      <td>Agent</td>\n",
              "      <td>Athlete</td>\n",
              "      <td>AustralianRulesFootballPlayer</td>\n",
              "    </tr>\n",
              "    <tr>\n",
              "      <th>60793</th>\n",
              "      <td>Gyllebo Castle (Swedish: Gyllebo slott) is a c...</td>\n",
              "      <td>Place</td>\n",
              "      <td>Building</td>\n",
              "      <td>Castle</td>\n",
              "    </tr>\n",
              "  </tbody>\n",
              "</table>\n",
              "<p>60794 rows × 4 columns</p>\n",
              "</div>\n",
              "      <button class=\"colab-df-convert\" onclick=\"convertToInteractive('df-a4a90e83-7c56-4099-9def-55ac4f5f003c')\"\n",
              "              title=\"Convert this dataframe to an interactive table.\"\n",
              "              style=\"display:none;\">\n",
              "        \n",
              "  <svg xmlns=\"http://www.w3.org/2000/svg\" height=\"24px\"viewBox=\"0 0 24 24\"\n",
              "       width=\"24px\">\n",
              "    <path d=\"M0 0h24v24H0V0z\" fill=\"none\"/>\n",
              "    <path d=\"M18.56 5.44l.94 2.06.94-2.06 2.06-.94-2.06-.94-.94-2.06-.94 2.06-2.06.94zm-11 1L8.5 8.5l.94-2.06 2.06-.94-2.06-.94L8.5 2.5l-.94 2.06-2.06.94zm10 10l.94 2.06.94-2.06 2.06-.94-2.06-.94-.94-2.06-.94 2.06-2.06.94z\"/><path d=\"M17.41 7.96l-1.37-1.37c-.4-.4-.92-.59-1.43-.59-.52 0-1.04.2-1.43.59L10.3 9.45l-7.72 7.72c-.78.78-.78 2.05 0 2.83L4 21.41c.39.39.9.59 1.41.59.51 0 1.02-.2 1.41-.59l7.78-7.78 2.81-2.81c.8-.78.8-2.07 0-2.86zM5.41 20L4 18.59l7.72-7.72 1.47 1.35L5.41 20z\"/>\n",
              "  </svg>\n",
              "      </button>\n",
              "      \n",
              "  <style>\n",
              "    .colab-df-container {\n",
              "      display:flex;\n",
              "      flex-wrap:wrap;\n",
              "      gap: 12px;\n",
              "    }\n",
              "\n",
              "    .colab-df-convert {\n",
              "      background-color: #E8F0FE;\n",
              "      border: none;\n",
              "      border-radius: 50%;\n",
              "      cursor: pointer;\n",
              "      display: none;\n",
              "      fill: #1967D2;\n",
              "      height: 32px;\n",
              "      padding: 0 0 0 0;\n",
              "      width: 32px;\n",
              "    }\n",
              "\n",
              "    .colab-df-convert:hover {\n",
              "      background-color: #E2EBFA;\n",
              "      box-shadow: 0px 1px 2px rgba(60, 64, 67, 0.3), 0px 1px 3px 1px rgba(60, 64, 67, 0.15);\n",
              "      fill: #174EA6;\n",
              "    }\n",
              "\n",
              "    [theme=dark] .colab-df-convert {\n",
              "      background-color: #3B4455;\n",
              "      fill: #D2E3FC;\n",
              "    }\n",
              "\n",
              "    [theme=dark] .colab-df-convert:hover {\n",
              "      background-color: #434B5C;\n",
              "      box-shadow: 0px 1px 3px 1px rgba(0, 0, 0, 0.15);\n",
              "      filter: drop-shadow(0px 1px 2px rgba(0, 0, 0, 0.3));\n",
              "      fill: #FFFFFF;\n",
              "    }\n",
              "  </style>\n",
              "\n",
              "      <script>\n",
              "        const buttonEl =\n",
              "          document.querySelector('#df-a4a90e83-7c56-4099-9def-55ac4f5f003c button.colab-df-convert');\n",
              "        buttonEl.style.display =\n",
              "          google.colab.kernel.accessAllowed ? 'block' : 'none';\n",
              "\n",
              "        async function convertToInteractive(key) {\n",
              "          const element = document.querySelector('#df-a4a90e83-7c56-4099-9def-55ac4f5f003c');\n",
              "          const dataTable =\n",
              "            await google.colab.kernel.invokeFunction('convertToInteractive',\n",
              "                                                     [key], {});\n",
              "          if (!dataTable) return;\n",
              "\n",
              "          const docLinkHtml = 'Like what you see? Visit the ' +\n",
              "            '<a target=\"_blank\" href=https://colab.research.google.com/notebooks/data_table.ipynb>data table notebook</a>'\n",
              "            + ' to learn more about interactive tables.';\n",
              "          element.innerHTML = '';\n",
              "          dataTable['output_type'] = 'display_data';\n",
              "          await google.colab.output.renderOutput(dataTable, element);\n",
              "          const docLink = document.createElement('div');\n",
              "          docLink.innerHTML = docLinkHtml;\n",
              "          element.appendChild(docLink);\n",
              "        }\n",
              "      </script>\n",
              "    </div>\n",
              "  </div>\n",
              "  "
            ]
          },
          "metadata": {},
          "execution_count": 13
        }
      ]
    },
    {
      "cell_type": "code",
      "source": [
        "x_test = df_test['text']\n",
        "x_test = x_test.apply( lambda x : re.sub(\"[^a-zA-Z]\", \" \", x) )\n",
        "y_test = df_test['l1']"
      ],
      "metadata": {
        "id": "fq3diEd5JYcT"
      },
      "execution_count": null,
      "outputs": []
    },
    {
      "cell_type": "code",
      "source": [
        "X_test_cnt_vect = cnt_vect.transform(x_test)\n",
        "label=encoder.transform(y_test)"
      ],
      "metadata": {
        "id": "dEHUuSDjHUqV"
      },
      "execution_count": null,
      "outputs": []
    },
    {
      "cell_type": "code",
      "source": [
        "pred = lr_clf.predict(X_test_cnt_vect)\n",
        "print('예측 정확도는 {0:.3f}'.format(accuracy_score(label,pred)))"
      ],
      "metadata": {
        "colab": {
          "base_uri": "https://localhost:8080/"
        },
        "id": "kXMa1DQoEvT8",
        "outputId": "b58b9393-39bc-42b0-a001-c9c78d83d798"
      },
      "execution_count": null,
      "outputs": [
        {
          "output_type": "stream",
          "name": "stdout",
          "text": [
            "예측 정확도는 0.981\n"
          ]
        }
      ]
    }
  ]
}