{
  "nbformat": 4,
  "nbformat_minor": 0,
  "metadata": {
    "colab": {
      "name": "김기록 - dow, nasdaq, sp500 예측",
      "provenance": []
    },
    "kernelspec": {
      "name": "python3",
      "display_name": "Python 3"
    },
    "language_info": {
      "name": "python"
    }
  },
  "cells": [
    {
      "cell_type": "code",
      "execution_count": null,
      "metadata": {
        "id": "5Mx1B7poHOgT"
      },
      "outputs": [],
      "source": [
        "import pandas as pd\n",
        "import numpy as np\n",
        "import warnings\n",
        "warnings.simplefilter(action='ignore')"
      ]
    },
    {
      "cell_type": "code",
      "source": [
        "df1=pd.read_csv('/content/DOW30.csv')\n",
        "df2=pd.read_csv('/content/NASDAQ.csv')\n",
        "df3=pd.read_csv('/content/SP500.csv')"
      ],
      "metadata": {
        "id": "y2S9fcQ1HYHx"
      },
      "execution_count": 94,
      "outputs": []
    },
    {
      "cell_type": "markdown",
      "source": [
        "# 전처리"
      ],
      "metadata": {
        "id": "be6CA-32R1_0"
      }
    },
    {
      "cell_type": "code",
      "source": [
        "x_data=df1.iloc[:,2:]\n",
        "y_data=df1[['LABEL']]\n",
        "x_data2=df2.iloc[:,2:]\n",
        "y_data2=df2[['LABEL']]\n",
        "x_data3=df3.iloc[:,2:]\n",
        "y_data3=df3[['LABEL']]"
      ],
      "metadata": {
        "id": "pZXuxRR4bMgQ"
      },
      "execution_count": 121,
      "outputs": []
    },
    {
      "cell_type": "markdown",
      "source": [
        "# 표준화"
      ],
      "metadata": {
        "id": "CXBJuoZ2Rwey"
      }
    },
    {
      "cell_type": "code",
      "source": [
        "from sklearn.preprocessing import StandardScaler\n",
        "\n",
        "scaler = StandardScaler()\n",
        "scaled = scaler.fit_transform(x_data)\n",
        "scaler2 = StandardScaler()\n",
        "scaled2 = scaler2.fit_transform(x_data2)\n",
        "scaler3 = StandardScaler()\n",
        "scaled3 = scaler3.fit_transform(x_data3)"
      ],
      "metadata": {
        "id": "4ODYgr2qIKGq"
      },
      "execution_count": 123,
      "outputs": []
    },
    {
      "cell_type": "markdown",
      "source": [
        "# 테스트 트레인 스플릿"
      ],
      "metadata": {
        "id": "l06ZI1xURyFq"
      }
    },
    {
      "cell_type": "code",
      "source": [
        "from sklearn.model_selection import train_test_split\n",
        "X_train,X_test,y_train,y_test=train_test_split(scaled,y_data,test_size=0.2,random_state=121)\n",
        "X_train2,X_test2,y_train2,y_test2=train_test_split(scaled2,y_data2,test_size=0.2,random_state=121)\n",
        "X_train3,X_test3,y_train3,y_test3=train_test_split(scaled3,y_data3,test_size=0.2,random_state=121)"
      ],
      "metadata": {
        "id": "Iqj1zEUVHbe2"
      },
      "execution_count": 124,
      "outputs": []
    },
    {
      "cell_type": "markdown",
      "source": [
        "# 검증 함수"
      ],
      "metadata": {
        "id": "n0iksukcRhgX"
      }
    },
    {
      "cell_type": "code",
      "source": [
        "from sklearn.metrics import confusion_matrix,precision_score, recall_score,f1_score, roc_auc_score\n",
        "\n",
        "def get_clf_eval(y_test, pred=None, pred_proba=None):\n",
        "    confusion = confusion_matrix( y_test, pred)\n",
        "    accuracy = accuracy_score(y_test , pred)\n",
        "    precision = precision_score(y_test , pred)\n",
        "    recall = recall_score(y_test , pred)\n",
        "    f1 = f1_score(y_test,pred)\n",
        "    # ROC-AUC 추가 \n",
        "    roc_auc = roc_auc_score(y_test, pred_proba)\n",
        "    print('오차 행렬')\n",
        "    print(confusion)\n",
        "    # ROC-AUC print 추가\n",
        "    print('정확도: {0:.4f}, 정밀도: {1:.4f}, 재현율: {2:.4f},\\\n",
        "    F1: {3:.4f}, AUC:{4:.4f}'.format(accuracy, precision, recall, f1, roc_auc))"
      ],
      "metadata": {
        "id": "6JCVlYG_OM1z"
      },
      "execution_count": 100,
      "outputs": []
    },
    {
      "cell_type": "code",
      "source": [
        "grid_cv.get_params()"
      ],
      "metadata": {
        "colab": {
          "base_uri": "https://localhost:8080/"
        },
        "id": "Yx9JfqlBNPYS",
        "outputId": "080bd2cd-65d7-4a83-981b-cbd3e76dbd97"
      },
      "execution_count": 101,
      "outputs": [
        {
          "output_type": "execute_result",
          "data": {
            "text/plain": [
              "{'cv': 2,\n",
              " 'error_score': nan,\n",
              " 'estimator': RandomForestClassifier(random_state=0),\n",
              " 'estimator__bootstrap': True,\n",
              " 'estimator__ccp_alpha': 0.0,\n",
              " 'estimator__class_weight': None,\n",
              " 'estimator__criterion': 'gini',\n",
              " 'estimator__max_depth': None,\n",
              " 'estimator__max_features': 'auto',\n",
              " 'estimator__max_leaf_nodes': None,\n",
              " 'estimator__max_samples': None,\n",
              " 'estimator__min_impurity_decrease': 0.0,\n",
              " 'estimator__min_samples_leaf': 1,\n",
              " 'estimator__min_samples_split': 2,\n",
              " 'estimator__min_weight_fraction_leaf': 0.0,\n",
              " 'estimator__n_estimators': 100,\n",
              " 'estimator__n_jobs': None,\n",
              " 'estimator__oob_score': False,\n",
              " 'estimator__random_state': 0,\n",
              " 'estimator__verbose': 0,\n",
              " 'estimator__warm_start': False,\n",
              " 'n_jobs': -1,\n",
              " 'param_grid': {'max_depth': [6],\n",
              "  'min_samples_leaf': [6, 7, 8],\n",
              "  'min_samples_split': [6, 7, 8],\n",
              "  'n_estimators': [90]},\n",
              " 'pre_dispatch': '2*n_jobs',\n",
              " 'refit': True,\n",
              " 'return_train_score': False,\n",
              " 'scoring': None,\n",
              " 'verbose': 0}"
            ]
          },
          "metadata": {},
          "execution_count": 101
        }
      ]
    },
    {
      "cell_type": "markdown",
      "source": [
        "# 결정트리 및 개별모델"
      ],
      "metadata": {
        "id": "01qwuhfDUVe_"
      }
    },
    {
      "cell_type": "markdown",
      "source": [
        "## 의사결정나무"
      ],
      "metadata": {
        "id": "cCvN8nQ_TkTz"
      }
    },
    {
      "cell_type": "code",
      "source": [
        "from sklearn.tree import DecisionTreeClassifier\n",
        "dt_clf = DecisionTreeClassifier(random_state=156)\n",
        "dt_clf.fit(X_train , y_train)\n",
        "dt_pred=dt_clf.predict(X_test)\n",
        "\n",
        "dt_clf2 = DecisionTreeClassifier(random_state=156)\n",
        "dt_clf2.fit(X_train2 , y_train2)\n",
        "dt_pred2=dt_clf2.predict(X_test2)\n",
        "\n",
        "dt_clf3 = DecisionTreeClassifier(random_state=156)\n",
        "dt_clf3.fit(X_train3 , y_train3)\n",
        "dt_pred3=dt_clf3.predict(X_test3)\n",
        "\n",
        "a=accuracy_score(y_test,dt_pred)\n",
        "b=accuracy_score(y_test2,dt_pred2)\n",
        "c=accuracy_score(y_test3,dt_pred3)\n",
        "print('DOW :',a,'NASDAQ : ',b,'SP500 : ',c)"
      ],
      "metadata": {
        "colab": {
          "base_uri": "https://localhost:8080/"
        },
        "id": "vPPx6a0QTnJ5",
        "outputId": "44dd9704-916f-4eeb-a0e5-c180ded223d6"
      },
      "execution_count": 126,
      "outputs": [
        {
          "output_type": "stream",
          "name": "stdout",
          "text": [
            "DOW : 0.5142857142857142 NASDAQ :  0.5020408163265306 SP500 :  0.49183673469387756\n"
          ]
        }
      ]
    },
    {
      "cell_type": "markdown",
      "source": [
        "## 로지스틱 회귀"
      ],
      "metadata": {
        "id": "tEnla-gyUZA4"
      }
    },
    {
      "cell_type": "code",
      "source": [
        "from sklearn.linear_model import LogisticRegression\n",
        "lr = LogisticRegression(random_state=156)\n",
        "lr.fit(X_train , y_train)\n",
        "lr_pred=lr.predict(X_test)\n",
        "\n",
        "lr2 = LogisticRegression(random_state=156)\n",
        "lr2.fit(X_train2 , y_train2)\n",
        "lr_pred2=lr2.predict(X_test2)\n",
        "\n",
        "lr3 = LogisticRegression(random_state=156)\n",
        "lr3.fit(X_train3 , y_train3)\n",
        "lr_pred3=lr3.predict(X_test3)"
      ],
      "metadata": {
        "id": "VXNsydWsUbyG"
      },
      "execution_count": 127,
      "outputs": []
    },
    {
      "cell_type": "markdown",
      "source": [
        "## knn근접\n",
        "떤 데이터가 주어지면 그 주변(이웃)의 데이터를 살펴본 뒤 더 많은 데이터가 포함되어 있는 범주로 분류하는 방식\n",
        "K: 참고할 이웃의 수. 기본값은 5"
      ],
      "metadata": {
        "id": "jEkjsEgkVU2S"
      }
    },
    {
      "cell_type": "code",
      "source": [
        "from sklearn.neighbors import KNeighborsClassifier\n",
        "knn_clf = KNeighborsClassifier(n_neighbors=8)\n",
        "\n",
        "classifiers = [lr, knn_clf]\n",
        "for classifier in classifiers:\n",
        "    classifier.fit(X_train , y_train)\n",
        "    pred = classifier.predict(X_test)\n",
        "    class_name= classifier.__class__.__name__\n",
        "    print('dow {0} 정확도: {1:.4f}'.format(class_name, accuracy_score(y_test , pred)))\n",
        "\n",
        "knn_clf2 = KNeighborsClassifier(n_neighbors=8)\n",
        "\n",
        "classifiers2 = [lr2, knn_clf2]\n",
        "for classifier in classifiers2:\n",
        "    classifier.fit(X_train2 , y_train2)\n",
        "    pred2 = classifier.predict(X_test2)\n",
        "    class_name2= classifier.__class__.__name__\n",
        "    print('nasdaq {0} 정확도: {1:.4f}'.format(class_name2, accuracy_score(y_test2 , pred2)))\n",
        "\n",
        "knn_clf3 = KNeighborsClassifier(n_neighbors=8)\n",
        "\n",
        "classifiers3 = [lr3, knn_clf3]\n",
        "for classifier in classifiers3:\n",
        "    classifier.fit(X_train3 , y_train3)\n",
        "    pred3 = classifier.predict(X_test3)\n",
        "    class_name3= classifier.__class__.__name__\n",
        "    print('sp500 {0} 정확도: {1:.4f}'.format(class_name3, accuracy_score(y_test3 , pred3)))\n"
      ],
      "metadata": {
        "colab": {
          "base_uri": "https://localhost:8080/"
        },
        "id": "Bia5DUP0VWT8",
        "outputId": "c4686796-eecb-429e-8921-3bd40b860045"
      },
      "execution_count": 128,
      "outputs": [
        {
          "output_type": "stream",
          "name": "stdout",
          "text": [
            "dow LogisticRegression 정확도: 0.5469\n",
            "dow KNeighborsClassifier 정확도: 0.5327\n",
            "nasdaq LogisticRegression 정확도: 0.5592\n",
            "nasdaq KNeighborsClassifier 정확도: 0.4918\n",
            "sp500 LogisticRegression 정확도: 0.5449\n",
            "sp500 KNeighborsClassifier 정확도: 0.4571\n"
          ]
        }
      ]
    },
    {
      "cell_type": "markdown",
      "source": [
        "#앙상블"
      ],
      "metadata": {
        "id": "3i-y8nKfSefJ"
      }
    },
    {
      "cell_type": "markdown",
      "source": [
        "## VotingClassifier"
      ],
      "metadata": {
        "id": "S46IJdcPWCtI"
      }
    },
    {
      "cell_type": "code",
      "source": [
        "from sklearn.ensemble import VotingClassifier\n",
        "vo_clf = VotingClassifier( estimators=[('LR',lr),('KNN',knn_clf)] , voting='soft' )\n",
        "\n",
        "vo_clf.fit(X_train , y_train)\n",
        "pred = vo_clf.predict(X_test)\n",
        "print('dow Voting 분류기 정확도: {0:.4f}'.format(accuracy_score(y_test , pred)))\n",
        "\n",
        "vo_clf2 = VotingClassifier( estimators=[('LR',lr2),('KNN',knn_clf2)] , voting='soft' )\n",
        "\n",
        "vo_clf2.fit(X_train2 , y_train2)\n",
        "pred2 = vo_clf2.predict(X_test2)\n",
        "print('nasdaq Voting 분류기 정확도: {0:.4f}'.format(accuracy_score(y_test2 , pred2)))\n",
        "\n",
        "vo_clf3 = VotingClassifier( estimators=[('LR',lr3),('KNN',knn_clf3)] , voting='soft' )\n",
        "\n",
        "vo_clf3.fit(X_train3 , y_train3)\n",
        "pred3 = vo_clf3.predict(X_test3)\n",
        "print('sp500 Voting 분류기 정확도: {0:.4f}'.format(accuracy_score(y_test3 , pred3)))"
      ],
      "metadata": {
        "colab": {
          "base_uri": "https://localhost:8080/"
        },
        "id": "t8XaAXHrVtSD",
        "outputId": "e01af11d-986c-49b3-cb6c-c0154387d79b"
      },
      "execution_count": 129,
      "outputs": [
        {
          "output_type": "stream",
          "name": "stdout",
          "text": [
            "dow Voting 분류기 정확도: 0.5163\n",
            "nasdaq Voting 분류기 정확도: 0.5102\n",
            "sp500 Voting 분류기 정확도: 0.5204\n"
          ]
        }
      ]
    },
    {
      "cell_type": "markdown",
      "source": [
        "## SVM(보팅)\n",
        "  - 보팅: 서로 다른 알고리즘 여러개 결합. 선형회귀, K 최근접 이웃, SVM 알고리즘 등 다양한 알고리즘을 결합하여 만든다.\n",
        "    - 하드 보팅: 다수 분류기가 결정한 예측을 선택\n",
        "    - 소프트 보팅: 분류기들의 레이블 결정 확률의 평균을 내어 이 중 가장 큰 확률의 레이블 선택\n",
        "    - svm\n",
        "      - 결정 경계(Decision Boundary), 즉 분류를 위한 기준 선을 정의하는 모델\n",
        "최적의 경계를 찾는 것이 목적\n",
        "      - 분류하는 데이터들 사이의 마진이 최대가 되는 선이 좋다    "
      ],
      "metadata": {
        "id": "U_20ncmFMP1J"
      }
    },
    {
      "cell_type": "code",
      "source": [
        "from sklearn import svm\n",
        "clf = svm.SVC()\n",
        "\n",
        "clf.fit(X_train,y_train)\n",
        "y_pred=clf.predict(X_test)\n",
        "\n",
        "acc = accuracy_score(y_test, y_pred)\n",
        "\n",
        "print('dow svm 정확도:', acc)\n",
        "\n",
        "clf2 = svm.SVC()\n",
        "\n",
        "clf2.fit(X_train2,y_train2)\n",
        "y_pred2=clf2.predict(X_test2)\n",
        "\n",
        "acc2 = accuracy_score(y_test2, y_pred2)\n",
        "\n",
        "print('nasdaq svm 정확도:', acc2)\n",
        "\n",
        "\n",
        "clf3 = svm.SVC()\n",
        "\n",
        "clf3.fit(X_train3,y_train3)\n",
        "y_pred3=clf.predict(X_test3)\n",
        "\n",
        "acc3 = accuracy_score(y_test3, y_pred3)\n",
        "\n",
        "print('sp500 svm 정확도:', acc3)"
      ],
      "metadata": {
        "colab": {
          "base_uri": "https://localhost:8080/"
        },
        "id": "ucepp2UlLLQo",
        "outputId": "2ed6554e-b1ee-491e-f31f-20f43eb50e03"
      },
      "execution_count": 130,
      "outputs": [
        {
          "output_type": "stream",
          "name": "stdout",
          "text": [
            "dow svm 정확도: 0.5530612244897959\n",
            "nasdaq svm 정확도: 0.5653061224489796\n",
            "sp500 svm 정확도: 0.5387755102040817\n"
          ]
        }
      ]
    },
    {
      "cell_type": "markdown",
      "source": [
        "## RandomForestClassifier(배깅)\n",
        "  - 배깅: 같은 알고리즘 여러개 결합. 랜덤 포레스트 알고리즘이 이에 속함\n",
        "      - 랜덤 포레스트: 대표적 배깅 알고리즘으로 빠르고 예측 성능이 좋다 결정트리 여러개로 구성.\n",
        "      - 각 분류기는 서로 다른 데이터셋을 학습하지만 일부 데이터는 중첩되어 있다. 이를 부트스트래핑이라 함."
      ],
      "metadata": {
        "id": "t3KETpfsRqni"
      }
    },
    {
      "cell_type": "code",
      "source": [
        "# randomforestClassifier\n",
        "from sklearn.ensemble import RandomForestClassifier\n",
        "from sklearn.metrics import accuracy_score\n",
        "rf_clf=RandomForestClassifier(random_state=0)\n",
        "rf_clf.fit(X_train,y_train)\n",
        "pred=rf_clf.predict(X_test)\n",
        "a=accuracy_score(y_test,pred)\n",
        "\n",
        "rf_clf2=RandomForestClassifier(random_state=0)\n",
        "rf_clf2.fit(X_train2,y_train2)\n",
        "pred2=rf_clf2.predict(X_test2)\n",
        "b=accuracy_score(y_test2,pred2)\n",
        "\n",
        "rf_clf3=RandomForestClassifier(random_state=0)\n",
        "rf_clf3.fit(X_train3,y_train3)\n",
        "pred3=rf_clf3.predict(X_test3)\n",
        "c=accuracy_score(y_test3,pred3)\n",
        "\n",
        "print('DOW :',a,'NASDAQ : ',b,'SP500 : ',c)"
      ],
      "metadata": {
        "colab": {
          "base_uri": "https://localhost:8080/"
        },
        "id": "zqEWcMXEJEeY",
        "outputId": "36bd9adc-55a6-44f6-9a5c-fe63dae4e56e"
      },
      "execution_count": 131,
      "outputs": [
        {
          "output_type": "stream",
          "name": "stdout",
          "text": [
            "DOW : 0.5102040816326531 NASDAQ :  0.5387755102040817 SP500 :  0.5244897959183673\n"
          ]
        }
      ]
    },
    {
      "cell_type": "markdown",
      "source": [
        "## GridSearchCV(최적파라미터찾기)"
      ],
      "metadata": {
        "id": "LGHWGtnJRnou"
      }
    },
    {
      "cell_type": "code",
      "source": [
        "\n",
        "from sklearn.model_selection import GridSearchCV\n",
        "\n",
        "params = {\n",
        "    'n_estimators':[90],\n",
        "    'max_depth' : [6], \n",
        "    'min_samples_leaf' : [6,7,8],\n",
        "    'min_samples_split' : [6,7,8]\n",
        "}\n",
        "# RandomForestClassifier 객체 생성 후 GridSearchCV 수행\n",
        "grid_cv = GridSearchCV(rf_clf , param_grid=params , cv=2, n_jobs=-1 )\n",
        "grid_cv.fit(X_train , y_train)\n",
        "\n",
        "grid_cv2 = GridSearchCV(rf_clf2 , param_grid=params , cv=2, n_jobs=-1 )\n",
        "grid_cv2.fit(X_train2 , y_train2)\n",
        "\n",
        "grid_cv3 = GridSearchCV(rf_clf3 , param_grid=params , cv=2, n_jobs=-1 )\n",
        "grid_cv3.fit(X_train3 , y_train3)\n",
        "\n",
        "print('dow 최적 하이퍼 파라미터:\\n', grid_cv.best_params_)\n",
        "print('dow 최고 예측 정확도: {0:.4f}'.format(grid_cv.best_score_))\n",
        "\n",
        "print('nasdaq 최적 하이퍼 파라미터:\\n', grid_cv2.best_params_)\n",
        "print('nasdaq 최고 예측 정확도: {0:.4f}'.format(grid_cv2.best_score_))\n",
        "\n",
        "print('sp500  최적 하이퍼 파라미터:\\n', grid_cv3.best_params_)\n",
        "print('sp500 최고 예측 정확도: {0:.4f}'.format(grid_cv3.best_score_))"
      ],
      "metadata": {
        "colab": {
          "base_uri": "https://localhost:8080/"
        },
        "id": "Kh0FyYhVJte3",
        "outputId": "67a12ef6-7c93-4edd-b722-c927c77dc7f0"
      },
      "execution_count": 132,
      "outputs": [
        {
          "output_type": "stream",
          "name": "stdout",
          "text": [
            "dow 최적 하이퍼 파라미터:\n",
            " {'max_depth': 6, 'min_samples_leaf': 8, 'min_samples_split': 6, 'n_estimators': 90}\n",
            "dow 최고 예측 정확도: 0.5373\n",
            "nasdaq 최적 하이퍼 파라미터:\n",
            " {'max_depth': 6, 'min_samples_leaf': 7, 'min_samples_split': 6, 'n_estimators': 90}\n",
            "nasdaq 최고 예측 정확도: 0.5465\n",
            "sp500  최적 하이퍼 파라미터:\n",
            " {'max_depth': 6, 'min_samples_leaf': 8, 'min_samples_split': 6, 'n_estimators': 90}\n",
            "sp500 최고 예측 정확도: 0.5516\n"
          ]
        }
      ]
    },
    {
      "cell_type": "code",
      "source": [
        "gb_pred = grid_cv.best_estimator_.predict(X_test)\n",
        "gb_accuracy = accuracy_score(y_test, gb_pred)\n",
        "\n",
        "gb_pred2 = grid_cv2.best_estimator_.predict(X_test2)\n",
        "gb_accuracy2 = accuracy_score(y_test2, gb_pred2)\n",
        "\n",
        "gb_pred3 = grid_cv3.best_estimator_.predict(X_test3)\n",
        "gb_accuracy3 = accuracy_score(y_test3, gb_pred3)\n",
        "\n",
        "print('dow GridSearchCV 정확도: {0:.4f}'.format(gb_accuracy))\n",
        "print('nasdaq GridSearchCV 정확도: {0:.4f}'.format(gb_accuracy2))\n",
        "print('sp500 GridSearchCV 정확도: {0:.4f}'.format(gb_accuracy3))"
      ],
      "metadata": {
        "colab": {
          "base_uri": "https://localhost:8080/"
        },
        "id": "L0WrcmSHMYxF",
        "outputId": "3a046aea-3cd7-4d37-89e0-c4ac7dddf54f"
      },
      "execution_count": 134,
      "outputs": [
        {
          "output_type": "stream",
          "name": "stdout",
          "text": [
            "dow GridSearchCV 정확도: 0.5571\n",
            "nasdaq GridSearchCV 정확도: 0.5510\n",
            "sp500 GridSearchCV 정확도: 0.5286\n"
          ]
        }
      ]
    },
    {
      "cell_type": "markdown",
      "source": [
        "## GBClassifier(부스팅)\n",
        "    - 여러 약한 학습기가 순차적으로 느슨하게 분류하고 오분류된 데이터에 대해 가중치를 부여하여, 예측 결정 기준을 모두 결합해 예측을 수행\n",
        "    - 가중치 업데이트를 경사 하강법을 이용"
      ],
      "metadata": {
        "id": "kReyZDaQRd1D"
      }
    },
    {
      "cell_type": "code",
      "source": [
        "\n",
        "from sklearn.ensemble import GradientBoostingClassifier\n",
        "import time\n",
        "\n",
        "# GBM 수행 시간 측정을 위함. 시작 시간 설정.\n",
        "start_time = time.time()\n",
        "\n",
        "gb_clf = GradientBoostingClassifier(random_state=0)\n",
        "gb_clf.fit(X_train , y_train)\n",
        "gb_pred = gb_clf.predict(X_test)\n",
        "\n",
        "gb_accuracy = accuracy_score(y_test, gb_pred)\n",
        "\n",
        "gb_clf2 = GradientBoostingClassifier(random_state=0)\n",
        "gb_clf2.fit(X_train2 , y_train2)\n",
        "gb_pred2 = gb_clf2.predict(X_test2)\n",
        "\n",
        "gb_accuracy2 = accuracy_score(y_test2, gb_pred2)\n",
        "\n",
        "gb_clf3 = GradientBoostingClassifier(random_state=0)\n",
        "gb_clf3.fit(X_train3 , y_train3)\n",
        "gb_pred3 = gb_clf3.predict(X_test3)\n",
        "\n",
        "gb_accuracy3 = accuracy_score(y_test3, gb_pred3)\n",
        "\n",
        "print('dow GBClassifier 정확도: {0:.4f}'.format(gb_accuracy))\n",
        "\n",
        "print('nasdaq GBClassifier 정확도: {0:.4f}'.format(gb_accuracy2))\n",
        "\n",
        "print('sp500 GBClassifier 정확도: {0:.4f}'.format(gb_accuracy3))\n"
      ],
      "metadata": {
        "colab": {
          "base_uri": "https://localhost:8080/"
        },
        "id": "0pXYKwzdOVcM",
        "outputId": "04b2046c-d707-4765-c411-6734d1239257"
      },
      "execution_count": 135,
      "outputs": [
        {
          "output_type": "stream",
          "name": "stdout",
          "text": [
            "dow GBClassifier 정확도: 0.5367\n",
            "nasdaq GBClassifier 정확도: 0.5449\n",
            "sp500 GBClassifier 정확도: 0.5429\n"
          ]
        }
      ]
    },
    {
      "cell_type": "markdown",
      "source": [
        "## xgboost\n",
        "\n",
        "    - GBM에 기반하고 있고, 단점인 느린 수행 시간 및 과적합 등의 문제를 해결했으며 특히 병렬 학습이 가능해 기존 GBM보다 빠른 학습이 가능하다.\n",
        "    - 뛰어난 예측 성능\n",
        "    - GBM 대비 빠른 수행 시간\n",
        "    - 과적합 규제\n",
        "    - 나무 가지치기: 의미 없는 분할 제거\n",
        "    - 결손값 자체 처리\n",
        "    - 자체 내장된 교차 검증"
      ],
      "metadata": {
        "id": "KPTnbRcpR5Ah"
      }
    },
    {
      "cell_type": "code",
      "source": [
        "import xgboost as xgb\n",
        "from xgboost import plot_importance\n",
        "\n",
        "dtrain = xgb.DMatrix(data=X_train , label=y_train)\n",
        "dtest = xgb.DMatrix(data=X_test , label=y_test)\n",
        "\n",
        "dtrain2 = xgb.DMatrix(data=X_train2 , label=y_train2)\n",
        "dtest2 = xgb.DMatrix(data=X_test2 , label=y_test2)\n",
        "\n",
        "dtrain3 = xgb.DMatrix(data=X_train3 , label=y_train3)\n",
        "dtest3 = xgb.DMatrix(data=X_test3 , label=y_test3)\n",
        "\n",
        "params = { 'max_depth':3,\n",
        "           'eta': 0.1,\n",
        "           'objective':'binary:logistic',\n",
        "           'eval_metric':'logloss'\n",
        "        }\n",
        "num_rounds = 400\n",
        "\n",
        "wlist = [(dtrain,'train'),(dtest,'eval') ]\n",
        "wlist2 = [(dtrain2,'train'),(dtest2,'eval') ]\n",
        "wlist3 = [(dtrain3,'train'),(dtest3,'eval') ]\n",
        "\n",
        "xgb_model = xgb.train(params = params , dtrain=dtrain , num_boost_round=num_rounds ,early_stopping_rounds=100, evals=wlist )\n",
        "pred_probs = xgb_model.predict(dtest)\n",
        "\n",
        "xgb_model2 = xgb.train(params = params , dtrain=dtrain2 , num_boost_round=num_rounds ,early_stopping_rounds=100, evals=wlist2 )\n",
        "pred_probs2 = xgb_model2.predict(dtest2)\n",
        "\n",
        "xgb_model3 = xgb.train(params = params , dtrain=dtrain3 , num_boost_round=num_rounds ,early_stopping_rounds=100, evals=wlist3 )\n",
        "pred_probs3 = xgb_model3.predict(dtest3)\n",
        "# print('predict( ) 수행 결과값을 10개만 표시, 예측 확률 값으로 표시됨')\n",
        "# print(np.round(pred_probs[:10],3))"
      ],
      "metadata": {
        "colab": {
          "base_uri": "https://localhost:8080/"
        },
        "id": "FgL6SL4-L_An",
        "outputId": "118aba56-3934-4c0e-9c1c-e9d9d64b7e74"
      },
      "execution_count": 140,
      "outputs": [
        {
          "output_type": "stream",
          "name": "stdout",
          "text": [
            "[0]\ttrain-logloss:0.689476\teval-logloss:0.692232\n",
            "Multiple eval metrics have been passed: 'eval-logloss' will be used for early stopping.\n",
            "\n",
            "Will train until eval-logloss hasn't improved in 100 rounds.\n",
            "[1]\ttrain-logloss:0.686355\teval-logloss:0.691671\n",
            "[2]\ttrain-logloss:0.684083\teval-logloss:0.691199\n",
            "[3]\ttrain-logloss:0.682158\teval-logloss:0.690398\n",
            "[4]\ttrain-logloss:0.680076\teval-logloss:0.689637\n",
            "[5]\ttrain-logloss:0.678678\teval-logloss:0.688865\n",
            "[6]\ttrain-logloss:0.676363\teval-logloss:0.687905\n",
            "[7]\ttrain-logloss:0.673981\teval-logloss:0.687713\n",
            "[8]\ttrain-logloss:0.672732\teval-logloss:0.687203\n",
            "[9]\ttrain-logloss:0.670605\teval-logloss:0.686835\n",
            "[10]\ttrain-logloss:0.669011\teval-logloss:0.687292\n",
            "[11]\ttrain-logloss:0.667996\teval-logloss:0.687337\n",
            "[12]\ttrain-logloss:0.666755\teval-logloss:0.686592\n",
            "[13]\ttrain-logloss:0.665935\teval-logloss:0.686754\n",
            "[14]\ttrain-logloss:0.664979\teval-logloss:0.686693\n",
            "[15]\ttrain-logloss:0.664456\teval-logloss:0.68624\n",
            "[16]\ttrain-logloss:0.663099\teval-logloss:0.686167\n",
            "[17]\ttrain-logloss:0.661996\teval-logloss:0.68594\n",
            "[18]\ttrain-logloss:0.661205\teval-logloss:0.685737\n",
            "[19]\ttrain-logloss:0.660391\teval-logloss:0.686024\n",
            "[20]\ttrain-logloss:0.65961\teval-logloss:0.686369\n",
            "[21]\ttrain-logloss:0.659031\teval-logloss:0.686304\n",
            "[22]\ttrain-logloss:0.657989\teval-logloss:0.686712\n",
            "[23]\ttrain-logloss:0.657298\teval-logloss:0.686394\n",
            "[24]\ttrain-logloss:0.655787\teval-logloss:0.685647\n",
            "[25]\ttrain-logloss:0.654762\teval-logloss:0.685099\n",
            "[26]\ttrain-logloss:0.654275\teval-logloss:0.685124\n",
            "[27]\ttrain-logloss:0.65306\teval-logloss:0.685253\n",
            "[28]\ttrain-logloss:0.651472\teval-logloss:0.686027\n",
            "[29]\ttrain-logloss:0.651008\teval-logloss:0.686035\n",
            "[30]\ttrain-logloss:0.649589\teval-logloss:0.686439\n",
            "[31]\ttrain-logloss:0.64917\teval-logloss:0.686504\n",
            "[32]\ttrain-logloss:0.648617\teval-logloss:0.686625\n",
            "[33]\ttrain-logloss:0.647846\teval-logloss:0.686482\n",
            "[34]\ttrain-logloss:0.646966\teval-logloss:0.686093\n",
            "[35]\ttrain-logloss:0.645618\teval-logloss:0.68658\n",
            "[36]\ttrain-logloss:0.644779\teval-logloss:0.686595\n",
            "[37]\ttrain-logloss:0.644299\teval-logloss:0.686535\n",
            "[38]\ttrain-logloss:0.643943\teval-logloss:0.686333\n",
            "[39]\ttrain-logloss:0.642933\teval-logloss:0.686699\n",
            "[40]\ttrain-logloss:0.642284\teval-logloss:0.686643\n",
            "[41]\ttrain-logloss:0.641873\teval-logloss:0.686584\n",
            "[42]\ttrain-logloss:0.640869\teval-logloss:0.686951\n",
            "[43]\ttrain-logloss:0.639138\teval-logloss:0.687296\n",
            "[44]\ttrain-logloss:0.638359\teval-logloss:0.68691\n",
            "[45]\ttrain-logloss:0.637894\teval-logloss:0.687055\n",
            "[46]\ttrain-logloss:0.637146\teval-logloss:0.687042\n",
            "[47]\ttrain-logloss:0.63683\teval-logloss:0.686876\n",
            "[48]\ttrain-logloss:0.6354\teval-logloss:0.686659\n",
            "[49]\ttrain-logloss:0.63424\teval-logloss:0.687154\n",
            "[50]\ttrain-logloss:0.633266\teval-logloss:0.687451\n",
            "[51]\ttrain-logloss:0.63183\teval-logloss:0.687919\n",
            "[52]\ttrain-logloss:0.630784\teval-logloss:0.68897\n",
            "[53]\ttrain-logloss:0.629624\teval-logloss:0.688631\n",
            "[54]\ttrain-logloss:0.629283\teval-logloss:0.688654\n",
            "[55]\ttrain-logloss:0.628737\teval-logloss:0.688711\n",
            "[56]\ttrain-logloss:0.62795\teval-logloss:0.688957\n",
            "[57]\ttrain-logloss:0.627628\teval-logloss:0.689101\n",
            "[58]\ttrain-logloss:0.627097\teval-logloss:0.689454\n",
            "[59]\ttrain-logloss:0.626055\teval-logloss:0.688944\n",
            "[60]\ttrain-logloss:0.625778\teval-logloss:0.688826\n",
            "[61]\ttrain-logloss:0.624575\teval-logloss:0.689237\n",
            "[62]\ttrain-logloss:0.623903\teval-logloss:0.689561\n",
            "[63]\ttrain-logloss:0.623513\teval-logloss:0.689692\n",
            "[64]\ttrain-logloss:0.622808\teval-logloss:0.689304\n",
            "[65]\ttrain-logloss:0.622519\teval-logloss:0.689454\n",
            "[66]\ttrain-logloss:0.621531\teval-logloss:0.68905\n",
            "[67]\ttrain-logloss:0.621134\teval-logloss:0.689058\n",
            "[68]\ttrain-logloss:0.620617\teval-logloss:0.689135\n",
            "[69]\ttrain-logloss:0.620153\teval-logloss:0.688936\n",
            "[70]\ttrain-logloss:0.619324\teval-logloss:0.688728\n",
            "[71]\ttrain-logloss:0.617945\teval-logloss:0.689104\n",
            "[72]\ttrain-logloss:0.61689\teval-logloss:0.68928\n",
            "[73]\ttrain-logloss:0.615845\teval-logloss:0.689797\n",
            "[74]\ttrain-logloss:0.6146\teval-logloss:0.690176\n",
            "[75]\ttrain-logloss:0.61357\teval-logloss:0.691068\n",
            "[76]\ttrain-logloss:0.612432\teval-logloss:0.690808\n",
            "[77]\ttrain-logloss:0.612171\teval-logloss:0.690531\n",
            "[78]\ttrain-logloss:0.611928\teval-logloss:0.690604\n",
            "[79]\ttrain-logloss:0.611314\teval-logloss:0.690452\n",
            "[80]\ttrain-logloss:0.610109\teval-logloss:0.69047\n",
            "[81]\ttrain-logloss:0.609451\teval-logloss:0.691225\n",
            "[82]\ttrain-logloss:0.608169\teval-logloss:0.691177\n",
            "[83]\ttrain-logloss:0.607348\teval-logloss:0.691424\n",
            "[84]\ttrain-logloss:0.606422\teval-logloss:0.691765\n",
            "[85]\ttrain-logloss:0.605528\teval-logloss:0.691794\n",
            "[86]\ttrain-logloss:0.604649\teval-logloss:0.692586\n",
            "[87]\ttrain-logloss:0.604238\teval-logloss:0.692686\n",
            "[88]\ttrain-logloss:0.603996\teval-logloss:0.692741\n",
            "[89]\ttrain-logloss:0.603759\teval-logloss:0.692668\n",
            "[90]\ttrain-logloss:0.602463\teval-logloss:0.692781\n",
            "[91]\ttrain-logloss:0.601874\teval-logloss:0.692514\n",
            "[92]\ttrain-logloss:0.601653\teval-logloss:0.692591\n",
            "[93]\ttrain-logloss:0.601211\teval-logloss:0.692685\n",
            "[94]\ttrain-logloss:0.600359\teval-logloss:0.692899\n",
            "[95]\ttrain-logloss:0.599765\teval-logloss:0.692369\n",
            "[96]\ttrain-logloss:0.599555\teval-logloss:0.692228\n",
            "[97]\ttrain-logloss:0.599356\teval-logloss:0.69238\n",
            "[98]\ttrain-logloss:0.599061\teval-logloss:0.692479\n",
            "[99]\ttrain-logloss:0.598099\teval-logloss:0.692283\n",
            "[100]\ttrain-logloss:0.597183\teval-logloss:0.691741\n",
            "[101]\ttrain-logloss:0.596469\teval-logloss:0.6921\n",
            "[102]\ttrain-logloss:0.595863\teval-logloss:0.692469\n",
            "[103]\ttrain-logloss:0.595181\teval-logloss:0.692938\n",
            "[104]\ttrain-logloss:0.594127\teval-logloss:0.693002\n",
            "[105]\ttrain-logloss:0.593385\teval-logloss:0.693658\n",
            "[106]\ttrain-logloss:0.592634\teval-logloss:0.694072\n",
            "[107]\ttrain-logloss:0.591893\teval-logloss:0.693747\n",
            "[108]\ttrain-logloss:0.591038\teval-logloss:0.693867\n",
            "[109]\ttrain-logloss:0.59015\teval-logloss:0.694295\n",
            "[110]\ttrain-logloss:0.589109\teval-logloss:0.694441\n",
            "[111]\ttrain-logloss:0.588079\teval-logloss:0.693993\n",
            "[112]\ttrain-logloss:0.587092\teval-logloss:0.694058\n",
            "[113]\ttrain-logloss:0.586881\teval-logloss:0.694003\n",
            "[114]\ttrain-logloss:0.586686\teval-logloss:0.694014\n",
            "[115]\ttrain-logloss:0.586327\teval-logloss:0.693816\n",
            "[116]\ttrain-logloss:0.585389\teval-logloss:0.694212\n",
            "[117]\ttrain-logloss:0.585044\teval-logloss:0.694222\n",
            "[118]\ttrain-logloss:0.58448\teval-logloss:0.693859\n",
            "[119]\ttrain-logloss:0.584107\teval-logloss:0.694026\n",
            "[120]\ttrain-logloss:0.583562\teval-logloss:0.693771\n",
            "[121]\ttrain-logloss:0.58323\teval-logloss:0.693615\n",
            "[122]\ttrain-logloss:0.58187\teval-logloss:0.692647\n",
            "[123]\ttrain-logloss:0.581391\teval-logloss:0.69258\n",
            "[124]\ttrain-logloss:0.580234\teval-logloss:0.692788\n",
            "[125]\ttrain-logloss:0.579468\teval-logloss:0.692409\n",
            "Stopping. Best iteration:\n",
            "[25]\ttrain-logloss:0.654762\teval-logloss:0.685099\n",
            "\n",
            "[0]\ttrain-logloss:0.690166\teval-logloss:0.692192\n",
            "Multiple eval metrics have been passed: 'eval-logloss' will be used for early stopping.\n",
            "\n",
            "Will train until eval-logloss hasn't improved in 100 rounds.\n",
            "[1]\ttrain-logloss:0.687306\teval-logloss:0.691633\n",
            "[2]\ttrain-logloss:0.6848\teval-logloss:0.691539\n",
            "[3]\ttrain-logloss:0.682265\teval-logloss:0.691455\n",
            "[4]\ttrain-logloss:0.679847\teval-logloss:0.691576\n",
            "[5]\ttrain-logloss:0.678147\teval-logloss:0.692163\n",
            "[6]\ttrain-logloss:0.676286\teval-logloss:0.692301\n",
            "[7]\ttrain-logloss:0.674574\teval-logloss:0.69278\n",
            "[8]\ttrain-logloss:0.672728\teval-logloss:0.692865\n",
            "[9]\ttrain-logloss:0.67192\teval-logloss:0.693233\n",
            "[10]\ttrain-logloss:0.671209\teval-logloss:0.693394\n",
            "[11]\ttrain-logloss:0.669518\teval-logloss:0.693872\n",
            "[12]\ttrain-logloss:0.668884\teval-logloss:0.694542\n",
            "[13]\ttrain-logloss:0.668319\teval-logloss:0.694872\n",
            "[14]\ttrain-logloss:0.667837\teval-logloss:0.695226\n",
            "[15]\ttrain-logloss:0.666798\teval-logloss:0.695637\n",
            "[16]\ttrain-logloss:0.665673\teval-logloss:0.695304\n",
            "[17]\ttrain-logloss:0.665211\teval-logloss:0.695833\n",
            "[18]\ttrain-logloss:0.66429\teval-logloss:0.696058\n",
            "[19]\ttrain-logloss:0.663476\teval-logloss:0.696695\n",
            "[20]\ttrain-logloss:0.662057\teval-logloss:0.697124\n",
            "[21]\ttrain-logloss:0.661605\teval-logloss:0.697407\n",
            "[22]\ttrain-logloss:0.660972\teval-logloss:0.697302\n",
            "[23]\ttrain-logloss:0.659892\teval-logloss:0.696819\n",
            "[24]\ttrain-logloss:0.658535\teval-logloss:0.69639\n",
            "[25]\ttrain-logloss:0.657156\teval-logloss:0.696047\n",
            "[26]\ttrain-logloss:0.656595\teval-logloss:0.696438\n",
            "[27]\ttrain-logloss:0.655771\teval-logloss:0.697244\n",
            "[28]\ttrain-logloss:0.655505\teval-logloss:0.697156\n",
            "[29]\ttrain-logloss:0.654797\teval-logloss:0.697434\n",
            "[30]\ttrain-logloss:0.654146\teval-logloss:0.697349\n",
            "[31]\ttrain-logloss:0.653653\teval-logloss:0.697828\n",
            "[32]\ttrain-logloss:0.652893\teval-logloss:0.698138\n",
            "[33]\ttrain-logloss:0.651715\teval-logloss:0.698744\n",
            "[34]\ttrain-logloss:0.651139\teval-logloss:0.699195\n",
            "[35]\ttrain-logloss:0.650795\teval-logloss:0.699114\n",
            "[36]\ttrain-logloss:0.649667\teval-logloss:0.698958\n",
            "[37]\ttrain-logloss:0.648412\teval-logloss:0.698531\n",
            "[38]\ttrain-logloss:0.646658\teval-logloss:0.697854\n",
            "[39]\ttrain-logloss:0.646037\teval-logloss:0.698488\n",
            "[40]\ttrain-logloss:0.644825\teval-logloss:0.699294\n",
            "[41]\ttrain-logloss:0.643128\teval-logloss:0.69876\n",
            "[42]\ttrain-logloss:0.642698\teval-logloss:0.699221\n",
            "[43]\ttrain-logloss:0.641313\teval-logloss:0.698906\n",
            "[44]\ttrain-logloss:0.641101\teval-logloss:0.699298\n",
            "[45]\ttrain-logloss:0.64061\teval-logloss:0.699281\n",
            "[46]\ttrain-logloss:0.640147\teval-logloss:0.699369\n",
            "[47]\ttrain-logloss:0.639426\teval-logloss:0.699933\n",
            "[48]\ttrain-logloss:0.637907\teval-logloss:0.69996\n",
            "[49]\ttrain-logloss:0.637714\teval-logloss:0.700198\n",
            "[50]\ttrain-logloss:0.636195\teval-logloss:0.700465\n",
            "[51]\ttrain-logloss:0.635469\teval-logloss:0.700978\n",
            "[52]\ttrain-logloss:0.634168\teval-logloss:0.701103\n",
            "[53]\ttrain-logloss:0.63313\teval-logloss:0.70145\n",
            "[54]\ttrain-logloss:0.632751\teval-logloss:0.701413\n",
            "[55]\ttrain-logloss:0.632124\teval-logloss:0.701651\n",
            "[56]\ttrain-logloss:0.631099\teval-logloss:0.7014\n",
            "[57]\ttrain-logloss:0.630194\teval-logloss:0.701459\n",
            "[58]\ttrain-logloss:0.62972\teval-logloss:0.702292\n",
            "[59]\ttrain-logloss:0.628342\teval-logloss:0.701392\n",
            "[60]\ttrain-logloss:0.628137\teval-logloss:0.701665\n",
            "[61]\ttrain-logloss:0.627336\teval-logloss:0.702162\n",
            "[62]\ttrain-logloss:0.626711\teval-logloss:0.70299\n",
            "[63]\ttrain-logloss:0.626317\teval-logloss:0.703112\n",
            "[64]\ttrain-logloss:0.625522\teval-logloss:0.702952\n",
            "[65]\ttrain-logloss:0.624437\teval-logloss:0.70317\n",
            "[66]\ttrain-logloss:0.624052\teval-logloss:0.703267\n",
            "[67]\ttrain-logloss:0.622931\teval-logloss:0.70245\n",
            "[68]\ttrain-logloss:0.622466\teval-logloss:0.702991\n",
            "[69]\ttrain-logloss:0.621776\teval-logloss:0.702779\n",
            "[70]\ttrain-logloss:0.620624\teval-logloss:0.702313\n",
            "[71]\ttrain-logloss:0.619869\teval-logloss:0.70284\n",
            "[72]\ttrain-logloss:0.619166\teval-logloss:0.703099\n",
            "[73]\ttrain-logloss:0.618758\teval-logloss:0.703042\n",
            "[74]\ttrain-logloss:0.61841\teval-logloss:0.703121\n",
            "[75]\ttrain-logloss:0.61795\teval-logloss:0.702568\n",
            "[76]\ttrain-logloss:0.617242\teval-logloss:0.702297\n",
            "[77]\ttrain-logloss:0.616464\teval-logloss:0.70274\n",
            "[78]\ttrain-logloss:0.616144\teval-logloss:0.702862\n",
            "[79]\ttrain-logloss:0.615241\teval-logloss:0.702903\n",
            "[80]\ttrain-logloss:0.61449\teval-logloss:0.703427\n",
            "[81]\ttrain-logloss:0.613688\teval-logloss:0.703463\n",
            "[82]\ttrain-logloss:0.613406\teval-logloss:0.703595\n",
            "[83]\ttrain-logloss:0.612457\teval-logloss:0.703317\n",
            "[84]\ttrain-logloss:0.61137\teval-logloss:0.703682\n",
            "[85]\ttrain-logloss:0.610121\teval-logloss:0.703536\n",
            "[86]\ttrain-logloss:0.609745\teval-logloss:0.703654\n",
            "[87]\ttrain-logloss:0.608891\teval-logloss:0.703844\n",
            "[88]\ttrain-logloss:0.608215\teval-logloss:0.704024\n",
            "[89]\ttrain-logloss:0.607181\teval-logloss:0.70459\n",
            "[90]\ttrain-logloss:0.606519\teval-logloss:0.705139\n",
            "[91]\ttrain-logloss:0.606094\teval-logloss:0.70557\n",
            "[92]\ttrain-logloss:0.604789\teval-logloss:0.706114\n",
            "[93]\ttrain-logloss:0.604297\teval-logloss:0.705885\n",
            "[94]\ttrain-logloss:0.603355\teval-logloss:0.705697\n",
            "[95]\ttrain-logloss:0.60296\teval-logloss:0.706267\n",
            "[96]\ttrain-logloss:0.602161\teval-logloss:0.706117\n",
            "[97]\ttrain-logloss:0.601414\teval-logloss:0.705347\n",
            "[98]\ttrain-logloss:0.601079\teval-logloss:0.705346\n",
            "[99]\ttrain-logloss:0.600806\teval-logloss:0.705239\n",
            "[100]\ttrain-logloss:0.599901\teval-logloss:0.705535\n",
            "[101]\ttrain-logloss:0.598965\teval-logloss:0.70544\n",
            "[102]\ttrain-logloss:0.598369\teval-logloss:0.705203\n",
            "[103]\ttrain-logloss:0.597714\teval-logloss:0.70581\n",
            "Stopping. Best iteration:\n",
            "[3]\ttrain-logloss:0.682265\teval-logloss:0.691455\n",
            "\n",
            "[0]\ttrain-logloss:0.689857\teval-logloss:0.693294\n",
            "Multiple eval metrics have been passed: 'eval-logloss' will be used for early stopping.\n",
            "\n",
            "Will train until eval-logloss hasn't improved in 100 rounds.\n",
            "[1]\ttrain-logloss:0.687275\teval-logloss:0.692833\n",
            "[2]\ttrain-logloss:0.684776\teval-logloss:0.69334\n",
            "[3]\ttrain-logloss:0.682295\teval-logloss:0.692068\n",
            "[4]\ttrain-logloss:0.680474\teval-logloss:0.691448\n",
            "[5]\ttrain-logloss:0.678628\teval-logloss:0.691033\n",
            "[6]\ttrain-logloss:0.676729\teval-logloss:0.690834\n",
            "[7]\ttrain-logloss:0.674765\teval-logloss:0.690189\n",
            "[8]\ttrain-logloss:0.673384\teval-logloss:0.68996\n",
            "[9]\ttrain-logloss:0.672415\teval-logloss:0.689869\n",
            "[10]\ttrain-logloss:0.671514\teval-logloss:0.689627\n",
            "[11]\ttrain-logloss:0.670186\teval-logloss:0.690418\n",
            "[12]\ttrain-logloss:0.669144\teval-logloss:0.690373\n",
            "[13]\ttrain-logloss:0.668304\teval-logloss:0.69023\n",
            "[14]\ttrain-logloss:0.667415\teval-logloss:0.690333\n",
            "[15]\ttrain-logloss:0.667013\teval-logloss:0.690029\n",
            "[16]\ttrain-logloss:0.666268\teval-logloss:0.690326\n",
            "[17]\ttrain-logloss:0.665696\teval-logloss:0.690051\n",
            "[18]\ttrain-logloss:0.664433\teval-logloss:0.690179\n",
            "[19]\ttrain-logloss:0.663625\teval-logloss:0.690572\n",
            "[20]\ttrain-logloss:0.662794\teval-logloss:0.69005\n",
            "[21]\ttrain-logloss:0.661785\teval-logloss:0.690464\n",
            "[22]\ttrain-logloss:0.661191\teval-logloss:0.69061\n",
            "[23]\ttrain-logloss:0.660579\teval-logloss:0.690996\n",
            "[24]\ttrain-logloss:0.659598\teval-logloss:0.690832\n",
            "[25]\ttrain-logloss:0.6592\teval-logloss:0.690567\n",
            "[26]\ttrain-logloss:0.657693\teval-logloss:0.690923\n",
            "[27]\ttrain-logloss:0.657167\teval-logloss:0.691151\n",
            "[28]\ttrain-logloss:0.655505\teval-logloss:0.691176\n",
            "[29]\ttrain-logloss:0.654343\teval-logloss:0.691648\n",
            "[30]\ttrain-logloss:0.653563\teval-logloss:0.69163\n",
            "[31]\ttrain-logloss:0.653029\teval-logloss:0.692061\n",
            "[32]\ttrain-logloss:0.652678\teval-logloss:0.691853\n",
            "[33]\ttrain-logloss:0.652066\teval-logloss:0.692439\n",
            "[34]\ttrain-logloss:0.651286\teval-logloss:0.692472\n",
            "[35]\ttrain-logloss:0.649398\teval-logloss:0.6935\n",
            "[36]\ttrain-logloss:0.648405\teval-logloss:0.693371\n",
            "[37]\ttrain-logloss:0.646862\teval-logloss:0.694096\n",
            "[38]\ttrain-logloss:0.646558\teval-logloss:0.693873\n",
            "[39]\ttrain-logloss:0.645938\teval-logloss:0.693906\n",
            "[40]\ttrain-logloss:0.645282\teval-logloss:0.69383\n",
            "[41]\ttrain-logloss:0.644587\teval-logloss:0.694216\n",
            "[42]\ttrain-logloss:0.643736\teval-logloss:0.694544\n",
            "[43]\ttrain-logloss:0.643442\teval-logloss:0.694409\n",
            "[44]\ttrain-logloss:0.642875\teval-logloss:0.694339\n",
            "[45]\ttrain-logloss:0.641445\teval-logloss:0.695276\n",
            "[46]\ttrain-logloss:0.640883\teval-logloss:0.695604\n",
            "[47]\ttrain-logloss:0.639428\teval-logloss:0.695988\n",
            "[48]\ttrain-logloss:0.638781\teval-logloss:0.695756\n",
            "[49]\ttrain-logloss:0.63722\teval-logloss:0.697052\n",
            "[50]\ttrain-logloss:0.636678\teval-logloss:0.696825\n",
            "[51]\ttrain-logloss:0.636272\teval-logloss:0.697419\n",
            "[52]\ttrain-logloss:0.635629\teval-logloss:0.697009\n",
            "[53]\ttrain-logloss:0.634654\teval-logloss:0.697372\n",
            "[54]\ttrain-logloss:0.633391\teval-logloss:0.698417\n",
            "[55]\ttrain-logloss:0.633129\teval-logloss:0.698213\n",
            "[56]\ttrain-logloss:0.632729\teval-logloss:0.698656\n",
            "[57]\ttrain-logloss:0.631878\teval-logloss:0.698437\n",
            "[58]\ttrain-logloss:0.631407\teval-logloss:0.698749\n",
            "[59]\ttrain-logloss:0.630355\teval-logloss:0.699335\n",
            "[60]\ttrain-logloss:0.628861\teval-logloss:0.700523\n",
            "[61]\ttrain-logloss:0.627725\teval-logloss:0.701849\n",
            "[62]\ttrain-logloss:0.627212\teval-logloss:0.70169\n",
            "[63]\ttrain-logloss:0.62665\teval-logloss:0.702205\n",
            "[64]\ttrain-logloss:0.6256\teval-logloss:0.702805\n",
            "[65]\ttrain-logloss:0.625257\teval-logloss:0.702704\n",
            "[66]\ttrain-logloss:0.624904\teval-logloss:0.703105\n",
            "[67]\ttrain-logloss:0.624646\teval-logloss:0.703006\n",
            "[68]\ttrain-logloss:0.623393\teval-logloss:0.703392\n",
            "[69]\ttrain-logloss:0.622905\teval-logloss:0.703393\n",
            "[70]\ttrain-logloss:0.622411\teval-logloss:0.703298\n",
            "[71]\ttrain-logloss:0.622193\teval-logloss:0.703135\n",
            "[72]\ttrain-logloss:0.621772\teval-logloss:0.703479\n",
            "[73]\ttrain-logloss:0.621374\teval-logloss:0.704116\n",
            "[74]\ttrain-logloss:0.621139\teval-logloss:0.704037\n",
            "[75]\ttrain-logloss:0.619866\teval-logloss:0.70413\n",
            "[76]\ttrain-logloss:0.618235\teval-logloss:0.704713\n",
            "[77]\ttrain-logloss:0.617695\teval-logloss:0.704947\n",
            "[78]\ttrain-logloss:0.616568\teval-logloss:0.705582\n",
            "[79]\ttrain-logloss:0.616145\teval-logloss:0.705582\n",
            "[80]\ttrain-logloss:0.615651\teval-logloss:0.706418\n",
            "[81]\ttrain-logloss:0.61401\teval-logloss:0.706446\n",
            "[82]\ttrain-logloss:0.613134\teval-logloss:0.706457\n",
            "[83]\ttrain-logloss:0.612396\teval-logloss:0.706958\n",
            "[84]\ttrain-logloss:0.611944\teval-logloss:0.707204\n",
            "[85]\ttrain-logloss:0.61056\teval-logloss:0.706748\n",
            "[86]\ttrain-logloss:0.609649\teval-logloss:0.707047\n",
            "[87]\ttrain-logloss:0.608343\teval-logloss:0.706965\n",
            "[88]\ttrain-logloss:0.606965\teval-logloss:0.707732\n",
            "[89]\ttrain-logloss:0.606106\teval-logloss:0.707744\n",
            "[90]\ttrain-logloss:0.605363\teval-logloss:0.708012\n",
            "[91]\ttrain-logloss:0.605016\teval-logloss:0.708047\n",
            "[92]\ttrain-logloss:0.604584\teval-logloss:0.707982\n",
            "[93]\ttrain-logloss:0.604315\teval-logloss:0.707933\n",
            "[94]\ttrain-logloss:0.603267\teval-logloss:0.708508\n",
            "[95]\ttrain-logloss:0.602219\teval-logloss:0.708678\n",
            "[96]\ttrain-logloss:0.601836\teval-logloss:0.708943\n",
            "[97]\ttrain-logloss:0.601546\teval-logloss:0.709342\n",
            "[98]\ttrain-logloss:0.601139\teval-logloss:0.709375\n",
            "[99]\ttrain-logloss:0.600217\teval-logloss:0.709385\n",
            "[100]\ttrain-logloss:0.599111\teval-logloss:0.709145\n",
            "[101]\ttrain-logloss:0.598603\teval-logloss:0.708791\n",
            "[102]\ttrain-logloss:0.59826\teval-logloss:0.709489\n",
            "[103]\ttrain-logloss:0.597388\teval-logloss:0.70947\n",
            "[104]\ttrain-logloss:0.59608\teval-logloss:0.709193\n",
            "[105]\ttrain-logloss:0.595937\teval-logloss:0.70899\n",
            "[106]\ttrain-logloss:0.594831\teval-logloss:0.70937\n",
            "[107]\ttrain-logloss:0.594619\teval-logloss:0.709432\n",
            "[108]\ttrain-logloss:0.594026\teval-logloss:0.709788\n",
            "[109]\ttrain-logloss:0.592913\teval-logloss:0.709692\n",
            "[110]\ttrain-logloss:0.592098\teval-logloss:0.709238\n",
            "Stopping. Best iteration:\n",
            "[10]\ttrain-logloss:0.671514\teval-logloss:0.689627\n",
            "\n"
          ]
        }
      ]
    },
    {
      "cell_type": "code",
      "source": [
        "# 예측 확률이 0.5 보다 크면 1 , 그렇지 않으면 0 으로 예측값 결정하여 List 객체인 preds에 저장 \n",
        "xgb_preds = [ 1 if x > 0.5 else 0 for x in pred_probs ]\n",
        "print('dow 예측값 10개만 표시:',xgb_preds[:10])\n",
        "\n",
        "xgb_preds2 = [ 1 if x > 0.5 else 0 for x in pred_probs2 ]\n",
        "print('nasdaq 예측값 10개만 표시:',xgb_preds2[:10])\n",
        "\n",
        "xgb_preds3 = [ 1 if x > 0.5 else 0 for x in pred_probs3 ]\n",
        "print('sp500 예측값 10개만 표시:',xgb_preds3[:10])"
      ],
      "metadata": {
        "colab": {
          "base_uri": "https://localhost:8080/"
        },
        "id": "dS5U34d7hJ_K",
        "outputId": "10219a57-0831-4468-cd58-b4f6365674e6"
      },
      "execution_count": 141,
      "outputs": [
        {
          "output_type": "stream",
          "name": "stdout",
          "text": [
            "dow 예측값 10개만 표시: [1, 0, 0, 1, 1, 0, 1, 1, 1, 1]\n",
            "nasdaq 예측값 10개만 표시: [1, 1, 0, 1, 1, 1, 1, 1, 1, 0]\n",
            "sp500 예측값 10개만 표시: [1, 1, 0, 1, 1, 1, 1, 1, 1, 0]\n"
          ]
        }
      ]
    },
    {
      "cell_type": "code",
      "source": [
        "print('dow')\n",
        "get_clf_eval(y_test , xgb_preds, pred_probs)\n",
        "print('nasdaq')\n",
        "get_clf_eval(y_test2 , xgb_preds2, pred_probs2)\n",
        "print('sp500')\n",
        "get_clf_eval(y_test3 , xgb_preds3, pred_probs3)"
      ],
      "metadata": {
        "colab": {
          "base_uri": "https://localhost:8080/"
        },
        "id": "yz5d7uBzcvqx",
        "outputId": "9819006c-edab-4b94-d748-50304921111d"
      },
      "execution_count": 142,
      "outputs": [
        {
          "output_type": "stream",
          "name": "stdout",
          "text": [
            "dow\n",
            "오차 행렬\n",
            "[[ 70 136]\n",
            " [ 98 186]]\n",
            "정확도: 0.5224, 정밀도: 0.5776, 재현율: 0.6549,    F1: 0.6139, AUC:0.5292\n",
            "nasdaq\n",
            "오차 행렬\n",
            "[[ 55 162]\n",
            " [ 67 206]]\n",
            "정확도: 0.5327, 정밀도: 0.5598, 재현율: 0.7546,    F1: 0.6427, AUC:0.5157\n",
            "sp500\n",
            "오차 행렬\n",
            "[[ 57 155]\n",
            " [ 73 205]]\n",
            "정확도: 0.5347, 정밀도: 0.5694, 재현율: 0.7374,    F1: 0.6426, AUC:0.4885\n"
          ]
        }
      ]
    },
    {
      "cell_type": "markdown",
      "source": [
        "## LightGBM\n",
        "    - XGBoost보다 학습 시간이 훨씬 적고 메모리 사용량도 작다. 하지만 적은 데이터 세트에 적용할 경우 과적합이 쉽게 발생하는 단점이 있다.\n",
        "    - 앞서 살펴본 알고리즘들은 균형 트리를 생성하느라 시간 및 비용이 많이 드는 단점을 극복하기 위해 리프 중심 트리 분할 방법을 사용한다. 이 방법은 균형을 맞추지 않고 계속 분할을 진행하여 트리 깊이가 깊어지고 비대칭 트리가 생성된다.\n",
        "    - 더 빠른 학습과 예측 수행 시간\n",
        "    - 더 작은 메모리 사용량\n",
        "    - 카테고리형 피처의 자동 변환과 최적 분할"
      ],
      "metadata": {
        "id": "vxIvsKz0WhtP"
      }
    },
    {
      "cell_type": "code",
      "source": [
        "from lightgbm import LGBMClassifier\n",
        "\n",
        "\n",
        "lgbm_wrapper = LGBMClassifier(n_estimators=400)\n",
        "\n",
        "\n",
        "evals = [(X_test, y_test)]\n",
        "lgbm_wrapper.fit(X_train, y_train, early_stopping_rounds=100, eval_metric=\"logloss\", \n",
        "                 eval_set=evals, verbose=True)\n",
        "lgbm_preds = lgbm_wrapper.predict(X_test)\n",
        "pred_proba = lgbm_wrapper.predict_proba(X_test)[:, 1]\n",
        "a=accuracy_score(y_test,lgbm_preds)\n",
        "\n",
        "lgbm_wrapper2 = LGBMClassifier(n_estimators=400)\n",
        "\n",
        "\n",
        "evals2 = [(X_test2, y_test2)]\n",
        "lgbm_wrapper2.fit(X_train2, y_train2, early_stopping_rounds=100, eval_metric=\"logloss\", \n",
        "                 eval_set=evals2, verbose=True)\n",
        "lgbm_preds2 = lgbm_wrapper2.predict(X_test2)\n",
        "pred_proba2 = lgbm_wrapper2.predict_proba(X_test2)[:, 1]\n",
        "b=accuracy_score(y_test2,lgbm_preds2)\n",
        "\n",
        "lgbm_wrapper3 = LGBMClassifier(n_estimators=400)\n",
        "\n",
        "\n",
        "evals3 = [(X_test3, y_test3)]\n",
        "lgbm_wrapper3.fit(X_train3, y_train3, early_stopping_rounds=100, eval_metric=\"logloss\", \n",
        "                 eval_set=evals3, verbose=True)\n",
        "lgbm_preds3 = lgbm_wrapper3.predict(X_test3)\n",
        "pred_proba3 = lgbm_wrapper3.predict_proba(X_test3)[:, 1]\n",
        "c=accuracy_score(y_test3,lgbm_preds3)"
      ],
      "metadata": {
        "colab": {
          "base_uri": "https://localhost:8080/"
        },
        "id": "vwzGLa2hWgm4",
        "outputId": "33efcbf7-ba98-4ea6-c8fe-0a734c89dab3"
      },
      "execution_count": 143,
      "outputs": [
        {
          "output_type": "stream",
          "name": "stdout",
          "text": [
            "[1]\tvalid_0's binary_logloss: 0.684069\tvalid_0's binary_logloss: 0.684069\n",
            "Training until validation scores don't improve for 100 rounds.\n",
            "[2]\tvalid_0's binary_logloss: 0.684131\tvalid_0's binary_logloss: 0.684131\n",
            "[3]\tvalid_0's binary_logloss: 0.685293\tvalid_0's binary_logloss: 0.685293\n",
            "[4]\tvalid_0's binary_logloss: 0.686812\tvalid_0's binary_logloss: 0.686812\n",
            "[5]\tvalid_0's binary_logloss: 0.687946\tvalid_0's binary_logloss: 0.687946\n",
            "[6]\tvalid_0's binary_logloss: 0.68915\tvalid_0's binary_logloss: 0.68915\n",
            "[7]\tvalid_0's binary_logloss: 0.691454\tvalid_0's binary_logloss: 0.691454\n",
            "[8]\tvalid_0's binary_logloss: 0.692257\tvalid_0's binary_logloss: 0.692257\n",
            "[9]\tvalid_0's binary_logloss: 0.694349\tvalid_0's binary_logloss: 0.694349\n",
            "[10]\tvalid_0's binary_logloss: 0.69735\tvalid_0's binary_logloss: 0.69735\n",
            "[11]\tvalid_0's binary_logloss: 0.698437\tvalid_0's binary_logloss: 0.698437\n",
            "[12]\tvalid_0's binary_logloss: 0.699153\tvalid_0's binary_logloss: 0.699153\n",
            "[13]\tvalid_0's binary_logloss: 0.700978\tvalid_0's binary_logloss: 0.700978\n",
            "[14]\tvalid_0's binary_logloss: 0.70237\tvalid_0's binary_logloss: 0.70237\n",
            "[15]\tvalid_0's binary_logloss: 0.703723\tvalid_0's binary_logloss: 0.703723\n",
            "[16]\tvalid_0's binary_logloss: 0.704122\tvalid_0's binary_logloss: 0.704122\n",
            "[17]\tvalid_0's binary_logloss: 0.705289\tvalid_0's binary_logloss: 0.705289\n",
            "[18]\tvalid_0's binary_logloss: 0.705745\tvalid_0's binary_logloss: 0.705745\n",
            "[19]\tvalid_0's binary_logloss: 0.706807\tvalid_0's binary_logloss: 0.706807\n",
            "[20]\tvalid_0's binary_logloss: 0.707894\tvalid_0's binary_logloss: 0.707894\n",
            "[21]\tvalid_0's binary_logloss: 0.709014\tvalid_0's binary_logloss: 0.709014\n",
            "[22]\tvalid_0's binary_logloss: 0.710062\tvalid_0's binary_logloss: 0.710062\n",
            "[23]\tvalid_0's binary_logloss: 0.710959\tvalid_0's binary_logloss: 0.710959\n",
            "[24]\tvalid_0's binary_logloss: 0.712233\tvalid_0's binary_logloss: 0.712233\n",
            "[25]\tvalid_0's binary_logloss: 0.713666\tvalid_0's binary_logloss: 0.713666\n",
            "[26]\tvalid_0's binary_logloss: 0.715362\tvalid_0's binary_logloss: 0.715362\n",
            "[27]\tvalid_0's binary_logloss: 0.715626\tvalid_0's binary_logloss: 0.715626\n",
            "[28]\tvalid_0's binary_logloss: 0.716853\tvalid_0's binary_logloss: 0.716853\n",
            "[29]\tvalid_0's binary_logloss: 0.717988\tvalid_0's binary_logloss: 0.717988\n",
            "[30]\tvalid_0's binary_logloss: 0.719973\tvalid_0's binary_logloss: 0.719973\n",
            "[31]\tvalid_0's binary_logloss: 0.72124\tvalid_0's binary_logloss: 0.72124\n",
            "[32]\tvalid_0's binary_logloss: 0.721521\tvalid_0's binary_logloss: 0.721521\n",
            "[33]\tvalid_0's binary_logloss: 0.722079\tvalid_0's binary_logloss: 0.722079\n",
            "[34]\tvalid_0's binary_logloss: 0.723769\tvalid_0's binary_logloss: 0.723769\n",
            "[35]\tvalid_0's binary_logloss: 0.724865\tvalid_0's binary_logloss: 0.724865\n",
            "[36]\tvalid_0's binary_logloss: 0.726286\tvalid_0's binary_logloss: 0.726286\n",
            "[37]\tvalid_0's binary_logloss: 0.726508\tvalid_0's binary_logloss: 0.726508\n",
            "[38]\tvalid_0's binary_logloss: 0.726406\tvalid_0's binary_logloss: 0.726406\n",
            "[39]\tvalid_0's binary_logloss: 0.726754\tvalid_0's binary_logloss: 0.726754\n",
            "[40]\tvalid_0's binary_logloss: 0.727711\tvalid_0's binary_logloss: 0.727711\n",
            "[41]\tvalid_0's binary_logloss: 0.729038\tvalid_0's binary_logloss: 0.729038\n",
            "[42]\tvalid_0's binary_logloss: 0.729234\tvalid_0's binary_logloss: 0.729234\n",
            "[43]\tvalid_0's binary_logloss: 0.729949\tvalid_0's binary_logloss: 0.729949\n",
            "[44]\tvalid_0's binary_logloss: 0.730249\tvalid_0's binary_logloss: 0.730249\n",
            "[45]\tvalid_0's binary_logloss: 0.73282\tvalid_0's binary_logloss: 0.73282\n",
            "[46]\tvalid_0's binary_logloss: 0.733275\tvalid_0's binary_logloss: 0.733275\n",
            "[47]\tvalid_0's binary_logloss: 0.73485\tvalid_0's binary_logloss: 0.73485\n",
            "[48]\tvalid_0's binary_logloss: 0.735372\tvalid_0's binary_logloss: 0.735372\n",
            "[49]\tvalid_0's binary_logloss: 0.735979\tvalid_0's binary_logloss: 0.735979\n",
            "[50]\tvalid_0's binary_logloss: 0.73902\tvalid_0's binary_logloss: 0.73902\n",
            "[51]\tvalid_0's binary_logloss: 0.738551\tvalid_0's binary_logloss: 0.738551\n",
            "[52]\tvalid_0's binary_logloss: 0.740257\tvalid_0's binary_logloss: 0.740257\n",
            "[53]\tvalid_0's binary_logloss: 0.741432\tvalid_0's binary_logloss: 0.741432\n",
            "[54]\tvalid_0's binary_logloss: 0.741928\tvalid_0's binary_logloss: 0.741928\n",
            "[55]\tvalid_0's binary_logloss: 0.742684\tvalid_0's binary_logloss: 0.742684\n",
            "[56]\tvalid_0's binary_logloss: 0.743462\tvalid_0's binary_logloss: 0.743462\n",
            "[57]\tvalid_0's binary_logloss: 0.744293\tvalid_0's binary_logloss: 0.744293\n",
            "[58]\tvalid_0's binary_logloss: 0.743931\tvalid_0's binary_logloss: 0.743931\n",
            "[59]\tvalid_0's binary_logloss: 0.744763\tvalid_0's binary_logloss: 0.744763\n",
            "[60]\tvalid_0's binary_logloss: 0.745428\tvalid_0's binary_logloss: 0.745428\n",
            "[61]\tvalid_0's binary_logloss: 0.746592\tvalid_0's binary_logloss: 0.746592\n",
            "[62]\tvalid_0's binary_logloss: 0.747341\tvalid_0's binary_logloss: 0.747341\n",
            "[63]\tvalid_0's binary_logloss: 0.747141\tvalid_0's binary_logloss: 0.747141\n",
            "[64]\tvalid_0's binary_logloss: 0.748825\tvalid_0's binary_logloss: 0.748825\n",
            "[65]\tvalid_0's binary_logloss: 0.749104\tvalid_0's binary_logloss: 0.749104\n",
            "[66]\tvalid_0's binary_logloss: 0.750112\tvalid_0's binary_logloss: 0.750112\n",
            "[67]\tvalid_0's binary_logloss: 0.750996\tvalid_0's binary_logloss: 0.750996\n",
            "[68]\tvalid_0's binary_logloss: 0.751991\tvalid_0's binary_logloss: 0.751991\n",
            "[69]\tvalid_0's binary_logloss: 0.752551\tvalid_0's binary_logloss: 0.752551\n",
            "[70]\tvalid_0's binary_logloss: 0.753151\tvalid_0's binary_logloss: 0.753151\n",
            "[71]\tvalid_0's binary_logloss: 0.75336\tvalid_0's binary_logloss: 0.75336\n",
            "[72]\tvalid_0's binary_logloss: 0.753916\tvalid_0's binary_logloss: 0.753916\n",
            "[73]\tvalid_0's binary_logloss: 0.754441\tvalid_0's binary_logloss: 0.754441\n",
            "[74]\tvalid_0's binary_logloss: 0.755434\tvalid_0's binary_logloss: 0.755434\n",
            "[75]\tvalid_0's binary_logloss: 0.755441\tvalid_0's binary_logloss: 0.755441\n",
            "[76]\tvalid_0's binary_logloss: 0.755738\tvalid_0's binary_logloss: 0.755738\n",
            "[77]\tvalid_0's binary_logloss: 0.756521\tvalid_0's binary_logloss: 0.756521\n",
            "[78]\tvalid_0's binary_logloss: 0.756692\tvalid_0's binary_logloss: 0.756692\n",
            "[79]\tvalid_0's binary_logloss: 0.75733\tvalid_0's binary_logloss: 0.75733\n",
            "[80]\tvalid_0's binary_logloss: 0.757737\tvalid_0's binary_logloss: 0.757737\n",
            "[81]\tvalid_0's binary_logloss: 0.758794\tvalid_0's binary_logloss: 0.758794\n",
            "[82]\tvalid_0's binary_logloss: 0.758646\tvalid_0's binary_logloss: 0.758646\n",
            "[83]\tvalid_0's binary_logloss: 0.758622\tvalid_0's binary_logloss: 0.758622\n",
            "[84]\tvalid_0's binary_logloss: 0.759217\tvalid_0's binary_logloss: 0.759217\n",
            "[85]\tvalid_0's binary_logloss: 0.75961\tvalid_0's binary_logloss: 0.75961\n",
            "[86]\tvalid_0's binary_logloss: 0.760886\tvalid_0's binary_logloss: 0.760886\n",
            "[87]\tvalid_0's binary_logloss: 0.762245\tvalid_0's binary_logloss: 0.762245\n",
            "[88]\tvalid_0's binary_logloss: 0.762091\tvalid_0's binary_logloss: 0.762091\n",
            "[89]\tvalid_0's binary_logloss: 0.762633\tvalid_0's binary_logloss: 0.762633\n",
            "[90]\tvalid_0's binary_logloss: 0.764107\tvalid_0's binary_logloss: 0.764107\n",
            "[91]\tvalid_0's binary_logloss: 0.763578\tvalid_0's binary_logloss: 0.763578\n",
            "[92]\tvalid_0's binary_logloss: 0.764116\tvalid_0's binary_logloss: 0.764116\n",
            "[93]\tvalid_0's binary_logloss: 0.765282\tvalid_0's binary_logloss: 0.765282\n",
            "[94]\tvalid_0's binary_logloss: 0.765999\tvalid_0's binary_logloss: 0.765999\n",
            "[95]\tvalid_0's binary_logloss: 0.767054\tvalid_0's binary_logloss: 0.767054\n",
            "[96]\tvalid_0's binary_logloss: 0.768189\tvalid_0's binary_logloss: 0.768189\n",
            "[97]\tvalid_0's binary_logloss: 0.769361\tvalid_0's binary_logloss: 0.769361\n",
            "[98]\tvalid_0's binary_logloss: 0.770196\tvalid_0's binary_logloss: 0.770196\n",
            "[99]\tvalid_0's binary_logloss: 0.770983\tvalid_0's binary_logloss: 0.770983\n",
            "[100]\tvalid_0's binary_logloss: 0.772136\tvalid_0's binary_logloss: 0.772136\n",
            "[101]\tvalid_0's binary_logloss: 0.773601\tvalid_0's binary_logloss: 0.773601\n",
            "Early stopping, best iteration is:\n",
            "[1]\tvalid_0's binary_logloss: 0.684069\tvalid_0's binary_logloss: 0.684069\n",
            "[1]\tvalid_0's binary_logloss: 0.686609\tvalid_0's binary_logloss: 0.686609\n",
            "Training until validation scores don't improve for 100 rounds.\n",
            "[2]\tvalid_0's binary_logloss: 0.686571\tvalid_0's binary_logloss: 0.686571\n",
            "[3]\tvalid_0's binary_logloss: 0.6849\tvalid_0's binary_logloss: 0.6849\n",
            "[4]\tvalid_0's binary_logloss: 0.686791\tvalid_0's binary_logloss: 0.686791\n",
            "[5]\tvalid_0's binary_logloss: 0.689374\tvalid_0's binary_logloss: 0.689374\n",
            "[6]\tvalid_0's binary_logloss: 0.69092\tvalid_0's binary_logloss: 0.69092\n",
            "[7]\tvalid_0's binary_logloss: 0.694\tvalid_0's binary_logloss: 0.694\n",
            "[8]\tvalid_0's binary_logloss: 0.695153\tvalid_0's binary_logloss: 0.695153\n",
            "[9]\tvalid_0's binary_logloss: 0.696028\tvalid_0's binary_logloss: 0.696028\n",
            "[10]\tvalid_0's binary_logloss: 0.697069\tvalid_0's binary_logloss: 0.697069\n",
            "[11]\tvalid_0's binary_logloss: 0.698031\tvalid_0's binary_logloss: 0.698031\n",
            "[12]\tvalid_0's binary_logloss: 0.697555\tvalid_0's binary_logloss: 0.697555\n",
            "[13]\tvalid_0's binary_logloss: 0.700128\tvalid_0's binary_logloss: 0.700128\n",
            "[14]\tvalid_0's binary_logloss: 0.701901\tvalid_0's binary_logloss: 0.701901\n",
            "[15]\tvalid_0's binary_logloss: 0.702608\tvalid_0's binary_logloss: 0.702608\n",
            "[16]\tvalid_0's binary_logloss: 0.702589\tvalid_0's binary_logloss: 0.702589\n",
            "[17]\tvalid_0's binary_logloss: 0.702946\tvalid_0's binary_logloss: 0.702946\n",
            "[18]\tvalid_0's binary_logloss: 0.703149\tvalid_0's binary_logloss: 0.703149\n",
            "[19]\tvalid_0's binary_logloss: 0.703192\tvalid_0's binary_logloss: 0.703192\n",
            "[20]\tvalid_0's binary_logloss: 0.702719\tvalid_0's binary_logloss: 0.702719\n",
            "[21]\tvalid_0's binary_logloss: 0.70278\tvalid_0's binary_logloss: 0.70278\n",
            "[22]\tvalid_0's binary_logloss: 0.702711\tvalid_0's binary_logloss: 0.702711\n",
            "[23]\tvalid_0's binary_logloss: 0.703688\tvalid_0's binary_logloss: 0.703688\n",
            "[24]\tvalid_0's binary_logloss: 0.703287\tvalid_0's binary_logloss: 0.703287\n",
            "[25]\tvalid_0's binary_logloss: 0.703017\tvalid_0's binary_logloss: 0.703017\n",
            "[26]\tvalid_0's binary_logloss: 0.705336\tvalid_0's binary_logloss: 0.705336\n",
            "[27]\tvalid_0's binary_logloss: 0.705895\tvalid_0's binary_logloss: 0.705895\n",
            "[28]\tvalid_0's binary_logloss: 0.708465\tvalid_0's binary_logloss: 0.708465\n",
            "[29]\tvalid_0's binary_logloss: 0.706873\tvalid_0's binary_logloss: 0.706873\n",
            "[30]\tvalid_0's binary_logloss: 0.707737\tvalid_0's binary_logloss: 0.707737\n",
            "[31]\tvalid_0's binary_logloss: 0.708836\tvalid_0's binary_logloss: 0.708836\n",
            "[32]\tvalid_0's binary_logloss: 0.709985\tvalid_0's binary_logloss: 0.709985\n",
            "[33]\tvalid_0's binary_logloss: 0.711251\tvalid_0's binary_logloss: 0.711251\n",
            "[34]\tvalid_0's binary_logloss: 0.709137\tvalid_0's binary_logloss: 0.709137\n",
            "[35]\tvalid_0's binary_logloss: 0.710743\tvalid_0's binary_logloss: 0.710743\n",
            "[36]\tvalid_0's binary_logloss: 0.710117\tvalid_0's binary_logloss: 0.710117\n",
            "[37]\tvalid_0's binary_logloss: 0.711637\tvalid_0's binary_logloss: 0.711637\n",
            "[38]\tvalid_0's binary_logloss: 0.712198\tvalid_0's binary_logloss: 0.712198\n",
            "[39]\tvalid_0's binary_logloss: 0.712425\tvalid_0's binary_logloss: 0.712425\n",
            "[40]\tvalid_0's binary_logloss: 0.714111\tvalid_0's binary_logloss: 0.714111\n",
            "[41]\tvalid_0's binary_logloss: 0.715872\tvalid_0's binary_logloss: 0.715872\n",
            "[42]\tvalid_0's binary_logloss: 0.715794\tvalid_0's binary_logloss: 0.715794\n",
            "[43]\tvalid_0's binary_logloss: 0.716223\tvalid_0's binary_logloss: 0.716223\n",
            "[44]\tvalid_0's binary_logloss: 0.717216\tvalid_0's binary_logloss: 0.717216\n",
            "[45]\tvalid_0's binary_logloss: 0.7188\tvalid_0's binary_logloss: 0.7188\n",
            "[46]\tvalid_0's binary_logloss: 0.721005\tvalid_0's binary_logloss: 0.721005\n",
            "[47]\tvalid_0's binary_logloss: 0.722276\tvalid_0's binary_logloss: 0.722276\n",
            "[48]\tvalid_0's binary_logloss: 0.72216\tvalid_0's binary_logloss: 0.72216\n",
            "[49]\tvalid_0's binary_logloss: 0.723946\tvalid_0's binary_logloss: 0.723946\n",
            "[50]\tvalid_0's binary_logloss: 0.725392\tvalid_0's binary_logloss: 0.725392\n",
            "[51]\tvalid_0's binary_logloss: 0.72719\tvalid_0's binary_logloss: 0.72719\n",
            "[52]\tvalid_0's binary_logloss: 0.729504\tvalid_0's binary_logloss: 0.729504\n",
            "[53]\tvalid_0's binary_logloss: 0.730145\tvalid_0's binary_logloss: 0.730145\n",
            "[54]\tvalid_0's binary_logloss: 0.730046\tvalid_0's binary_logloss: 0.730046\n",
            "[55]\tvalid_0's binary_logloss: 0.730446\tvalid_0's binary_logloss: 0.730446\n",
            "[56]\tvalid_0's binary_logloss: 0.731931\tvalid_0's binary_logloss: 0.731931\n",
            "[57]\tvalid_0's binary_logloss: 0.731748\tvalid_0's binary_logloss: 0.731748\n",
            "[58]\tvalid_0's binary_logloss: 0.732015\tvalid_0's binary_logloss: 0.732015\n",
            "[59]\tvalid_0's binary_logloss: 0.733361\tvalid_0's binary_logloss: 0.733361\n",
            "[60]\tvalid_0's binary_logloss: 0.734747\tvalid_0's binary_logloss: 0.734747\n",
            "[61]\tvalid_0's binary_logloss: 0.735218\tvalid_0's binary_logloss: 0.735218\n",
            "[62]\tvalid_0's binary_logloss: 0.737075\tvalid_0's binary_logloss: 0.737075\n",
            "[63]\tvalid_0's binary_logloss: 0.739755\tvalid_0's binary_logloss: 0.739755\n",
            "[64]\tvalid_0's binary_logloss: 0.739672\tvalid_0's binary_logloss: 0.739672\n",
            "[65]\tvalid_0's binary_logloss: 0.742147\tvalid_0's binary_logloss: 0.742147\n",
            "[66]\tvalid_0's binary_logloss: 0.744458\tvalid_0's binary_logloss: 0.744458\n",
            "[67]\tvalid_0's binary_logloss: 0.745321\tvalid_0's binary_logloss: 0.745321\n",
            "[68]\tvalid_0's binary_logloss: 0.745698\tvalid_0's binary_logloss: 0.745698\n",
            "[69]\tvalid_0's binary_logloss: 0.745919\tvalid_0's binary_logloss: 0.745919\n",
            "[70]\tvalid_0's binary_logloss: 0.746486\tvalid_0's binary_logloss: 0.746486\n",
            "[71]\tvalid_0's binary_logloss: 0.747583\tvalid_0's binary_logloss: 0.747583\n",
            "[72]\tvalid_0's binary_logloss: 0.747663\tvalid_0's binary_logloss: 0.747663\n",
            "[73]\tvalid_0's binary_logloss: 0.74827\tvalid_0's binary_logloss: 0.74827\n",
            "[74]\tvalid_0's binary_logloss: 0.749004\tvalid_0's binary_logloss: 0.749004\n",
            "[75]\tvalid_0's binary_logloss: 0.750865\tvalid_0's binary_logloss: 0.750865\n",
            "[76]\tvalid_0's binary_logloss: 0.751721\tvalid_0's binary_logloss: 0.751721\n",
            "[77]\tvalid_0's binary_logloss: 0.752031\tvalid_0's binary_logloss: 0.752031\n",
            "[78]\tvalid_0's binary_logloss: 0.752358\tvalid_0's binary_logloss: 0.752358\n",
            "[79]\tvalid_0's binary_logloss: 0.754149\tvalid_0's binary_logloss: 0.754149\n",
            "[80]\tvalid_0's binary_logloss: 0.755041\tvalid_0's binary_logloss: 0.755041\n",
            "[81]\tvalid_0's binary_logloss: 0.757032\tvalid_0's binary_logloss: 0.757032\n",
            "[82]\tvalid_0's binary_logloss: 0.756236\tvalid_0's binary_logloss: 0.756236\n",
            "[83]\tvalid_0's binary_logloss: 0.75501\tvalid_0's binary_logloss: 0.75501\n",
            "[84]\tvalid_0's binary_logloss: 0.75465\tvalid_0's binary_logloss: 0.75465\n",
            "[85]\tvalid_0's binary_logloss: 0.754169\tvalid_0's binary_logloss: 0.754169\n",
            "[86]\tvalid_0's binary_logloss: 0.753703\tvalid_0's binary_logloss: 0.753703\n",
            "[87]\tvalid_0's binary_logloss: 0.754027\tvalid_0's binary_logloss: 0.754027\n",
            "[88]\tvalid_0's binary_logloss: 0.755651\tvalid_0's binary_logloss: 0.755651\n",
            "[89]\tvalid_0's binary_logloss: 0.756111\tvalid_0's binary_logloss: 0.756111\n",
            "[90]\tvalid_0's binary_logloss: 0.75677\tvalid_0's binary_logloss: 0.75677\n",
            "[91]\tvalid_0's binary_logloss: 0.757165\tvalid_0's binary_logloss: 0.757165\n",
            "[92]\tvalid_0's binary_logloss: 0.759018\tvalid_0's binary_logloss: 0.759018\n",
            "[93]\tvalid_0's binary_logloss: 0.758683\tvalid_0's binary_logloss: 0.758683\n",
            "[94]\tvalid_0's binary_logloss: 0.758859\tvalid_0's binary_logloss: 0.758859\n",
            "[95]\tvalid_0's binary_logloss: 0.760572\tvalid_0's binary_logloss: 0.760572\n",
            "[96]\tvalid_0's binary_logloss: 0.760664\tvalid_0's binary_logloss: 0.760664\n",
            "[97]\tvalid_0's binary_logloss: 0.759999\tvalid_0's binary_logloss: 0.759999\n",
            "[98]\tvalid_0's binary_logloss: 0.760982\tvalid_0's binary_logloss: 0.760982\n",
            "[99]\tvalid_0's binary_logloss: 0.761734\tvalid_0's binary_logloss: 0.761734\n",
            "[100]\tvalid_0's binary_logloss: 0.763232\tvalid_0's binary_logloss: 0.763232\n",
            "[101]\tvalid_0's binary_logloss: 0.763788\tvalid_0's binary_logloss: 0.763788\n",
            "[102]\tvalid_0's binary_logloss: 0.764257\tvalid_0's binary_logloss: 0.764257\n",
            "[103]\tvalid_0's binary_logloss: 0.764682\tvalid_0's binary_logloss: 0.764682\n",
            "Early stopping, best iteration is:\n",
            "[3]\tvalid_0's binary_logloss: 0.6849\tvalid_0's binary_logloss: 0.6849\n",
            "[1]\tvalid_0's binary_logloss: 0.686231\tvalid_0's binary_logloss: 0.686231\n",
            "Training until validation scores don't improve for 100 rounds.\n",
            "[2]\tvalid_0's binary_logloss: 0.688653\tvalid_0's binary_logloss: 0.688653\n",
            "[3]\tvalid_0's binary_logloss: 0.689555\tvalid_0's binary_logloss: 0.689555\n",
            "[4]\tvalid_0's binary_logloss: 0.691722\tvalid_0's binary_logloss: 0.691722\n",
            "[5]\tvalid_0's binary_logloss: 0.696127\tvalid_0's binary_logloss: 0.696127\n",
            "[6]\tvalid_0's binary_logloss: 0.695304\tvalid_0's binary_logloss: 0.695304\n",
            "[7]\tvalid_0's binary_logloss: 0.698248\tvalid_0's binary_logloss: 0.698248\n",
            "[8]\tvalid_0's binary_logloss: 0.700265\tvalid_0's binary_logloss: 0.700265\n",
            "[9]\tvalid_0's binary_logloss: 0.702585\tvalid_0's binary_logloss: 0.702585\n",
            "[10]\tvalid_0's binary_logloss: 0.703185\tvalid_0's binary_logloss: 0.703185\n",
            "[11]\tvalid_0's binary_logloss: 0.705842\tvalid_0's binary_logloss: 0.705842\n",
            "[12]\tvalid_0's binary_logloss: 0.708576\tvalid_0's binary_logloss: 0.708576\n",
            "[13]\tvalid_0's binary_logloss: 0.712428\tvalid_0's binary_logloss: 0.712428\n",
            "[14]\tvalid_0's binary_logloss: 0.71382\tvalid_0's binary_logloss: 0.71382\n",
            "[15]\tvalid_0's binary_logloss: 0.714348\tvalid_0's binary_logloss: 0.714348\n",
            "[16]\tvalid_0's binary_logloss: 0.716694\tvalid_0's binary_logloss: 0.716694\n",
            "[17]\tvalid_0's binary_logloss: 0.717569\tvalid_0's binary_logloss: 0.717569\n",
            "[18]\tvalid_0's binary_logloss: 0.719309\tvalid_0's binary_logloss: 0.719309\n",
            "[19]\tvalid_0's binary_logloss: 0.721705\tvalid_0's binary_logloss: 0.721705\n",
            "[20]\tvalid_0's binary_logloss: 0.725125\tvalid_0's binary_logloss: 0.725125\n",
            "[21]\tvalid_0's binary_logloss: 0.72741\tvalid_0's binary_logloss: 0.72741\n",
            "[22]\tvalid_0's binary_logloss: 0.727956\tvalid_0's binary_logloss: 0.727956\n",
            "[23]\tvalid_0's binary_logloss: 0.729968\tvalid_0's binary_logloss: 0.729968\n",
            "[24]\tvalid_0's binary_logloss: 0.73334\tvalid_0's binary_logloss: 0.73334\n",
            "[25]\tvalid_0's binary_logloss: 0.735049\tvalid_0's binary_logloss: 0.735049\n",
            "[26]\tvalid_0's binary_logloss: 0.737405\tvalid_0's binary_logloss: 0.737405\n",
            "[27]\tvalid_0's binary_logloss: 0.739721\tvalid_0's binary_logloss: 0.739721\n",
            "[28]\tvalid_0's binary_logloss: 0.739381\tvalid_0's binary_logloss: 0.739381\n",
            "[29]\tvalid_0's binary_logloss: 0.740846\tvalid_0's binary_logloss: 0.740846\n",
            "[30]\tvalid_0's binary_logloss: 0.741606\tvalid_0's binary_logloss: 0.741606\n",
            "[31]\tvalid_0's binary_logloss: 0.742642\tvalid_0's binary_logloss: 0.742642\n",
            "[32]\tvalid_0's binary_logloss: 0.744671\tvalid_0's binary_logloss: 0.744671\n",
            "[33]\tvalid_0's binary_logloss: 0.744106\tvalid_0's binary_logloss: 0.744106\n",
            "[34]\tvalid_0's binary_logloss: 0.745896\tvalid_0's binary_logloss: 0.745896\n",
            "[35]\tvalid_0's binary_logloss: 0.747743\tvalid_0's binary_logloss: 0.747743\n",
            "[36]\tvalid_0's binary_logloss: 0.747056\tvalid_0's binary_logloss: 0.747056\n",
            "[37]\tvalid_0's binary_logloss: 0.750241\tvalid_0's binary_logloss: 0.750241\n",
            "[38]\tvalid_0's binary_logloss: 0.75116\tvalid_0's binary_logloss: 0.75116\n",
            "[39]\tvalid_0's binary_logloss: 0.752877\tvalid_0's binary_logloss: 0.752877\n",
            "[40]\tvalid_0's binary_logloss: 0.754617\tvalid_0's binary_logloss: 0.754617\n",
            "[41]\tvalid_0's binary_logloss: 0.757357\tvalid_0's binary_logloss: 0.757357\n",
            "[42]\tvalid_0's binary_logloss: 0.759926\tvalid_0's binary_logloss: 0.759926\n",
            "[43]\tvalid_0's binary_logloss: 0.761412\tvalid_0's binary_logloss: 0.761412\n",
            "[44]\tvalid_0's binary_logloss: 0.761349\tvalid_0's binary_logloss: 0.761349\n",
            "[45]\tvalid_0's binary_logloss: 0.76243\tvalid_0's binary_logloss: 0.76243\n",
            "[46]\tvalid_0's binary_logloss: 0.762834\tvalid_0's binary_logloss: 0.762834\n",
            "[47]\tvalid_0's binary_logloss: 0.763335\tvalid_0's binary_logloss: 0.763335\n",
            "[48]\tvalid_0's binary_logloss: 0.763626\tvalid_0's binary_logloss: 0.763626\n",
            "[49]\tvalid_0's binary_logloss: 0.764449\tvalid_0's binary_logloss: 0.764449\n",
            "[50]\tvalid_0's binary_logloss: 0.767986\tvalid_0's binary_logloss: 0.767986\n",
            "[51]\tvalid_0's binary_logloss: 0.769142\tvalid_0's binary_logloss: 0.769142\n",
            "[52]\tvalid_0's binary_logloss: 0.770458\tvalid_0's binary_logloss: 0.770458\n",
            "[53]\tvalid_0's binary_logloss: 0.773258\tvalid_0's binary_logloss: 0.773258\n",
            "[54]\tvalid_0's binary_logloss: 0.774861\tvalid_0's binary_logloss: 0.774861\n",
            "[55]\tvalid_0's binary_logloss: 0.775349\tvalid_0's binary_logloss: 0.775349\n",
            "[56]\tvalid_0's binary_logloss: 0.777075\tvalid_0's binary_logloss: 0.777075\n",
            "[57]\tvalid_0's binary_logloss: 0.776546\tvalid_0's binary_logloss: 0.776546\n",
            "[58]\tvalid_0's binary_logloss: 0.774215\tvalid_0's binary_logloss: 0.774215\n",
            "[59]\tvalid_0's binary_logloss: 0.774666\tvalid_0's binary_logloss: 0.774666\n",
            "[60]\tvalid_0's binary_logloss: 0.776245\tvalid_0's binary_logloss: 0.776245\n",
            "[61]\tvalid_0's binary_logloss: 0.777826\tvalid_0's binary_logloss: 0.777826\n",
            "[62]\tvalid_0's binary_logloss: 0.777894\tvalid_0's binary_logloss: 0.777894\n",
            "[63]\tvalid_0's binary_logloss: 0.780678\tvalid_0's binary_logloss: 0.780678\n",
            "[64]\tvalid_0's binary_logloss: 0.780726\tvalid_0's binary_logloss: 0.780726\n",
            "[65]\tvalid_0's binary_logloss: 0.781847\tvalid_0's binary_logloss: 0.781847\n",
            "[66]\tvalid_0's binary_logloss: 0.78226\tvalid_0's binary_logloss: 0.78226\n",
            "[67]\tvalid_0's binary_logloss: 0.785037\tvalid_0's binary_logloss: 0.785037\n",
            "[68]\tvalid_0's binary_logloss: 0.786273\tvalid_0's binary_logloss: 0.786273\n",
            "[69]\tvalid_0's binary_logloss: 0.786727\tvalid_0's binary_logloss: 0.786727\n",
            "[70]\tvalid_0's binary_logloss: 0.787287\tvalid_0's binary_logloss: 0.787287\n",
            "[71]\tvalid_0's binary_logloss: 0.788979\tvalid_0's binary_logloss: 0.788979\n",
            "[72]\tvalid_0's binary_logloss: 0.790133\tvalid_0's binary_logloss: 0.790133\n",
            "[73]\tvalid_0's binary_logloss: 0.790477\tvalid_0's binary_logloss: 0.790477\n",
            "[74]\tvalid_0's binary_logloss: 0.792067\tvalid_0's binary_logloss: 0.792067\n",
            "[75]\tvalid_0's binary_logloss: 0.792628\tvalid_0's binary_logloss: 0.792628\n",
            "[76]\tvalid_0's binary_logloss: 0.794047\tvalid_0's binary_logloss: 0.794047\n",
            "[77]\tvalid_0's binary_logloss: 0.794367\tvalid_0's binary_logloss: 0.794367\n",
            "[78]\tvalid_0's binary_logloss: 0.795808\tvalid_0's binary_logloss: 0.795808\n",
            "[79]\tvalid_0's binary_logloss: 0.796702\tvalid_0's binary_logloss: 0.796702\n",
            "[80]\tvalid_0's binary_logloss: 0.798498\tvalid_0's binary_logloss: 0.798498\n",
            "[81]\tvalid_0's binary_logloss: 0.799415\tvalid_0's binary_logloss: 0.799415\n",
            "[82]\tvalid_0's binary_logloss: 0.800443\tvalid_0's binary_logloss: 0.800443\n",
            "[83]\tvalid_0's binary_logloss: 0.80112\tvalid_0's binary_logloss: 0.80112\n",
            "[84]\tvalid_0's binary_logloss: 0.801192\tvalid_0's binary_logloss: 0.801192\n",
            "[85]\tvalid_0's binary_logloss: 0.803227\tvalid_0's binary_logloss: 0.803227\n",
            "[86]\tvalid_0's binary_logloss: 0.804706\tvalid_0's binary_logloss: 0.804706\n",
            "[87]\tvalid_0's binary_logloss: 0.806683\tvalid_0's binary_logloss: 0.806683\n",
            "[88]\tvalid_0's binary_logloss: 0.808999\tvalid_0's binary_logloss: 0.808999\n",
            "[89]\tvalid_0's binary_logloss: 0.808747\tvalid_0's binary_logloss: 0.808747\n",
            "[90]\tvalid_0's binary_logloss: 0.810297\tvalid_0's binary_logloss: 0.810297\n",
            "[91]\tvalid_0's binary_logloss: 0.809631\tvalid_0's binary_logloss: 0.809631\n",
            "[92]\tvalid_0's binary_logloss: 0.811624\tvalid_0's binary_logloss: 0.811624\n",
            "[93]\tvalid_0's binary_logloss: 0.81215\tvalid_0's binary_logloss: 0.81215\n",
            "[94]\tvalid_0's binary_logloss: 0.813167\tvalid_0's binary_logloss: 0.813167\n",
            "[95]\tvalid_0's binary_logloss: 0.813406\tvalid_0's binary_logloss: 0.813406\n",
            "[96]\tvalid_0's binary_logloss: 0.814352\tvalid_0's binary_logloss: 0.814352\n",
            "[97]\tvalid_0's binary_logloss: 0.814619\tvalid_0's binary_logloss: 0.814619\n",
            "[98]\tvalid_0's binary_logloss: 0.816516\tvalid_0's binary_logloss: 0.816516\n",
            "[99]\tvalid_0's binary_logloss: 0.816875\tvalid_0's binary_logloss: 0.816875\n",
            "[100]\tvalid_0's binary_logloss: 0.817083\tvalid_0's binary_logloss: 0.817083\n",
            "[101]\tvalid_0's binary_logloss: 0.817202\tvalid_0's binary_logloss: 0.817202\n",
            "Early stopping, best iteration is:\n",
            "[1]\tvalid_0's binary_logloss: 0.686231\tvalid_0's binary_logloss: 0.686231\n"
          ]
        }
      ]
    },
    {
      "cell_type": "code",
      "source": [
        "print('DOW :',a,'NASDAQ : ',b,'SP500 : ',c)"
      ],
      "metadata": {
        "colab": {
          "base_uri": "https://localhost:8080/"
        },
        "id": "24nJnTGKh4BB",
        "outputId": "b415e573-0519-496b-9250-0cbd5e6c0ebc"
      },
      "execution_count": 144,
      "outputs": [
        {
          "output_type": "stream",
          "name": "stdout",
          "text": [
            "DOW : 0.5612244897959183 NASDAQ :  0.5591836734693878 SP500 :  0.5673469387755102\n"
          ]
        }
      ]
    },
    {
      "cell_type": "code",
      "source": [
        "print('dow')\n",
        "get_clf_eval(y_test, lgbm_preds, pred_proba)\n",
        "print('nasdaq')\n",
        "get_clf_eval(y_test, lgbm_preds, pred_proba)\n",
        "print('sp500')\n",
        "get_clf_eval(y_test, lgbm_preds, pred_proba)"
      ],
      "metadata": {
        "colab": {
          "base_uri": "https://localhost:8080/"
        },
        "id": "_U_Vnw6YWscW",
        "outputId": "c61720c2-02f4-4c72-ac21-b56bdfe0e363"
      },
      "execution_count": 146,
      "outputs": [
        {
          "output_type": "stream",
          "name": "stdout",
          "text": [
            "dow\n",
            "오차 행렬\n",
            "[[ 14 192]\n",
            " [ 23 261]]\n",
            "정확도: 0.5612, 정밀도: 0.5762, 재현율: 0.9190,    F1: 0.7083, AUC:0.5267\n",
            "nasdaq\n",
            "오차 행렬\n",
            "[[ 14 192]\n",
            " [ 23 261]]\n",
            "정확도: 0.5612, 정밀도: 0.5762, 재현율: 0.9190,    F1: 0.7083, AUC:0.5267\n",
            "sp500\n",
            "오차 행렬\n",
            "[[ 14 192]\n",
            " [ 23 261]]\n",
            "정확도: 0.5612, 정밀도: 0.5762, 재현율: 0.9190,    F1: 0.7083, AUC:0.5267\n"
          ]
        }
      ]
    },
    {
      "cell_type": "code",
      "source": [
        ""
      ],
      "metadata": {
        "id": "007SxzT9W6fw"
      },
      "execution_count": null,
      "outputs": []
    }
  ]
}