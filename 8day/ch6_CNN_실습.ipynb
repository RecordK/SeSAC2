{
  "cells": [
    {
      "cell_type": "markdown",
      "metadata": {
        "id": "vtP7mzWJVkNx"
      },
      "source": [
        "# 이미지 학습"
      ]
    },
    {
      "cell_type": "code",
      "execution_count": null,
      "metadata": {
        "id": "50t_iZGtVkNz"
      },
      "outputs": [],
      "source": [
        "from PIL import Image\n",
        "import matplotlib\n",
        "import matplotlib.pyplot as plt\n",
        "import torch\n",
        "from torch.utils.data import Dataset, DataLoader\n",
        "import numpy as np\n",
        "import torchvision\n",
        "from torchvision import transforms"
      ]
    },
    {
      "cell_type": "markdown",
      "metadata": {
        "id": "drS2GeyVVkN0"
      },
      "source": [
        "< 이미지 시각화하는 함수 생성>"
      ]
    },
    {
      "cell_type": "code",
      "execution_count": null,
      "metadata": {
        "id": "wvuU21VTVkN1"
      },
      "outputs": [],
      "source": [
        "def imshow(img):\n",
        "    img = img /2 + 0.5 # unnormalize\n",
        "    np_img = img.numpy()\n",
        "    # plt.imshow(np_img)\n",
        "    plt.imshow(np.transpose(np_img, (1,2,0)))\n",
        "    \n",
        "    print(np_img.shape)\n",
        "    print((np.transpose(np_img,(1,2,0))).shape)"
      ]
    },
    {
      "cell_type": "code",
      "execution_count": null,
      "metadata": {
        "colab": {
          "base_uri": "https://localhost:8080/"
        },
        "id": "60W-O7pAVkN1",
        "outputId": "6a3bcc97-456c-4954-dbec-4e89c2b18ed4"
      },
      "outputs": [
        {
          "output_type": "execute_result",
          "data": {
            "text/plain": [
              "['cat', 'dog']"
            ]
          },
          "metadata": {},
          "execution_count": 30
        }
      ],
      "source": [
        "import os\n",
        "\n",
        "os.listdir('./img_data/img')"
      ]
    },
    {
      "cell_type": "code",
      "execution_count": null,
      "metadata": {
        "id": "-LtSjJGUVkN3"
      },
      "outputs": [],
      "source": [
        "trans = transforms.Compose([transforms.Resize((32,32)),\n",
        "                           transforms.ToTensor(),\n",
        "                           transforms.Normalize((0.5,0.5,0.5),(0.5,0.5,0.5))\n",
        "                           ])\n",
        "trainset = torchvision.datasets.ImageFolder(root = \"./img_data/img\",\n",
        "                                           transform = trans)"
      ]
    },
    {
      "cell_type": "markdown",
      "metadata": {
        "id": "EMM-2a4vVkN3"
      },
      "source": [
        "#### __getitem__ 메소드로 데이터 하나를 가져와 본다."
      ]
    },
    {
      "cell_type": "code",
      "execution_count": null,
      "metadata": {
        "colab": {
          "base_uri": "https://localhost:8080/"
        },
        "id": "k8glYEouVkN3",
        "outputId": "2c068d23-0617-43d4-c00e-0c59e5ba971f"
      },
      "outputs": [
        {
          "output_type": "execute_result",
          "data": {
            "text/plain": [
              "(tensor([[[ 0.3725,  0.3804,  0.3882,  ...,  0.2863,  0.2627,  0.2157],\n",
              "          [ 0.3804,  0.3882,  0.3961,  ...,  0.3647,  0.3176,  0.2863],\n",
              "          [ 0.3882,  0.4039,  0.4118,  ...,  0.3961,  0.3725,  0.3569],\n",
              "          ...,\n",
              "          [ 0.8667,  0.8745,  0.8745,  ...,  0.4824,  0.1686,  0.7255],\n",
              "          [ 0.8667,  0.8745,  0.8745,  ...,  0.5294,  0.6157,  0.8196],\n",
              "          [ 0.8745,  0.8824,  0.8745,  ...,  0.4588,  0.7882,  0.8353]],\n",
              " \n",
              "         [[ 0.2392,  0.2471,  0.2549,  ...,  0.1294,  0.0980,  0.0588],\n",
              "          [ 0.2392,  0.2471,  0.2549,  ...,  0.2157,  0.1843,  0.1451],\n",
              "          [ 0.2549,  0.2627,  0.2784,  ...,  0.2471,  0.2314,  0.2235],\n",
              "          ...,\n",
              "          [ 0.8353,  0.8431,  0.8431,  ...,  0.4275,  0.0902,  0.6706],\n",
              "          [ 0.8353,  0.8431,  0.8431,  ...,  0.4510,  0.5608,  0.7804],\n",
              "          [ 0.8510,  0.8588,  0.8588,  ...,  0.4118,  0.7647,  0.8196]],\n",
              " \n",
              "         [[ 0.0980,  0.1059,  0.1137,  ..., -0.0902, -0.1294, -0.1686],\n",
              "          [ 0.1216,  0.1294,  0.1451,  ...,  0.0353, -0.0039, -0.0510],\n",
              "          [ 0.1686,  0.1765,  0.1922,  ...,  0.1216,  0.1059,  0.0745],\n",
              "          ...,\n",
              "          [ 0.8431,  0.8510,  0.8510,  ...,  0.4196,  0.0588,  0.6549],\n",
              "          [ 0.8431,  0.8510,  0.8510,  ...,  0.4196,  0.5529,  0.7882],\n",
              "          [ 0.8510,  0.8588,  0.8588,  ...,  0.3569,  0.7569,  0.8196]]]), 0)"
            ]
          },
          "metadata": {},
          "execution_count": 32
        }
      ],
      "source": [
        "trainset[1]"
      ]
    },
    {
      "cell_type": "code",
      "execution_count": null,
      "metadata": {
        "colab": {
          "base_uri": "https://localhost:8080/"
        },
        "id": "3BzixEyNVkN4",
        "outputId": "8c56f624-c648-479a-bc84-95c1273342e0"
      },
      "outputs": [
        {
          "output_type": "execute_result",
          "data": {
            "text/plain": [
              "10"
            ]
          },
          "metadata": {},
          "execution_count": 33
        }
      ],
      "source": [
        "len(trainset)"
      ]
    },
    {
      "cell_type": "code",
      "execution_count": null,
      "metadata": {
        "colab": {
          "base_uri": "https://localhost:8080/"
        },
        "id": "hyN8Aqj6VkN4",
        "outputId": "29c8c429-3c71-4716-e722-69fab526b457"
      },
      "outputs": [
        {
          "output_type": "stream",
          "name": "stderr",
          "text": [
            "/usr/local/lib/python3.7/dist-packages/torch/utils/data/dataloader.py:481: UserWarning: This DataLoader will create 4 worker processes in total. Our suggested max number of worker in current system is 2, which is smaller than what this DataLoader is going to create. Please be aware that excessive worker creation might get DataLoader running slow or even freeze, lower the worker number to avoid potential slowness/freeze if necessary.\n",
            "  cpuset_checked))\n"
          ]
        }
      ],
      "source": [
        "trainloader = DataLoader(trainset,\n",
        "                        batch_size = 2,\n",
        "                        shuffle = False,\n",
        "                        num_workers = 4)"
      ]
    },
    {
      "cell_type": "code",
      "execution_count": null,
      "metadata": {
        "colab": {
          "base_uri": "https://localhost:8080/"
        },
        "id": "vNWMkchOVkN5",
        "outputId": "ba6acfa3-0cd8-4fc1-d9ba-cee9fcacea93"
      },
      "outputs": [
        {
          "output_type": "execute_result",
          "data": {
            "text/plain": [
              "['cat', 'dog']"
            ]
          },
          "metadata": {},
          "execution_count": 35
        }
      ],
      "source": [
        "classes = trainset.classes\n",
        "classes"
      ]
    },
    {
      "cell_type": "code",
      "execution_count": null,
      "metadata": {
        "colab": {
          "base_uri": "https://localhost:8080/"
        },
        "id": "autz3v1hVkN5",
        "outputId": "5054c7fa-4c86-45b5-f8d3-9560125abf69"
      },
      "outputs": [
        {
          "output_type": "stream",
          "name": "stderr",
          "text": [
            "/usr/local/lib/python3.7/dist-packages/torch/utils/data/dataloader.py:481: UserWarning: This DataLoader will create 4 worker processes in total. Our suggested max number of worker in current system is 2, which is smaller than what this DataLoader is going to create. Please be aware that excessive worker creation might get DataLoader running slow or even freeze, lower the worker number to avoid potential slowness/freeze if necessary.\n",
            "  cpuset_checked))\n"
          ]
        },
        {
          "output_type": "stream",
          "name": "stdout",
          "text": [
            "tensor([0, 0])\n"
          ]
        }
      ],
      "source": [
        "dataiter = iter(trainloader)\n",
        "images, labels = dataiter.next()\n",
        "print(labels)"
      ]
    },
    {
      "cell_type": "code",
      "execution_count": null,
      "metadata": {
        "colab": {
          "base_uri": "https://localhost:8080/",
          "height": 324
        },
        "id": "YSavUoa9VkN6",
        "outputId": "835b6389-161b-4153-e1e2-a34a7655fcad"
      },
      "outputs": [
        {
          "output_type": "stream",
          "name": "stdout",
          "text": [
            "torch.Size([2, 3, 32, 32])\n",
            "(3, 36, 70)\n",
            "(36, 70, 3)\n",
            "torch.Size([2, 3, 32, 32])\n",
            "torch.Size([3, 36, 70])\n",
            "  cat   cat \n"
          ]
        },
        {
          "output_type": "display_data",
          "data": {
            "text/plain": [
              "<Figure size 432x288 with 1 Axes>"
            ],
            "image/png": "[encoded data removed]"
          },
          "metadata": {
            "needs_background": "light"
          }
        }
      ],
      "source": [
        "print(images.shape)\n",
        "imshow(torchvision.utils.make_grid(images, nrow=2))\n",
        "print(images.shape)\n",
        "print((torchvision.utils.make_grid(images)).shape)\n",
        "print(\"\".join(\"%5s \"%classes[labels[j]] for j in range(2)))"
      ]
    },
    {
      "cell_type": "code",
      "execution_count": null,
      "metadata": {
        "id": "tdKcGeYIVkN6"
      },
      "outputs": [],
      "source": [
        "import torch.nn as nn\n",
        "import torch.nn.functional as F\n",
        "\n",
        "\n",
        "class Net(nn.Module):\n",
        "    def __init__(self):\n",
        "        super().__init__()\n",
        "        self.conv1 = nn.Conv2d(3, 6, 5) # kernel=5, paddig=0. stride=1. 32-5+1=28\n",
        "        self.pool = nn.MaxPool2d(2, 2)  # 14\n",
        "        self.conv2 = nn.Conv2d(6, 16, 5) # kernel=5, paddig=0. stride=1. 14-5+1=10 => max pooling 후 5X5\n",
        "        self.fc1 = nn.Linear(16 * 5 * 5, 120) \n",
        "        self.fc2 = nn.Linear(120, 84)\n",
        "        self.fc3 = nn.Linear(84, 2)\n",
        "\n",
        "    def forward(self, x):\n",
        "        x = self.pool(F.relu(self.conv1(x)))\n",
        "        x = self.pool(F.relu(self.conv2(x)))\n",
        "        x = torch.flatten(x, 1) # 배치를 제외한 모든 차원을 평탄화(flatten)\n",
        "        x = F.relu(self.fc1(x))\n",
        "        x = F.relu(self.fc2(x))\n",
        "        x = self.fc3(x)\n",
        "        return x"
      ]
    },
    {
      "cell_type": "code",
      "execution_count": null,
      "metadata": {
        "id": "sTr0oIfgVkN7"
      },
      "outputs": [],
      "source": [
        "import torch.optim as optim\n",
        "\n",
        "net = Net()\n",
        "criterion = nn.CrossEntropyLoss()\n",
        "optimizer = optim.SGD(net.parameters(), lr=0.001, momentum=0.9)"
      ]
    },
    {
      "cell_type": "code",
      "execution_count": null,
      "metadata": {
        "colab": {
          "base_uri": "https://localhost:8080/"
        },
        "id": "O17elrUDVkN8",
        "outputId": "18b85729-1175-4c8d-fc53-8358c9b3e5e8"
      },
      "outputs": [
        {
          "output_type": "stream",
          "name": "stderr",
          "text": [
            "/usr/local/lib/python3.7/dist-packages/torch/utils/data/dataloader.py:481: UserWarning: This DataLoader will create 4 worker processes in total. Our suggested max number of worker in current system is 2, which is smaller than what this DataLoader is going to create. Please be aware that excessive worker creation might get DataLoader running slow or even freeze, lower the worker number to avoid potential slowness/freeze if necessary.\n",
            "  cpuset_checked))\n"
          ]
        },
        {
          "output_type": "stream",
          "name": "stdout",
          "text": [
            "[1,     1] loss: 0.000\n",
            "[1,     2] loss: 0.000\n",
            "[1,     3] loss: 0.000\n",
            "[1,     4] loss: 0.000\n",
            "[1,     5] loss: 0.000\n",
            "[2,     1] loss: 0.000\n",
            "[2,     2] loss: 0.000\n",
            "[2,     3] loss: 0.000\n",
            "[2,     4] loss: 0.000\n",
            "[2,     5] loss: 0.000\n",
            "[3,     1] loss: 0.000\n",
            "[3,     2] loss: 0.000\n",
            "[3,     3] loss: 0.000\n",
            "[3,     4] loss: 0.000\n",
            "[3,     5] loss: 0.000\n",
            "[4,     1] loss: 0.000\n",
            "[4,     2] loss: 0.000\n",
            "[4,     3] loss: 0.000\n",
            "[4,     4] loss: 0.000\n",
            "[4,     5] loss: 0.000\n",
            "[5,     1] loss: 0.000\n",
            "[5,     2] loss: 0.000\n",
            "[5,     3] loss: 0.000\n",
            "[5,     4] loss: 0.000\n",
            "[5,     5] loss: 0.000\n",
            "Finished Training\n"
          ]
        }
      ],
      "source": [
        "for epoch in range(5):   # 데이터셋을 수차례 반복합니다.\n",
        "\n",
        "    running_loss = 0.0\n",
        "    for i, data in enumerate(trainloader, 0):\n",
        "        # [inputs, labels]의 목록인 data로부터 입력을 받은 후;\n",
        "        inputs, labels = data\n",
        "\n",
        "        # 변화도(Gradient) 매개변수를 0으로 만들고\n",
        "        optimizer.zero_grad()\n",
        "\n",
        "        # 순전파 + 역전파 + 최적화를 한 후\n",
        "        outputs = net(inputs)\n",
        "        loss = criterion(outputs, labels)\n",
        "        loss.backward()\n",
        "        optimizer.step()\n",
        "\n",
        "        # 통계를 출력합니다.\n",
        "        running_loss += loss.item()\n",
        "        #if i % 2000 == 1999:    # print every 2000 mini-batches\n",
        "        print('[%d, %5d] loss: %.3f' %\n",
        "                  (epoch + 1, i + 1, running_loss / 2000))\n",
        "        running_loss = 0.0\n",
        "\n",
        "print('Finished Training')"
      ]
    },
    {
      "cell_type": "code",
      "execution_count": null,
      "metadata": {
        "colab": {
          "base_uri": "https://localhost:8080/",
          "height": 327
        },
        "id": "awmmLZhWVkN9",
        "outputId": "e3c72475-f9cc-48ad-ef0b-0ecc3e4812e1"
      },
      "outputs": [
        {
          "output_type": "stream",
          "name": "stderr",
          "text": [
            "/usr/local/lib/python3.7/dist-packages/torch/utils/data/dataloader.py:481: UserWarning: This DataLoader will create 4 worker processes in total. Our suggested max number of worker in current system is 2, which is smaller than what this DataLoader is going to create. Please be aware that excessive worker creation might get DataLoader running slow or even freeze, lower the worker number to avoid potential slowness/freeze if necessary.\n",
            "  cpuset_checked))\n"
          ]
        },
        {
          "output_type": "stream",
          "name": "stdout",
          "text": [
            "(3, 36, 70)\n",
            "(36, 70, 3)\n",
            "GroundTruth:    cat   cat\n"
          ]
        },
        {
          "output_type": "display_data",
          "data": {
            "text/plain": [
              "<Figure size 432x288 with 1 Axes>"
            ],
            "image/png": "[encoded data removed]"
          },
          "metadata": {
            "needs_background": "light"
          }
        }
      ],
      "source": [
        "dataiter = iter(trainloader)\n",
        "images, labels = dataiter.next()\n",
        "\n",
        "# 이미지를 출력합니다.\n",
        "imshow(torchvision.utils.make_grid(images))\n",
        "print('GroundTruth: ', ' '.join('%5s' % classes[labels[j]] for j in range(2)))"
      ]
    },
    {
      "cell_type": "code",
      "execution_count": null,
      "metadata": {
        "id": "1bJE-aA_VkN9"
      },
      "outputs": [],
      "source": [
        "outputs = net(images)"
      ]
    },
    {
      "cell_type": "code",
      "execution_count": null,
      "metadata": {
        "colab": {
          "base_uri": "https://localhost:8080/"
        },
        "id": "9cQgL_scVkN9",
        "outputId": "485eadf7-4395-41a6-f37a-b61ea45b2b8a"
      },
      "outputs": [
        {
          "output_type": "stream",
          "name": "stdout",
          "text": [
            "Predicted:    cat   cat\n"
          ]
        }
      ],
      "source": [
        "_, predicted = torch.max(outputs, 1)\n",
        "\n",
        "print('Predicted: ', ' '.join('%5s' % classes[predicted[j]]\n",
        "                              for j in range(2)))"
      ]
    },
    {
      "cell_type": "code",
      "execution_count": null,
      "metadata": {
        "id": "V3tEp_zbVkN-"
      },
      "outputs": [],
      "source": [
        ""
      ]
    }
  ],
  "metadata": {
    "kernelspec": {
      "display_name": "Python 3 (ipykernel)",
      "language": "python",
      "name": "python3"
    },
    "language_info": {
      "codemirror_mode": {
        "name": "ipython",
        "version": 3
      },
      "file_extension": ".py",
      "mimetype": "text/x-python",
      "name": "python",
      "nbconvert_exporter": "python",
      "pygments_lexer": "ipython3",
      "version": "3.9.9"
    },
    "colab": {
      "name": "ch6_CNN_실습.ipynb",
      "provenance": []
    }
  },
  "nbformat": 4,
  "nbformat_minor": 0
}